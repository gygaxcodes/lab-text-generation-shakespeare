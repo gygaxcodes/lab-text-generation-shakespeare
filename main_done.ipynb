{
  "cells": [
    {
      "cell_type": "markdown",
      "metadata": {
        "id": "-aEo7AwhXqSd"
      },
      "source": [
        "# Lab | Text Generation from Shakespeare's Sonnet\n",
        "\n",
        "This notebook explores the fascinating domain of text generation using a deep learning model trained on Shakespeare's sonnets.\n",
        "\n",
        "The objective is to create a neural network capable of generating text sequences that mimic the style and language of Shakespeare.\n",
        "\n",
        "By utilizing a Recurrent Neural Network (RNN) with Long Short-Term Memory (LSTM) layers, this project aims to demonstrate how a model can learn and replicate the complex patterns of early modern English.\n",
        "\n",
        "The dataset used consists of Shakespeare's sonnets, which are preprocessed and tokenized to serve as input for the model.\n",
        "\n",
        "Throughout this notebook, you will see the steps taken to prepare the data, build and train the model, and evaluate its performance in generating text.\n",
        "\n",
        "This lab provides a hands-on approach to understanding the intricacies of natural language processing (NLP) and the potential of machine learning in creative text generation."
      ]
    },
    {
      "cell_type": "markdown",
      "metadata": {
        "id": "ydz3bX2cXqSf"
      },
      "source": [
        "Let's import necessary libraries"
      ]
    },
    {
      "cell_type": "code",
      "execution_count": 1,
      "metadata": {
        "id": "BOwsuGQQY9OL",
        "tags": []
      },
      "outputs": [],
      "source": [
        "from tensorflow.keras.preprocessing.sequence import pad_sequences\n",
        "from tensorflow.keras.layers import Embedding, LSTM, Dense, Dropout, Bidirectional\n",
        "from tensorflow.keras.preprocessing.text import Tokenizer\n",
        "from tensorflow.keras.models import Sequential\n",
        "from tensorflow.keras.optimizers import Adam\n",
        "from tensorflow.keras import regularizers\n",
        "import tensorflow.keras.utils as ku\n",
        "import numpy as np"
      ]
    },
    {
      "cell_type": "markdown",
      "metadata": {
        "id": "zWUkDgF9XqSg"
      },
      "source": [
        "Let's get the data!"
      ]
    },
    {
      "cell_type": "code",
      "execution_count": 2,
      "metadata": {
        "tags": [],
        "id": "WCPsR7jHXqSg"
      },
      "outputs": [],
      "source": [
        "import requests\n",
        "url = 'https://raw.githubusercontent.com/martin-gorner/tensorflow-rnn-shakespeare/master/shakespeare/sonnets.txt'\n",
        "resp = requests.get(url)\n",
        "with open('sonnets.txt', 'wb') as f:\n",
        "    f.write(resp.content)\n",
        "\n",
        "data = open('sonnets.txt').read()\n",
        "\n",
        "corpus = data.lower().split(\"\\n\")"
      ]
    },
    {
      "cell_type": "code",
      "source": [
        "print(corpus)"
      ],
      "metadata": {
        "colab": {
          "base_uri": "https://localhost:8080/"
        },
        "id": "4czWhfEAZ3x8",
        "outputId": "bb0dca9e-f893-49ec-8f7d-a9cec3acfc26"
      },
      "execution_count": 3,
      "outputs": [
        {
          "output_type": "stream",
          "name": "stdout",
          "text": [
            "['\\tsonnets', '', '', '', 'to the only begetter of', 'these insuing sonnets', 'mr. w. h. all happiness', 'and that eternity', 'promised by', 'our ever-living poet wisheth', 'the well-wishing', 'adventurer in', 'setting forth', 't. t.', '', '', 'i.', '', 'from fairest creatures we desire increase,', \"that thereby beauty's rose might never die,\", 'but as the riper should by time decease,', 'his tender heir might bear his memory:', 'but thou, contracted to thine own bright eyes,', \"feed'st thy light'st flame with self-substantial fuel,\", 'making a famine where abundance lies,', 'thyself thy foe, to thy sweet self too cruel.', \"thou that art now the world's fresh ornament\", 'and only herald to the gaudy spring,', 'within thine own bud buriest thy content', 'and, tender churl, makest waste in niggarding.', '  pity the world, or else this glutton be,', \"  to eat the world's due, by the grave and thee.\", '', 'ii.', '', 'when forty winters shall beseige thy brow,', \"and dig deep trenches in thy beauty's field,\", \"thy youth's proud livery, so gazed on now,\", \"will be a tatter'd weed, of small worth held:\", \"then being ask'd where all thy beauty lies,\", 'where all the treasure of thy lusty days,', 'to say, within thine own deep-sunken eyes,', 'were an all-eating shame and thriftless praise.', \"how much more praise deserved thy beauty's use,\", \"if thou couldst answer 'this fair child of mine\", \"shall sum my count and make my old excuse,'\", 'proving his beauty by succession thine!', '  this were to be new made when thou art old,', \"  and see thy blood warm when thou feel'st it cold.\", '', 'iii.', '', 'look in thy glass, and tell the face thou viewest', 'now is the time that face should form another;', 'whose fresh repair if now thou not renewest,', 'thou dost beguile the world, unbless some mother.', \"for where is she so fair whose unear'd womb\", 'disdains the tillage of thy husbandry?', 'or who is he so fond will be the tomb', 'of his self-love, to stop posterity?', \"thou art thy mother's glass, and she in thee\", 'calls back the lovely april of her prime:', 'so thou through windows of thine age shall see', 'despite of wrinkles this thy golden time.', \"  but if thou live, remember'd not to be,\", '  die single, and thine image dies with thee.', '', 'iv.', '', 'unthrifty loveliness, why dost thou spend', \"upon thyself thy beauty's legacy?\", \"nature's bequest gives nothing but doth lend,\", 'and being frank she lends to those are free.', 'then, beauteous niggard, why dost thou abuse', 'the bounteous largess given thee to give?', 'profitless usurer, why dost thou use', 'so great a sum of sums, yet canst not live?', 'for having traffic with thyself alone,', 'thou of thyself thy sweet self dost deceive.', 'then how, when nature calls thee to be gone,', 'what acceptable audit canst thou leave?', \"  thy unused beauty must be tomb'd with thee,\", \"  which, used, lives th' executor to be.\", '', 'v.', '', 'those hours, that with gentle work did frame', 'the lovely gaze where every eye doth dwell,', 'will play the tyrants to the very same', 'and that unfair which fairly doth excel:', 'for never-resting time leads summer on', 'to hideous winter and confounds him there;', \"sap cheque'd with frost and lusty leaves quite gone,\", \"beauty o'ersnow'd and bareness every where:\", \"then, were not summer's distillation left,\", 'a liquid prisoner pent in walls of glass,', \"beauty's effect with beauty were bereft,\", 'nor it nor no remembrance what it was:', \"  but flowers distill'd though they with winter meet,\", '  leese but their show; their substance still lives sweet.', '', 'vi.', '', \"then let not winter's ragged hand deface\", \"in thee thy summer, ere thou be distill'd:\", 'make sweet some vial; treasure thou some place', \"with beauty's treasure, ere it be self-kill'd.\", 'that use is not forbidden usury,', 'which happies those that pay the willing loan;', \"that's for thyself to breed another thee,\", 'or ten times happier, be it ten for one;', 'ten times thyself were happier than thou art,', 'if ten of thine ten times refigured thee:', 'then what could death do, if thou shouldst depart,', 'leaving thee living in posterity?', \"  be not self-will'd, for thou art much too fair\", \"  to be death's conquest and make worms thine heir.\", '', 'vii.', '', 'lo! in the orient when the gracious light', 'lifts up his burning head, each under eye', 'doth homage to his new-appearing sight,', 'serving with looks his sacred majesty;', \"and having climb'd the steep-up heavenly hill,\", 'resembling strong youth in his middle age,', 'yet mortal looks adore his beauty still,', 'attending on his golden pilgrimage;', 'but when from highmost pitch, with weary car,', 'like feeble age, he reeleth from the day,', \"the eyes, 'fore duteous, now converted are\", 'from his low tract and look another way:', '  so thou, thyself out-going in thy noon,', \"  unlook'd on diest, unless thou get a son.\", '', 'viii.', '', \"music to hear, why hear'st thou music sadly?\", 'sweets with sweets war not, joy delights in joy.', 'why lovest thou that which thou receivest not gladly,', 'or else receivest with pleasure thine annoy?', 'if the true concord of well-tuned sounds,', 'by unions married, do offend thine ear,', 'they do but sweetly chide thee, who confounds', 'in singleness the parts that thou shouldst bear.', 'mark how one string, sweet husband to another,', 'strikes each in each by mutual ordering,', 'resembling sire and child and happy mother', 'who all in one, one pleasing note do sing:', '  whose speechless song, being many, seeming one,', \"  sings this to thee: 'thou single wilt prove none.'\", '', 'ix.', '', \"is it for fear to wet a widow's eye\", 'that thou consumest thyself in single life?', 'ah! if thou issueless shalt hap to die.', 'the world will wail thee, like a makeless wife;', 'the world will be thy widow and still weep', 'that thou no form of thee hast left behind,', 'when every private widow well may keep', \"by children's eyes her husband's shape in mind.\", 'look, what an unthrift in the world doth spend', 'shifts but his place, for still the world enjoys it;', \"but beauty's waste hath in the world an end,\", 'and kept unused, the user so destroys it.', '  no love toward others in that bosom sits', '  that on himself such murderous shame commits.', '', 'x.', '', \"for shame! deny that thou bear'st love to any,\", 'who for thyself art so unprovident.', 'grant, if thou wilt, thou art beloved of many,', 'but that thou none lovest is most evident;', \"for thou art so possess'd with murderous hate\", \"that 'gainst thyself thou stick'st not to conspire.\", 'seeking that beauteous roof to ruinate', 'which to repair should be thy chief desire.', 'o, change thy thought, that i may change my mind!', 'shall hate be fairer lodged than gentle love?', 'be, as thy presence is, gracious and kind,', 'or to thyself at least kind-hearted prove:', '  make thee another self, for love of me,', '  that beauty still may live in thine or thee.', '', 'xi.', '', 'as fast as thou shalt wane, so fast thou growest', 'in one of thine, from that which thou departest;', 'and that fresh blood which youngly thou bestowest', 'thou mayst call thine when thou from youth convertest.', 'herein lives wisdom, beauty and increase:', 'without this, folly, age and cold decay:', 'if all were minded so, the times should cease', 'and threescore year would make the world away.', 'let those whom nature hath not made for store,', 'harsh featureless and rude, barrenly perish:', \"look, whom she best endow'd she gave the more;\", 'which bounteous gift thou shouldst in bounty cherish:', '  she carved thee for her seal, and meant thereby', '  thou shouldst print more, not let that copy die.', '', 'xii.', '', 'when i do count the clock that tells the time,', 'and see the brave day sunk in hideous night;', 'when i behold the violet past prime,', \"and sable curls all silver'd o'er with white;\", 'when lofty trees i see barren of leaves', 'which erst from heat did canopy the herd,', \"and summer's green all girded up in sheaves\", 'borne on the bier with white and bristly beard,', 'then of thy beauty do i question make,', 'that thou among the wastes of time must go,', 'since sweets and beauties do themselves forsake', 'and die as fast as they see others grow;', \"  and nothing 'gainst time's scythe can make defence\", '  save breed, to brave him when he takes thee hence.', '', 'xiii.', '', 'o, that you were yourself! but, love, you are', 'no longer yours than you yourself here live:', 'against this coming end you should prepare,', 'and your sweet semblance to some other give.', 'so should that beauty which you hold in lease', 'find no determination: then you were', \"yourself again after yourself's decease,\", 'when your sweet issue your sweet form should bear.', 'who lets so fair a house fall to decay,', 'which husbandry in honour might uphold', \"against the stormy gusts of winter's day\", \"and barren rage of death's eternal cold?\", '  o, none but unthrifts! dear my love, you know', '  you had a father: let your son say so.', '', 'xiv.', '', 'not from the stars do i my judgment pluck;', 'and yet methinks i have astronomy,', 'but not to tell of good or evil luck,', \"of plagues, of dearths, or seasons' quality;\", 'nor can i fortune to brief minutes tell,', 'pointing to each his thunder, rain and wind,', 'or say with princes if it shall go well,', 'by oft predict that i in heaven find:', 'but from thine eyes my knowledge i derive,', 'and, constant stars, in them i read such art', 'as truth and beauty shall together thrive,', 'if from thyself to store thou wouldst convert;', '  or else of thee this i prognosticate:', \"  thy end is truth's and beauty's doom and date.\", '', 'xv.', '', 'when i consider every thing that grows', 'holds in perfection but a little moment,', 'that this huge stage presenteth nought but shows', 'whereon the stars in secret influence comment;', 'when i perceive that men as plants increase,', \"cheered and cheque'd even by the self-same sky,\", 'vaunt in their youthful sap, at height decrease,', 'and wear their brave state out of memory;', 'then the conceit of this inconstant stay', 'sets you most rich in youth before my sight,', 'where wasteful time debateth with decay,', 'to change your day of youth to sullied night;', '  and all in war with time for love of you,', '  as he takes from you, i engraft you new.', '', 'xvi.', '', 'but wherefore do not you a mightier way', 'make war upon this bloody tyrant, time?', 'and fortify yourself in your decay', 'with means more blessed than my barren rhyme?', 'now stand you on the top of happy hours,', 'and many maiden gardens yet unset', 'with virtuous wish would bear your living flowers,', 'much liker than your painted counterfeit:', 'so should the lines of life that life repair,', \"which this, time's pencil, or my pupil pen,\", 'neither in inward worth nor outward fair,', 'can make you live yourself in eyes of men.', '  to give away yourself keeps yourself still,', '  and you must live, drawn by your own sweet skill.', '', 'xvii.', '', 'who will believe my verse in time to come,', \"if it were fill'd with your most high deserts?\", 'though yet, heaven knows, it is but as a tomb', 'which hides your life and shows not half your parts.', 'if i could write the beauty of your eyes', 'and in fresh numbers number all your graces,', \"the age to come would say 'this poet lies:\", \"such heavenly touches ne'er touch'd earthly faces.'\", \"so should my papers yellow'd with their age\", \"be scorn'd like old men of less truth than tongue,\", \"and your true rights be term'd a poet's rage\", 'and stretched metre of an antique song:', '  but were some child of yours alive that time,', '  you should live twice; in it and in my rhyme.', '', 'xviii.', '', \"shall i compare thee to a summer's day?\", 'thou art more lovely and more temperate:', 'rough winds do shake the darling buds of may,', \"and summer's lease hath all too short a date:\", 'sometime too hot the eye of heaven shines,', \"and often is his gold complexion dimm'd;\", 'and every fair from fair sometime declines,', \"by chance or nature's changing course untrimm'd;\", 'but thy eternal summer shall not fade', 'nor lose possession of that fair thou owest;', \"nor shall death brag thou wander'st in his shade,\", 'when in eternal lines to time thou growest:', '  so long as men can breathe or eyes can see,', '  so long lives this and this gives life to thee.', '', 'xix.', '', \"devouring time, blunt thou the lion's paws,\", 'and make the earth devour her own sweet brood;', \"pluck the keen teeth from the fierce tiger's jaws,\", 'and burn the long-lived phoenix in her blood;', 'make glad and sorry seasons as thou fleets,', \"and do whate'er thou wilt, swift-footed time,\", 'to the wide world and all her fading sweets;', 'but i forbid thee one most heinous crime:', \"o, carve not with thy hours my love's fair brow,\", 'nor draw no lines there with thine antique pen;', 'him in thy course untainted do allow', \"for beauty's pattern to succeeding men.\", '  yet, do thy worst, old time: despite thy wrong,', '  my love shall in my verse ever live young.', '', 'xx.', '', \"a woman's face with nature's own hand painted\", 'hast thou, the master-mistress of my passion;', \"a woman's gentle heart, but not acquainted\", \"with shifting change, as is false women's fashion;\", 'an eye more bright than theirs, less false in rolling,', 'gilding the object whereupon it gazeth;', \"a man in hue, all 'hues' in his controlling,\", \"much steals men's eyes and women's souls amazeth.\", 'and for a woman wert thou first created;', 'till nature, as she wrought thee, fell a-doting,', 'and by addition me of thee defeated,', 'by adding one thing to my purpose nothing.', \"  but since she prick'd thee out for women's pleasure,\", \"  mine be thy love and thy love's use their treasure.\", '', 'xxi.', '', 'so is it not with me as with that muse', \"stirr'd by a painted beauty to his verse,\", 'who heaven itself for ornament doth use', 'and every fair with his fair doth rehearse', 'making a couplement of proud compare,', \"with sun and moon, with earth and sea's rich gems,\", \"with april's first-born flowers, and all things rare\", \"that heaven's air in this huge rondure hems.\", \"o' let me, true in love, but truly write,\", 'and then believe me, my love is as fair', \"as any mother's child, though not so bright\", \"as those gold candles fix'd in heaven's air:\", '  let them say more than like of hearsay well;', '  i will not praise that purpose not to sell.', '', 'xxii.', '', 'my glass shall not persuade me i am old,', 'so long as youth and thou are of one date;', \"but when in thee time's furrows i behold,\", 'then look i death my days should expiate.', 'for all that beauty that doth cover thee', 'is but the seemly raiment of my heart,', 'which in thy breast doth live, as thine in me:', 'how can i then be elder than thou art?', 'o, therefore, love, be of thyself so wary', 'as i, not for myself, but for thee will;', 'bearing thy heart, which i will keep so chary', 'as tender nurse her babe from faring ill.', '  presume not on thy heart when mine is slain;', '  thou gavest me thine, not to give back again.', '', 'xxiii.', '', 'as an unperfect actor on the stage', 'who with his fear is put besides his part,', 'or some fierce thing replete with too much rage,', \"whose strength's abundance weakens his own heart.\", 'so i, for fear of trust, forget to say', \"the perfect ceremony of love's rite,\", \"and in mine own love's strength seem to decay,\", \"o'ercharged with burden of mine own love's might.\", 'o, let my books be then the eloquence', 'and dumb presagers of my speaking breast,', 'who plead for love and look for recompense', \"more than that tongue that more hath more express'd.\", '  o, learn to read what silent love hath writ:', \"  to hear with eyes belongs to love's fine wit.\", '', 'xxiv.', '', \"mine eye hath play'd the painter and hath stell'd\", \"thy beauty's form in table of my heart;\", \"my body is the frame wherein 'tis held,\", \"and perspective it is the painter's art.\", 'for through the painter must you see his skill,', 'to find where your true image pictured lies;', \"which in my bosom's shop is hanging still,\", 'that hath his windows glazed with thine eyes.', 'now see what good turns eyes for eyes have done:', 'mine eyes have drawn thy shape, and thine for me', 'are windows to my breast, where-through the sun', 'delights to peep, to gaze therein on thee;', '  yet eyes this cunning want to grace their art;', '  they draw but what they see, know not the heart.', '', 'xxv.', '', 'let those who are in favour with their stars', 'of public honour and proud titles boast,', 'whilst i, whom fortune of such triumph bars,', \"unlook'd for joy in that i honour most.\", \"great princes' favourites their fair leaves spread\", \"but as the marigold at the sun's eye,\", 'and in themselves their pride lies buried,', 'for at a frown they in their glory die.', 'the painful warrior famoused for fight,', \"after a thousand victories once foil'd,\", 'is from the book of honour razed quite,', \"and all the rest forgot for which he toil'd:\", '  then happy i, that love and am beloved', '  where i may not remove nor be removed.', '', 'xxvi.', '', 'lord of my love, to whom in vassalage', 'thy merit hath my duty strongly knit,', 'to thee i send this written embassage,', 'to witness duty, not to show my wit:', 'duty so great, which wit so poor as mine', 'may make seem bare, in wanting words to show it,', 'but that i hope some good conceit of thine', \"in thy soul's thought, all naked, will bestow it;\", 'till whatsoever star that guides my moving', 'points on me graciously with fair aspect', \"and puts apparel on my tatter'd loving,\", 'to show me worthy of thy sweet respect:', '  then may i dare to boast how i do love thee;', '  till then not show my head where thou mayst prove me.', '', 'xxvii.', '', 'weary with toil, i haste me to my bed,', 'the dear repose for limbs with travel tired;', 'but then begins a journey in my head,', \"to work my mind, when body's work's expired:\", 'for then my thoughts, from far where i abide,', 'intend a zealous pilgrimage to thee,', 'and keep my drooping eyelids open wide,', 'looking on darkness which the blind do see', \"save that my soul's imaginary sight\", 'presents thy shadow to my sightless view,', 'which, like a jewel hung in ghastly night,', 'makes black night beauteous and her old face new.', '  lo! thus, by day my limbs, by night my mind,', '  for thee and for myself no quiet find.', '', 'xxviii.', '', 'how can i then return in happy plight,', \"that am debarr'd the benefit of rest?\", \"when day's oppression is not eased by night,\", \"but day by night, and night by day, oppress'd?\", \"and each, though enemies to either's reign,\", 'do in consent shake hands to torture me;', 'the one by toil, the other to complain', 'how far i toil, still farther off from thee.', 'i tell the day, to please them thou art bright', 'and dost him grace when clouds do blot the heaven:', \"so flatter i the swart-complexion'd night,\", \"when sparkling stars twire not thou gild'st the even.\", 'but day doth daily draw my sorrows longer', \"  and night doth nightly make grief's strength\", '  \\tseem stronger.', '', 'xxix.', '', \"when, in disgrace with fortune and men's eyes,\", 'i all alone beweep my outcast state', 'and trouble deal heaven with my bootless cries', 'and look upon myself and curse my fate,', 'wishing me like to one more rich in hope,', \"featured like him, like him with friends possess'd,\", \"desiring this man's art and that man's scope,\", 'with what i most enjoy contented least;', 'yet in these thoughts myself almost despising,', 'haply i think on thee, and then my state,', 'like to the lark at break of day arising', \"from sullen earth, sings hymns at heaven's gate;\", \"  for thy sweet love remember'd such wealth brings\", '  that then i scorn to change my state with kings.', '', 'xxx.', '', 'when to the sessions of sweet silent thought', 'i summon up remembrance of things past,', 'i sigh the lack of many a thing i sought,', \"and with old woes new wail my dear time's waste:\", 'then can i drown an eye, unused to flow,', \"for precious friends hid in death's dateless night,\", \"and weep afresh love's long since cancell'd woe,\", \"and moan the expense of many a vanish'd sight:\", 'then can i grieve at grievances foregone,', \"and heavily from woe to woe tell o'er\", 'the sad account of fore-bemoaned moan,', 'which i new pay as if not paid before.', '  but if the while i think on thee, dear friend,', '  all losses are restored and sorrows end.', '', 'xxxi.', '', 'thy bosom is endeared with all hearts,', 'which i by lacking have supposed dead,', \"and there reigns love and all love's loving parts,\", 'and all those friends which i thought buried.', 'how many a holy and obsequious tear', \"hath dear religious love stol'n from mine eye\", 'as interest of the dead, which now appear', 'but things removed that hidden in thee lie!', 'thou art the grave where buried love doth live,', 'hung with the trophies of my lovers gone,', 'who all their parts of me to thee did give;', 'that due of many now is thine alone:', '  their images i loved i view in thee,', '  and thou, all they, hast all the all of me.', '', 'xxxii.', '', 'if thou survive my well-contented day,', 'when that churl death my bones with dust shall cover,', 'and shalt by fortune once more re-survey', 'these poor rude lines of thy deceased lover,', 'compare them with the bettering of the time,', \"and though they be outstripp'd by every pen,\", 'reserve them for my love, not for their rhyme,', 'exceeded by the height of happier men.', 'o, then vouchsafe me but this loving thought:', \"'had my friend's muse grown with this growing age,\", 'a dearer birth than this his love had brought,', 'to march in ranks of better equipage:', '  but since he died and poets better prove,', \"  theirs for their style i'll read, his for his love.'\", '', 'xxxiii.', '', 'full many a glorious morning have i seen', 'flatter the mountain-tops with sovereign eye,', 'kissing with golden face the meadows green,', 'gilding pale streams with heavenly alchemy;', 'anon permit the basest clouds to ride', 'with ugly rack on his celestial face,', 'and from the forlorn world his visage hide,', 'stealing unseen to west with this disgrace:', 'even so my sun one early morn did shine', 'with all triumphant splendor on my brow;', 'but out, alack! he was but one hour mine;', \"the region cloud hath mask'd him from me now.\", '  yet him for this my love no whit disdaineth;', \"  suns of the world may stain when heaven's sun staineth.\", '', 'xxxiv.', '', 'why didst thou promise such a beauteous day,', 'and make me travel forth without my cloak,', \"to let base clouds o'ertake me in my way,\", 'hiding thy bravery in their rotten smoke?', \"'tis not enough that through the cloud thou break,\", 'to dry the rain on my storm-beaten face,', 'for no man well of such a salve can speak', 'that heals the wound and cures not the disgrace:', 'nor can thy shame give physic to my grief;', 'though thou repent, yet i have still the loss:', \"the offender's sorrow lends but weak relief\", \"to him that bears the strong offence's cross.\", '  ah! but those tears are pearl which thy love sheds,', '  and they are rich and ransom all ill deeds.', '', 'xxxv.', '', 'no more be grieved at that which thou hast done:', 'roses have thorns, and silver fountains mud;', 'clouds and eclipses stain both moon and sun,', 'and loathsome canker lives in sweetest bud.', 'all men make faults, and even i in this,', 'authorizing thy trespass with compare,', 'myself corrupting, salving thy amiss,', 'excusing thy sins more than thy sins are;', 'for to thy sensual fault i bring in sense--', 'thy adverse party is thy advocate--', \"and 'gainst myself a lawful plea commence:\", 'such civil war is in my love and hate', '  that i an accessary needs must be', '  to that sweet thief which sourly robs from me.', '', 'xxxvi.', '', 'let me confess that we two must be twain,', 'although our undivided loves are one:', 'so shall those blots that do with me remain', 'without thy help by me be borne alone.', 'in our two loves there is but one respect,', 'though in our lives a separable spite,', \"which though it alter not love's sole effect,\", \"yet doth it steal sweet hours from love's delight.\", 'i may not evermore acknowledge thee,', 'lest my bewailed guilt should do thee shame,', 'nor thou with public kindness honour me,', 'unless thou take that honour from thy name:', '  but do not so; i love thee in such sort', '  as, thou being mine, mine is thy good report.', '', 'xxxvii.', '', 'as a decrepit father takes delight', 'to see his active child do deeds of youth,', \"so i, made lame by fortune's dearest spite,\", 'take all my comfort of thy worth and truth.', 'for whether beauty, birth, or wealth, or wit,', 'or any of these all, or all, or more,', 'entitled in thy parts do crowned sit,', 'i make my love engrafted to this store:', 'so then i am not lame, poor, nor despised,', 'whilst that this shadow doth such substance give', 'that i in thy abundance am sufficed', 'and by a part of all thy glory live.', '  look, what is best, that best i wish in thee:', '  this wish i have; then ten times happy me!', '', 'xxxviii.', '', 'how can my muse want subject to invent,', \"while thou dost breathe, that pour'st into my verse\", 'thine own sweet argument, too excellent', 'for every vulgar paper to rehearse?', 'o, give thyself the thanks, if aught in me', 'worthy perusal stand against thy sight;', \"for who's so dumb that cannot write to thee,\", 'when thou thyself dost give invention light?', 'be thou the tenth muse, ten times more in worth', 'than those old nine which rhymers invocate;', 'and he that calls on thee, let him bring forth', 'eternal numbers to outlive long date.', '  if my slight muse do please these curious days,', '  the pain be mine, but thine shall be the praise.', '', 'xxxix.', '', 'o, how thy worth with manners may i sing,', 'when thou art all the better part of me?', 'what can mine own praise to mine own self bring?', \"and what is 't but mine own when i praise thee?\", 'even for this let us divided live,', 'and our dear love lose name of single one,', 'that by this separation i may give', 'that due to thee which thou deservest alone.', 'o absence, what a torment wouldst thou prove,', 'were it not thy sour leisure gave sweet leave', 'to entertain the time with thoughts of love,', 'which time and thoughts so sweetly doth deceive,', '  and that thou teachest how to make one twain,', '  by praising him here who doth hence remain!', '', 'xl.', '', 'take all my loves, my love, yea, take them all;', 'what hast thou then more than thou hadst before?', 'no love, my love, that thou mayst true love call;', 'all mine was thine before thou hadst this more.', 'then if for my love thou my love receivest,', 'i cannot blame thee for my love thou usest;', 'but yet be blamed, if thou thyself deceivest', 'by wilful taste of what thyself refusest.', 'i do forgive thy robbery, gentle thief,', 'although thou steal thee all my poverty;', 'and yet, love knows, it is a greater grief', \"to bear love's wrong than hate's known injury.\", '  lascivious grace, in whom all ill well shows,', '  kill me with spites; yet we must not be foes.', '', 'xli.', '', 'those petty wrongs that liberty commits,', 'when i am sometime absent from thy heart,', 'thy beauty and thy years full well befits,', 'for still temptation follows where thou art.', 'gentle thou art and therefore to be won,', 'beauteous thou art, therefore to be assailed;', \"and when a woman woos, what woman's son\", 'will sourly leave her till she have prevailed?', 'ay me! but yet thou mightest my seat forbear,', 'and chide try beauty and thy straying youth,', 'who lead thee in their riot even there', 'where thou art forced to break a twofold truth,', '  hers by thy beauty tempting her to thee,', '  thine, by thy beauty being false to me.', '', 'xlii.', '', 'that thou hast her, it is not all my grief,', 'and yet it may be said i loved her dearly;', 'that she hath thee, is of my wailing chief,', 'a loss in love that touches me more nearly.', 'loving offenders, thus i will excuse ye:', 'thou dost love her, because thou knowst i love her;', 'and for my sake even so doth she abuse me,', 'suffering my friend for my sake to approve her.', \"if i lose thee, my loss is my love's gain,\", 'and losing her, my friend hath found that loss;', 'both find each other, and i lose both twain,', 'and both for my sake lay on me this cross:', \"  but here's the joy; my friend and i are one;\", '  sweet flattery! then she loves but me alone.', '', 'xliii.', '', 'when most i wink, then do mine eyes best see,', 'for all the day they view things unrespected;', 'but when i sleep, in dreams they look on thee,', 'and darkly bright are bright in dark directed.', 'then thou, whose shadow shadows doth make bright,', \"how would thy shadow's form form happy show\", 'to the clear day with thy much clearer light,', 'when to unseeing eyes thy shade shines so!', 'how would, i say, mine eyes be blessed made', 'by looking on thee in the living day,', 'when in dead night thy fair imperfect shade', 'through heavy sleep on sightless eyes doth stay!', '  all days are nights to see till i see thee,', '  and nights bright days when dreams do show thee me.', '', 'xliv.', '', 'if the dull substance of my flesh were thought,', 'injurious distance should not stop my way;', 'for then despite of space i would be brought,', 'from limits far remote where thou dost stay.', 'no matter then although my foot did stand', 'upon the farthest earth removed from thee;', 'for nimble thought can jump both sea and land', 'as soon as think the place where he would be.', 'but ah! thought kills me that i am not thought,', 'to leap large lengths of miles when thou art gone,', 'but that so much of earth and water wrought', \"i must attend time's leisure with my moan,\", '  receiving nought by elements so slow', \"  but heavy tears, badges of either's woe.\", '', 'xlv.', '', 'the other two, slight air and purging fire,', 'are both with thee, wherever i abide;', 'the first my thought, the other my desire,', 'these present-absent with swift motion slide.', 'for when these quicker elements are gone', 'in tender embassy of love to thee,', 'my life, being made of four, with two alone', \"sinks down to death, oppress'd with melancholy;\", \"until life's composition be recured\", \"by those swift messengers return'd from thee,\", 'who even but now come back again, assured', 'of thy fair health, recounting it to me:', '  this told, i joy; but then no longer glad,', '  i send them back again and straight grow sad.', '', 'xlvi.', '', 'mine eye and heart are at a mortal war', 'how to divide the conquest of thy sight;', \"mine eye my heart thy picture's sight would bar,\", 'my heart mine eye the freedom of that right.', 'my heart doth plead that thou in him dost lie--', 'a closet never pierced with crystal eyes--', 'but the defendant doth that plea deny', 'and says in him thy fair appearance lies.', \"to 'cide this title is impanneled\", 'a quest of thoughts, all tenants to the heart,', 'and by their verdict is determined', \"the clear eye's moiety and the dear heart's part:\", \"  as thus; mine eye's due is thy outward part,\", \"  and my heart's right thy inward love of heart.\", '', 'xlvii.', '', 'betwixt mine eye and heart a league is took,', 'and each doth good turns now unto the other:', \"when that mine eye is famish'd for a look,\", 'or heart in love with sighs himself doth smother,', \"with my love's picture then my eye doth feast\", 'and to the painted banquet bids my heart;', \"another time mine eye is my heart's guest\", 'and in his thoughts of love doth share a part:', 'so, either by thy picture or my love,', 'thyself away art resent still with me;', 'for thou not farther than my thoughts canst move,', 'and i am still with them and they with thee;', '  or, if they sleep, thy picture in my sight', \"  awakes my heart to heart's and eye's delight.\", '', 'xlviii.', '', 'how careful was i, when i took my way,', 'each trifle under truest bars to thrust,', 'that to my use it might unused stay', 'from hands of falsehood, in sure wards of trust!', 'but thou, to whom my jewels trifles are,', 'most worthy of comfort, now my greatest grief,', 'thou, best of dearest and mine only care,', 'art left the prey of every vulgar thief.', \"thee have i not lock'd up in any chest,\", 'save where thou art not, though i feel thou art,', 'within the gentle closure of my breast,', 'from whence at pleasure thou mayst come and part;', \"  and even thence thou wilt be stol'n, i fear,\", '  for truth proves thievish for a prize so dear.', '', 'xlix.', '', 'against that time, if ever that time come,', 'when i shall see thee frown on my defects,', 'when as thy love hath cast his utmost sum,', \"call'd to that audit by advised respects;\", 'against that time when thou shalt strangely pass', 'and scarcely greet me with that sun thine eye,', 'when love, converted from the thing it was,', 'shall reasons find of settled gravity,--', 'against that time do i ensconce me here', 'within the knowledge of mine own desert,', 'and this my hand against myself uprear,', 'to guard the lawful reasons on thy part:', '  to leave poor me thou hast the strength of laws,', '  since why to love i can allege no cause.', '', 'l.', '', 'how heavy do i journey on the way,', \"when what i seek, my weary travel's end,\", 'doth teach that ease and that repose to say', \"'thus far the miles are measured from thy friend!'\", 'the beast that bears me, tired with my woe,', 'plods dully on, to bear that weight in me,', 'as if by some instinct the wretch did know', 'his rider loved not speed, being made from thee:', 'the bloody spur cannot provoke him on', 'that sometimes anger thrusts into his hide;', 'which heavily he answers with a groan,', 'more sharp to me than spurring to his side;', '  for that same groan doth put this in my mind;', '  my grief lies onward and my joy behind.', '', 'li.', '', 'thus can my love excuse the slow offence', 'of my dull bearer when from thee i speed:', 'from where thou art why should i haste me thence?', 'till i return, of posting is no need.', 'o, what excuse will my poor beast then find,', 'when swift extremity can seem but slow?', 'then should i spur, though mounted on the wind;', 'in winged speed no motion shall i know:', 'then can no horse with my desire keep pace;', \"therefore desire of perfect'st love being made,\", 'shall neigh--no dull flesh--in his fiery race;', 'but love, for love, thus shall excuse my jade;', '  since from thee going he went wilful-slow,', \"  towards thee i'll run, and give him leave to go.\", '', 'lii.', '', 'so am i as the rich, whose blessed key', 'can bring him to his sweet up-locked treasure,', 'the which he will not every hour survey,', 'for blunting the fine point of seldom pleasure.', 'therefore are feasts so solemn and so rare,', 'since, seldom coming, in the long year set,', 'like stones of worth they thinly placed are,', 'or captain jewels in the carcanet.', 'so is the time that keeps you as my chest,', 'or as the wardrobe which the robe doth hide,', 'to make some special instant special blest,', \"by new unfolding his imprison'd pride.\", '  blessed are you, whose worthiness gives scope,', \"  being had, to triumph, being lack'd, to hope.\", '', 'liii.', '', 'what is your substance, whereof are you made,', 'that millions of strange shadows on you tend?', 'since every one hath, every one, one shade,', 'and you, but one, can every shadow lend.', 'describe adonis, and the counterfeit', 'is poorly imitated after you;', \"on helen's cheek all art of beauty set,\", 'and you in grecian tires are painted new:', 'speak of the spring and foison of the year;', 'the one doth shadow of your beauty show,', 'the other as your bounty doth appear;', 'and you in every blessed shape we know.', '  in all external grace you have some part,', '  but you like none, none you, for constant heart.', '', 'liv.', '', 'o, how much more doth beauty beauteous seem', 'by that sweet ornament which truth doth give!', 'the rose looks fair, but fairer we it deem', 'for that sweet odour which doth in it live.', 'the canker-blooms have full as deep a dye', 'as the perfumed tincture of the roses,', 'hang on such thorns and play as wantonly', \"when summer's breath their masked buds discloses:\", 'but, for their virtue only is their show,', \"they live unwoo'd and unrespected fade,\", 'die to themselves. sweet roses do not so;', 'of their sweet deaths are sweetest odours made:', '  and so of you, beauteous and lovely youth,', '  when that shall fade, my verse distills your truth.', '', 'lv.', '', 'not marble, nor the gilded monuments', 'of princes, shall outlive this powerful rhyme;', 'but you shall shine more bright in these contents', \"than unswept stone besmear'd with sluttish time.\", 'when wasteful war shall statues overturn,', 'and broils root out the work of masonry,', \"nor mars his sword nor war's quick fire shall burn\", 'the living record of your memory.', \"'gainst death and all-oblivious enmity\", 'shall you pace forth; your praise shall still find room', 'even in the eyes of all posterity', 'that wear this world out to the ending doom.', '  so, till the judgment that yourself arise,', \"  you live in this, and dwell in lover's eyes.\", '', 'lvi.', '', 'sweet love, renew thy force; be it not said', 'thy edge should blunter be than appetite,', \"which but to-day by feeding is allay'd,\", \"to-morrow sharpen'd in his former might:\", 'so, love, be thou; although to-day thou fill', 'thy hungry eyes even till they wink with fullness,', 'to-morrow see again, and do not kill', 'the spirit of love with a perpetual dullness.', 'let this sad interim like the ocean be', 'which parts the shore, where two contracted new', 'come daily to the banks, that, when they see', 'return of love, more blest may be the view;', '  else call it winter, which being full of care', \"  makes summer's welcome thrice more wish'd, more rare.\", '', 'lvii.', '', 'being your slave, what should i do but tend', 'upon the hours and times of your desire?', 'i have no precious time at all to spend,', 'nor services to do, till you require.', 'nor dare i chide the world-without-end hour', 'whilst i, my sovereign, watch the clock for you,', 'nor think the bitterness of absence sour', 'when you have bid your servant once adieu;', 'nor dare i question with my jealous thought', 'where you may be, or your affairs suppose,', 'but, like a sad slave, stay and think of nought', 'save, where you are how happy you make those.', '  so true a fool is love that in your will,', '  though you do any thing, he thinks no ill.', '', 'lviii.', '', 'that god forbid that made me first your slave,', 'i should in thought control your times of pleasure,', 'or at your hand the account of hours to crave,', 'being your vassal, bound to stay your leisure!', 'o, let me suffer, being at your beck,', \"the imprison'd absence of your liberty;\", 'and patience, tame to sufferance, bide each cheque,', 'without accusing you of injury.', 'be where you list, your charter is so strong', 'that you yourself may privilege your time', 'to what you will; to you it doth belong', 'yourself to pardon of self-doing crime.', '  i am to wait, though waiting so be hell;', '  not blame your pleasure, be it ill or well.', '', 'lix.', '', 'if there be nothing new, but that which is', 'hath been before, how are our brains beguiled,', 'which, labouring for invention, bear amiss', 'the second burden of a former child!', 'o, that record could with a backward look,', 'even of five hundred courses of the sun,', 'show me your image in some antique book,', 'since mind at first in character was done!', 'that i might see what the old world could say', 'to this composed wonder of your frame;', 'whether we are mended, or whether better they,', 'or whether revolution be the same.', '  o, sure i am, the wits of former days', '  to subjects worse have given admiring praise.', '', 'lx.', '', 'like as the waves make towards the pebbled shore,', 'so do our minutes hasten to their end;', 'each changing place with that which goes before,', 'in sequent toil all forwards do contend.', 'nativity, once in the main of light,', \"crawls to maturity, wherewith being crown'd,\", \"crooked elipses 'gainst his glory fight,\", 'and time that gave doth now his gift confound.', 'time doth transfix the flourish set on youth', \"and delves the parallels in beauty's brow,\", \"feeds on the rarities of nature's truth,\", 'and nothing stands but for his scythe to mow:', '  and yet to times in hope my verse shall stand,', '  praising thy worth, despite his cruel hand.', '', 'lxi.', '', 'is it thy will thy image should keep open', 'my heavy eyelids to the weary night?', 'dost thou desire my slumbers should be broken,', 'while shadows like to thee do mock my sight?', \"is it thy spirit that thou send'st from thee\", 'so far from home into my deeds to pry,', 'to find out shames and idle hours in me,', 'the scope and tenor of thy jealousy?', 'o, no! thy love, though much, is not so great:', 'it is my love that keeps mine eye awake;', 'mine own true love that doth my rest defeat,', 'to play the watchman ever for thy sake:', '  for thee watch i whilst thou dost wake elsewhere,', '  from me far off, with others all too near.', '', 'lxii.', '', 'sin of self-love possesseth all mine eye', 'and all my soul and all my every part;', 'and for this sin there is no remedy,', 'it is so grounded inward in my heart.', 'methinks no face so gracious is as mine,', 'no shape so true, no truth of such account;', 'and for myself mine own worth do define,', 'as i all other in all worths surmount.', 'but when my glass shows me myself indeed,', \"beated and chopp'd with tann'd antiquity,\", 'mine own self-love quite contrary i read;', 'self so self-loving were iniquity.', \"  'tis thee, myself, that for myself i praise,\", '  painting my age with beauty of thy days.', '', 'lxiii.', '', 'against my love shall be, as i am now,', \"with time's injurious hand crush'd and o'er-worn;\", \"when hours have drain'd his blood and fill'd his brow\", 'with lines and wrinkles; when his youthful morn', \"hath travell'd on to age's steepy night,\", \"and all those beauties whereof now he's king\", \"are vanishing or vanish'd out of sight,\", 'stealing away the treasure of his spring;', 'for such a time do i now fortify', \"against confounding age's cruel knife,\", 'that he shall never cut from memory', \"my sweet love's beauty, though my lover's life:\", '  his beauty shall in these black lines be seen,', '  and they shall live, and he in them still green.', '', 'lxiv.', '', \"when i have seen by time's fell hand defaced\", 'the rich proud cost of outworn buried age;', 'when sometime lofty towers i see down-razed', 'and brass eternal slave to mortal rage;', 'when i have seen the hungry ocean gain', 'advantage on the kingdom of the shore,', 'and the firm soil win of the watery main,', 'increasing store with loss and loss with store;', 'when i have seen such interchange of state,', 'or state itself confounded to decay;', 'ruin hath taught me thus to ruminate,', 'that time will come and take my love away.', '  this thought is as a death, which cannot choose', '  but weep to have that which it fears to lose.', '', 'lxv.', '', 'since brass, nor stone, nor earth, nor boundless sea,', \"but sad mortality o'er-sways their power,\", 'how with this rage shall beauty hold a plea,', 'whose action is no stronger than a flower?', \"o, how shall summer's honey breath hold out\", 'against the wreckful siege of battering days,', 'when rocks impregnable are not so stout,', 'nor gates of steel so strong, but time decays?', 'o fearful meditation! where, alack,', \"shall time's best jewel from time's chest lie hid?\", 'or what strong hand can hold his swift foot back?', 'or who his spoil of beauty can forbid?', '  o, none, unless this miracle have might,', '  that in black ink my love may still shine bright.', '', 'lxvi.', '', 'tired with all these, for restful death i cry,', 'as, to behold desert a beggar born,', \"and needy nothing trimm'd in jollity,\", 'and purest faith unhappily forsworn,', 'and guilded honour shamefully misplaced,', 'and maiden virtue rudely strumpeted,', 'and right perfection wrongfully disgraced,', 'and strength by limping sway disabled,', 'and art made tongue-tied by authority,', 'and folly doctor-like controlling skill,', \"and simple truth miscall'd simplicity,\", 'and captive good attending captain ill:', '  tired with all these, from these would i be gone,', '  save that, to die, i leave my love alone.', '', 'lxvii.', '', 'ah! wherefore with infection should he live,', 'and with his presence grace impiety,', 'that sin by him advantage should achieve', 'and lace itself with his society?', 'why should false painting imitate his cheek', 'and steal dead seeing of his living hue?', 'why should poor beauty indirectly seek', 'roses of shadow, since his rose is true?', 'why should he live, now nature bankrupt is,', \"beggar'd of blood to blush through lively veins?\", 'for she hath no exchequer now but his,', 'and, proud of many, lives upon his gains.', '  o, him she stores, to show what wealth she had', '  in days long since, before these last so bad.', '', 'lxviii.', '', 'thus is his cheek the map of days outworn,', 'when beauty lived and died as flowers do now,', 'before the bastard signs of fair were born,', 'or durst inhabit on a living brow;', 'before the golden tresses of the dead,', 'the right of sepulchres, were shorn away,', 'to live a second life on second head;', \"ere beauty's dead fleece made another gay:\", 'in him those holy antique hours are seen,', 'without all ornament, itself and true,', \"making no summer of another's green,\", 'robbing no old to dress his beauty new;', '  and him as for a map doth nature store,', '  to show false art what beauty was of yore.', '', 'lxix.', '', \"those parts of thee that the world's eye doth view\", 'want nothing that the thought of hearts can mend;', 'all tongues, the voice of souls, give thee that due,', 'uttering bare truth, even so as foes commend.', \"thy outward thus with outward praise is crown'd;\", 'but those same tongues that give thee so thine own', 'in other accents do this praise confound', 'by seeing farther than the eye hath shown.', 'they look into the beauty of thy mind,', 'and that, in guess, they measure by thy deeds;', 'then, churls, their thoughts, although their eyes were kind,', 'to thy fair flower add the rank smell of weeds:', '  but why thy odour matcheth not thy show,', '  the solve is this, that thou dost common grow.', '', 'lxx.', '', 'that thou art blamed shall not be thy defect,', \"for slander's mark was ever yet the fair;\", 'the ornament of beauty is suspect,', \"a crow that flies in heaven's sweetest air.\", 'so thou be good, slander doth but approve', \"thy worth the greater, being woo'd of time;\", 'for canker vice the sweetest buds doth love,', \"and thou present'st a pure unstained prime.\", \"thou hast pass'd by the ambush of young days,\", \"either not assail'd or victor being charged;\", 'yet this thy praise cannot be so thy praise,', 'to tie up envy evermore enlarged:', \"  if some suspect of ill mask'd not thy show,\", '  then thou alone kingdoms of hearts shouldst owe.', '', 'lxxi.', '', 'no longer mourn for me when i am dead', 'then you shall hear the surly sullen bell', 'give warning to the world that i am fled', 'from this vile world, with vilest worms to dwell:', 'nay, if you read this line, remember not', 'the hand that writ it; for i love you so', 'that i in your sweet thoughts would be forgot', 'if thinking on me then should make you woe.', 'o, if, i say, you look upon this verse', 'when i perhaps compounded am with clay,', 'do not so much as my poor name rehearse.', 'but let your love even with my life decay,', '  lest the wise world should look into your moan', '  and mock you with me after i am gone.', '', 'lxxii.', '', 'o, lest the world should task you to recite', 'what merit lived in me, that you should love', 'after my death, dear love, forget me quite,', 'for you in me can nothing worthy prove;', 'unless you would devise some virtuous lie,', 'to do more for me than mine own desert,', 'and hang more praise upon deceased i', 'than niggard truth would willingly impart:', 'o, lest your true love may seem false in this,', 'that you for love speak well of me untrue,', 'my name be buried where my body is,', 'and live no more to shame nor me nor you.', '  for i am shamed by that which i bring forth,', '  and so should you, to love things nothing worth.', '', 'lxxiii.', '', 'that time of year thou mayst in me behold', 'when yellow leaves, or none, or few, do hang', 'upon those boughs which shake against the cold,', \"bare ruin'd choirs, where late the sweet birds sang.\", 'in me thou seest the twilight of such day', 'as after sunset fadeth in the west,', 'which by and by black night doth take away,', \"death's second self, that seals up all in rest.\", \"in me thou see'st the glowing of such fire\", 'that on the ashes of his youth doth lie,', 'as the death-bed whereon it must expire', \"consumed with that which it was nourish'd by.\", '  this thou perceivest, which makes thy love more strong,', '  to love that well which thou must leave ere long.', '', 'lxxiv.', '', 'but be contented: when that fell arrest', 'without all bail shall carry me away,', 'my life hath in this line some interest,', 'which for memorial still with thee shall stay.', 'when thou reviewest this, thou dost review', 'the very part was consecrate to thee:', 'the earth can have but earth, which is his due;', 'my spirit is thine, the better part of me:', 'so then thou hast but lost the dregs of life,', 'the prey of worms, my body being dead,', \"the coward conquest of a wretch's knife,\", 'too base of thee to be remembered.', '  the worth of that is that which it contains,', '  and that is this, and this with thee remains.', '', 'lxxv.', '', 'so are you to my thoughts as food to life,', \"or as sweet-season'd showers are to the ground;\", 'and for the peace of you i hold such strife', \"as 'twixt a miser and his wealth is found;\", 'now proud as an enjoyer and anon', 'doubting the filching age will steal his treasure,', 'now counting best to be with you alone,', \"then better'd that the world may see my pleasure;\", 'sometime all full with feasting on your sight', 'and by and by clean starved for a look;', 'possessing or pursuing no delight,', 'save what is had or must from you be took.', '  thus do i pine and surfeit day by day,', '  or gluttoning on all, or all away.', '', 'lxxvi.', '', 'why is my verse so barren of new pride,', 'so far from variation or quick change?', 'why with the time do i not glance aside', 'to new-found methods and to compounds strange?', 'why write i still all one, ever the same,', 'and keep invention in a noted weed,', 'that every word doth almost tell my name,', 'showing their birth and where they did proceed?', 'o, know, sweet love, i always write of you,', 'and you and love are still my argument;', 'so all my best is dressing old words new,', 'spending again what is already spent:', '  for as the sun is daily new and old,', '  so is my love still telling what is told.', '', 'lxxvii.', '', 'thy glass will show thee how thy beauties wear,', 'thy dial how thy precious minutes waste;', \"the vacant leaves thy mind's imprint will bear,\", 'and of this book this learning mayst thou taste.', 'the wrinkles which thy glass will truly show', 'of mouthed graves will give thee memory;', \"thou by thy dial's shady stealth mayst know\", \"time's thievish progress to eternity.\", 'look, what thy memory can not contain', 'commit to these waste blanks, and thou shalt find', \"those children nursed, deliver'd from thy brain,\", 'to take a new acquaintance of thy mind.', '  these offices, so oft as thou wilt look,', '  shall profit thee and much enrich thy book.', '', 'lxxviii.', '', 'so oft have i invoked thee for my muse', 'and found such fair assistance in my verse', 'as every alien pen hath got my use', 'and under thee their poesy disperse.', 'thine eyes that taught the dumb on high to sing', 'and heavy ignorance aloft to fly', \"have added feathers to the learned's wing\", 'and given grace a double majesty.', 'yet be most proud of that which i compile,', 'whose influence is thine and born of thee:', \"in others' works thou dost but mend the style,\", 'and arts with thy sweet graces graced be;', '  but thou art all my art and dost advance', '  as high as learning my rude ignorance.', '', 'lxxix.', '', 'whilst i alone did call upon thy aid,', 'my verse alone had all thy gentle grace,', \"but now my gracious numbers are decay'd\", 'and my sick muse doth give another place.', 'i grant, sweet love, thy lovely argument', 'deserves the travail of a worthier pen,', 'yet what of thee thy poet doth invent', 'he robs thee of and pays it thee again.', 'he lends thee virtue and he stole that word', 'from thy behavior; beauty doth he give', 'and found it in thy cheek; he can afford', 'no praise to thee but what in thee doth live.', '  then thank him not for that which he doth say,', '  since what he owes thee thou thyself dost pay.', '', 'lxxx.', '', 'o, how i faint when i of you do write,', 'knowing a better spirit doth use your name,', 'and in the praise thereof spends all his might,', 'to make me tongue-tied, speaking of your fame!', 'but since your worth, wide as the ocean is,', 'the humble as the proudest sail doth bear,', 'my saucy bark inferior far to his', 'on your broad main doth wilfully appear.', 'your shallowest help will hold me up afloat,', 'whilst he upon your soundless deep doth ride;', \"or being wreck'd, i am a worthless boat,\", 'he of tall building and of goodly pride:', '  then if he thrive and i be cast away,', '  the worst was this; my love was my decay.', '', 'lxxxi.', '', 'or i shall live your epitaph to make,', 'or you survive when i in earth am rotten;', 'from hence your memory death cannot take,', 'although in me each part will be forgotten.', 'your name from hence immortal life shall have,', 'though i, once gone, to all the world must die:', 'the earth can yield me but a common grave,', \"when you entombed in men's eyes shall lie.\", 'your monument shall be my gentle verse,', \"which eyes not yet created shall o'er-read,\", 'and tongues to be your being shall rehearse', 'when all the breathers of this world are dead;', '  you still shall live--such virtue hath my pen--', '  where breath most breathes, even in the mouths of men.', '', 'lxxxii.', '', 'i grant thou wert not married to my muse', \"and therefore mayst without attaint o'erlook\", 'the dedicated words which writers use', 'of their fair subject, blessing every book', 'thou art as fair in knowledge as in hue,', 'finding thy worth a limit past my praise,', 'and therefore art enforced to seek anew', 'some fresher stamp of the time-bettering days', 'and do so, love; yet when they have devised', 'what strained touches rhetoric can lend,', 'thou truly fair wert truly sympathized', 'in true plain words by thy true-telling friend;', '  and their gross painting might be better used', '  where cheeks need blood; in thee it is abused.', '', 'lxxxiii.', '', 'i never saw that you did painting need', 'and therefore to your fair no painting set;', 'i found, or thought i found, you did exceed', \"the barren tender of a poet's debt;\", 'and therefore have i slept in your report,', 'that you yourself being extant well might show', 'how far a modern quill doth come too short,', 'speaking of worth, what worth in you doth grow.', 'this silence for my sin you did impute,', 'which shall be most my glory, being dumb;', 'for i impair not beauty being mute,', 'when others would give life and bring a tomb.', '  there lives more life in one of your fair eyes', '  than both your poets can in praise devise.', '', 'lxxxiv.', '', 'who is it that says most? which can say more', 'than this rich praise, that you alone are you?', 'in whose confine immured is the store', 'which should example where your equal grew.', 'lean penury within that pen doth dwell', 'that to his subject lends not some small glory;', 'but he that writes of you, if he can tell', 'that you are you, so dignifies his story,', 'let him but copy what in you is writ,', 'not making worse what nature made so clear,', 'and such a counterpart shall fame his wit,', 'making his style admired every where.', '  you to your beauteous blessings add a curse,', '  being fond on praise, which makes your praises worse.', '', 'lxxxv.', '', 'my tongue-tied muse in manners holds her still,', 'while comments of your praise, richly compiled,', 'reserve their character with golden quill', 'and precious phrase by all the muses filed.', 'i think good thoughts whilst other write good words,', \"and like unletter'd clerk still cry 'amen'\", 'to every hymn that able spirit affords', \"in polish'd form of well-refined pen.\", \"hearing you praised, i say ''tis so, 'tis true,'\", 'and to the most of praise add something more;', 'but that is in my thought, whose love to you,', 'though words come hindmost, holds his rank before.', '  then others for the breath of words respect,', '  me for my dumb thoughts, speaking in effect.', '', 'lxxxvi.', '', 'was it the proud full sail of his great verse,', 'bound for the prize of all too precious you,', 'that did my ripe thoughts in my brain inhearse,', 'making their tomb the womb wherein they grew?', 'was it his spirit, by spirits taught to write', 'above a mortal pitch, that struck me dead?', 'no, neither he, nor his compeers by night', 'giving him aid, my verse astonished.', 'he, nor that affable familiar ghost', 'which nightly gulls him with intelligence', 'as victors of my silence cannot boast;', 'i was not sick of any fear from thence:', \"  but when your countenance fill'd up his line,\", \"  then lack'd i matter; that enfeebled mine.\", '', 'lxxxvii.', '', 'farewell! thou art too dear for my possessing,', \"and like enough thou know'st thy estimate:\", 'the charter of thy worth gives thee releasing;', 'my bonds in thee are all determinate.', 'for how do i hold thee but by thy granting?', 'and for that riches where is my deserving?', 'the cause of this fair gift in me is wanting,', 'and so my patent back again is swerving.', 'thyself thou gavest, thy own worth then not knowing,', 'or me, to whom thou gavest it, else mistaking;', 'so thy great gift, upon misprision growing,', 'comes home again, on better judgment making.', '  thus have i had thee, as a dream doth flatter,', '  in sleep a king, but waking no such matter.', '', 'lxxxviii.', '', 'when thou shalt be disposed to set me light,', 'and place my merit in the eye of scorn,', \"upon thy side against myself i'll fight,\", 'and prove thee virtuous, though thou art forsworn.', 'with mine own weakness being best acquainted,', 'upon thy part i can set down a story', \"of faults conceal'd, wherein i am attainted,\", 'that thou in losing me shalt win much glory:', 'and i by this will be a gainer too;', 'for bending all my loving thoughts on thee,', 'the injuries that to myself i do,', 'doing thee vantage, double-vantage me.', '  such is my love, to thee i so belong,', '  that for thy right myself will bear all wrong.', '', 'lxxxix.', '', 'say that thou didst forsake me for some fault,', 'and i will comment upon that offence;', 'speak of my lameness, and i straight will halt,', 'against thy reasons making no defence.', 'thou canst not, love, disgrace me half so ill,', 'to set a form upon desired change,', \"as i'll myself disgrace: knowing thy will,\", 'i will acquaintance strangle and look strange,', 'be absent from thy walks, and in my tongue', 'thy sweet beloved name no more shall dwell,', 'lest i, too much profane, should do it wrong', 'and haply of our old acquaintance tell.', \"  for thee against myself i'll vow debate,\", \"  for i must ne'er love him whom thou dost hate.\", '', 'xc.', '', 'then hate me when thou wilt; if ever, now;', 'now, while the world is bent my deeds to cross,', 'join with the spite of fortune, make me bow,', 'and do not drop in for an after-loss:', \"ah, do not, when my heart hath 'scoped this sorrow,\", \"come in the rearward of a conquer'd woe;\", 'give not a windy night a rainy morrow,', 'to linger out a purposed overthrow.', 'if thou wilt leave me, do not leave me last,', 'when other petty griefs have done their spite', 'but in the onset come; so shall i taste', \"at first the very worst of fortune's might,\", '  and other strains of woe, which now seem woe,', '  compared with loss of thee will not seem so.', '', 'xci.', '', 'some glory in their birth, some in their skill,', \"some in their wealth, some in their bodies' force,\", 'some in their garments, though new-fangled ill,', 'some in their hawks and hounds, some in their horse;', 'and every humour hath his adjunct pleasure,', 'wherein it finds a joy above the rest:', 'but these particulars are not my measure;', 'all these i better in one general best.', 'thy love is better than high birth to me,', \"richer than wealth, prouder than garments' cost,\", 'of more delight than hawks or horses be;', \"and having thee, of all men's pride i boast:\", '  wretched in this alone, that thou mayst take', '  all this away and me most wretched make.', '', 'xcii.', '', 'but do thy worst to steal thyself away,', 'for term of life thou art assured mine,', 'and life no longer than thy love will stay,', 'for it depends upon that love of thine.', 'then need i not to fear the worst of wrongs,', 'when in the least of them my life hath end.', 'i see a better state to me belongs', 'than that which on thy humour doth depend;', 'thou canst not vex me with inconstant mind,', 'since that my life on thy revolt doth lie.', 'o, what a happy title do i find,', 'happy to have thy love, happy to die!', \"  but what's so blessed-fair that fears no blot?\", '  thou mayst be false, and yet i know it not.', '', 'xciii.', '', 'so shall i live, supposing thou art true,', \"like a deceived husband; so love's face\", \"may still seem love to me, though alter'd new;\", 'thy looks with me, thy heart in other place:', 'for there can live no hatred in thine eye,', 'therefore in that i cannot know thy change.', \"in many's looks the false heart's history\", 'is writ in moods and frowns and wrinkles strange,', 'but heaven in thy creation did decree', 'that in thy face sweet love should ever dwell;', \"whate'er thy thoughts or thy heart's workings be,\", 'thy looks should nothing thence but sweetness tell.', \"  how like eve's apple doth thy beauty grow,\", '  if thy sweet virtue answer not thy show!', '', 'xciv.', '', 'they that have power to hurt and will do none,', 'that do not do the thing they most do show,', 'who, moving others, are themselves as stone,', 'unmoved, cold, and to temptation slow,', \"they rightly do inherit heaven's graces\", \"and husband nature's riches from expense;\", 'they are the lords and owners of their faces,', 'others but stewards of their excellence.', \"the summer's flower is to the summer sweet,\", 'though to itself it only live and die,', 'but if that flower with base infection meet,', 'the basest weed outbraves his dignity:', '  for sweetest things turn sourest by their deeds;', '  lilies that fester smell far worse than weeds.', '', 'xcv.', '', 'how sweet and lovely dost thou make the shame', 'which, like a canker in the fragrant rose,', 'doth spot the beauty of thy budding name!', 'o, in what sweets dost thou thy sins enclose!', 'that tongue that tells the story of thy days,', 'making lascivious comments on thy sport,', 'cannot dispraise but in a kind of praise;', 'naming thy name blesses an ill report.', 'o, what a mansion have those vices got', 'which for their habitation chose out thee,', \"where beauty's veil doth cover every blot,\", 'and all things turn to fair that eyes can see!', '  take heed, dear heart, of this large privilege;', '  the hardest knife ill-used doth lose his edge.', '', 'xcvi.', '', 'some say thy fault is youth, some wantonness;', 'some say thy grace is youth and gentle sport;', 'both grace and faults are loved of more and less;', 'thou makest faults graces that to thee resort.', 'as on the finger of a throned queen', \"the basest jewel will be well esteem'd,\", 'so are those errors that in thee are seen', \"to truths translated and for true things deem'd.\", 'how many lambs might the stem wolf betray,', 'if like a lamb he could his looks translate!', 'how many gazers mightst thou lead away,', 'if thou wouldst use the strength of all thy state!', '  but do not so; i love thee in such sort', '  as, thou being mine, mine is thy good report.', '', 'xcvii.', '', 'how like a winter hath my absence been', 'from thee, the pleasure of the fleeting year!', 'what freezings have i felt, what dark days seen!', \"what old december's bareness every where!\", \"and yet this time removed was summer's time,\", 'the teeming autumn, big with rich increase,', 'bearing the wanton burden of the prime,', \"like widow'd wombs after their lords' decease:\", \"yet this abundant issue seem'd to me\", \"but hope of orphans and unfather'd fruit;\", 'for summer and his pleasures wait on thee,', 'and, thou away, the very birds are mute;', \"  or, if they sing, 'tis with so dull a cheer\", \"  that leaves look pale, dreading the winter's near.\", '', 'xcviii.', '', 'from you have i been absent in the spring,', \"when proud-pied april dress'd in all his trim\", 'hath put a spirit of youth in every thing,', \"that heavy saturn laugh'd and leap'd with him.\", 'yet nor the lays of birds nor the sweet smell', 'of different flowers in odour and in hue', \"could make me any summer's story tell,\", 'or from their proud lap pluck them where they grew;', \"nor did i wonder at the lily's white,\", 'nor praise the deep vermilion in the rose;', 'they were but sweet, but figures of delight,', 'drawn after you, you pattern of all those.', \"  yet seem'd it winter still, and, you away,\", '  as with your shadow i with these did play:', '', 'xcix.', '', 'the forward violet thus did i chide:', 'sweet thief, whence didst thou steal thy sweet that smells,', \"if not from my love's breath? the purple pride\", 'which on thy soft cheek for complexion dwells', \"in my love's veins thou hast too grossly dyed.\", 'the lily i condemned for thy hand,', \"and buds of marjoram had stol'n thy hair:\", 'the roses fearfully on thorns did stand,', 'one blushing shame, another white despair;', \"a third, nor red nor white, had stol'n of both\", \"and to his robbery had annex'd thy breath;\", 'but, for his theft, in pride of all his growth', 'a vengeful canker eat him up to death.', '  more flowers i noted, yet i none could see', \"  but sweet or colour it had stol'n from thee.\", '', 'c.', '', \"where art thou, muse, that thou forget'st so long\", 'to speak of that which gives thee all thy might?', \"spend'st thou thy fury on some worthless song,\", 'darkening thy power to lend base subjects light?', 'return, forgetful muse, and straight redeem', 'in gentle numbers time so idly spent;', 'sing to the ear that doth thy lays esteem', 'and gives thy pen both skill and argument.', \"rise, resty muse, my love's sweet face survey,\", 'if time have any wrinkle graven there;', 'if any, be a satire to decay,', \"and make time's spoils despised every where.\", '  give my love fame faster than time wastes life;', \"  so thou prevent'st his scythe and crooked knife.\", '', 'ci.', '', 'o truant muse, what shall be thy amends', 'for thy neglect of truth in beauty dyed?', 'both truth and beauty on my love depends;', 'so dost thou too, and therein dignified.', 'make answer, muse: wilt thou not haply say', \"'truth needs no colour, with his colour fix'd;\", \"beauty no pencil, beauty's truth to lay;\", \"but best is best, if never intermix'd?'\", 'because he needs no praise, wilt thou be dumb?', \"excuse not silence so; for't lies in thee\", 'to make him much outlive a gilded tomb,', 'and to be praised of ages yet to be.', '  then do thy office, muse; i teach thee how', '  to make him seem long hence as he shows now.', '', 'cii.', '', \"my love is strengthen'd, though more weak in seeming;\", 'i love not less, though less the show appear:', 'that love is merchandized whose rich esteeming', \"the owner's tongue doth publish every where.\", 'our love was new and then but in the spring', 'when i was wont to greet it with my lays,', \"as philomel in summer's front doth sing\", 'and stops her pipe in growth of riper days:', 'not that the summer is less pleasant now', 'than when her mournful hymns did hush the night,', 'but that wild music burthens every bough', 'and sweets grown common lose their dear delight.', '  therefore like her i sometime hold my tongue,', '  because i would not dull you with my song.', '', 'ciii.', '', 'alack, what poverty my muse brings forth,', 'that having such a scope to show her pride,', 'the argument all bare is of more worth', 'than when it hath my added praise beside!', 'o, blame me not, if i no more can write!', 'look in your glass, and there appears a face', 'that over-goes my blunt invention quite,', 'dulling my lines and doing me disgrace.', 'were it not sinful then, striving to mend,', 'to mar the subject that before was well?', 'for to no other pass my verses tend', 'than of your graces and your gifts to tell;', '  and more, much more, than in my verse can sit', '  your own glass shows you when you look in it.', '', 'civ.', '', 'to me, fair friend, you never can be old,', 'for as you were when first your eye i eyed,', 'such seems your beauty still. three winters cold', \"have from the forests shook three summers' pride,\", \"three beauteous springs to yellow autumn turn'd\", 'in process of the seasons have i seen,', \"three april perfumes in three hot junes burn'd,\", 'since first i saw you fresh, which yet are green.', 'ah! yet doth beauty, like a dial-hand,', 'steal from his figure and no pace perceived;', 'so your sweet hue, which methinks still doth stand,', 'hath motion and mine eye may be deceived:', '  for fear of which, hear this, thou age unbred;', \"  ere you were born was beauty's summer dead.\", '', 'cv.', '', \"let not my love be call'd idolatry,\", 'nor my beloved as an idol show,', 'since all alike my songs and praises be', 'to one, of one, still such, and ever so.', 'kind is my love to-day, to-morrow kind,', 'still constant in a wondrous excellence;', 'therefore my verse to constancy confined,', 'one thing expressing, leaves out difference.', \"'fair, kind and true' is all my argument,\", \"'fair, kind, and true' varying to other words;\", 'and in this change is my invention spent,', 'three themes in one, which wondrous scope affords.', \"  'fair, kind, and true,' have often lived alone,\", '  which three till now never kept seat in one.', '', 'cvi.', '', 'when in the chronicle of wasted time', 'i see descriptions of the fairest wights,', 'and beauty making beautiful old rhyme', 'in praise of ladies dead and lovely knights,', \"then, in the blazon of sweet beauty's best,\", 'of hand, of foot, of lip, of eye, of brow,', \"i see their antique pen would have express'd\", 'even such a beauty as you master now.', 'so all their praises are but prophecies', 'of this our time, all you prefiguring;', \"and, for they look'd but with divining eyes,\", 'they had not skill enough your worth to sing:', '  for we, which now behold these present days,', '  had eyes to wonder, but lack tongues to praise.', '', 'cvii.', '', 'not mine own fears, nor the prophetic soul', 'of the wide world dreaming on things to come,', 'can yet the lease of my true love control,', 'supposed as forfeit to a confined doom.', 'the mortal moon hath her eclipse endured', 'and the sad augurs mock their own presage;', 'incertainties now crown themselves assured', 'and peace proclaims olives of endless age.', 'now with the drops of this most balmy time', 'my love looks fresh, and death to me subscribes,', \"since, spite of him, i'll live in this poor rhyme,\", \"while he insults o'er dull and speechless tribes:\", '  and thou in this shalt find thy monument,', \"  when tyrants' crests and tombs of brass are spent.\", '', 'cviii.', '', \"what's in the brain that ink may character\", 'which hath not figured to thee my true spirit?', \"what's new to speak, what new to register,\", 'that may express my love or thy dear merit?', 'nothing, sweet boy; but yet, like prayers divine,', \"i must, each day say o'er the very same,\", 'counting no old thing old, thou mine, i thine,', \"even as when first i hallow'd thy fair name.\", \"so that eternal love in love's fresh case\", 'weighs not the dust and injury of age,', 'nor gives to necessary wrinkles place,', 'but makes antiquity for aye his page,', '  finding the first conceit of love there bred', '  where time and outward form would show it dead.', '', 'cix.', '', 'o, never say that i was false of heart,', \"though absence seem'd my flame to qualify.\", 'as easy might i from myself depart', 'as from my soul, which in thy breast doth lie:', 'that is my home of love: if i have ranged,', 'like him that travels i return again,', 'just to the time, not with the time exchanged,', 'so that myself bring water for my stain.', \"never believe, though in my nature reign'd\", 'all frailties that besiege all kinds of blood,', \"that it could so preposterously be stain'd,\", 'to leave for nothing all thy sum of good;', '  for nothing this wide universe i call,', '  save thou, my rose; in it thou art my all.', '', 'cx.', '', \"alas, 'tis true i have gone here and there\", 'and made myself a motley to the view,', 'gored mine own thoughts, sold cheap what is most dear,', 'made old offences of affections new;', \"most true it is that i have look'd on truth\", 'askance and strangely: but, by all above,', 'these blenches gave my heart another youth,', 'and worse essays proved thee my best of love.', 'now all is done, have what shall have no end:', 'mine appetite i never more will grind', 'on newer proof, to try an older friend,', 'a god in love, to whom i am confined.', '  then give me welcome, next my heaven the best,', '  even to thy pure and most most loving breast.', '', 'cxi.', '', 'o, for my sake do you with fortune chide,', 'the guilty goddess of my harmful deeds,', 'that did not better for my life provide', 'than public means which public manners breeds.', 'thence comes it that my name receives a brand,', 'and almost thence my nature is subdued', \"to what it works in, like the dyer's hand:\", \"pity me then and wish i were renew'd;\", 'whilst, like a willing patient, i will drink', \"potions of eisel 'gainst my strong infection\", 'no bitterness that i will bitter think,', 'nor double penance, to correct correction.', '  pity me then, dear friend, and i assure ye', '  even that your pity is enough to cure me.', '', 'cxii.', '', 'your love and pity doth the impression fill', \"which vulgar scandal stamp'd upon my brow;\", 'for what care i who calls me well or ill,', \"so you o'er-green my bad, my good allow?\", 'you are my all the world, and i must strive', 'to know my shames and praises from your tongue:', 'none else to me, nor i to none alive,', \"that my steel'd sense or changes right or wrong.\", 'in so profound abysm i throw all care', \"of others' voices, that my adder's sense\", 'to critic and to flatterer stopped are.', 'mark how with my neglect i do dispense:', '  you are so strongly in my purpose bred', '  that all the world besides methinks are dead.', '', 'cxiii.', '', 'since i left you, mine eye is in my mind;', 'and that which governs me to go about', 'doth part his function and is partly blind,', 'seems seeing, but effectually is out;', 'for it no form delivers to the heart', 'of bird of flower, or shape, which it doth latch:', 'of his quick objects hath the mind no part,', 'nor his own vision holds what it doth catch:', 'for if it see the rudest or gentlest sight,', \"the most sweet favour or deformed'st creature,\", 'the mountain or the sea, the day or night,', 'the crow or dove, it shapes them to your feature:', '  incapable of more, replete with you,', '  my most true mind thus makes mine eye untrue.', '', 'cxiv.', '', \"or whether doth my mind, being crown'd with you,\", \"drink up the monarch's plague, this flattery?\", 'or whether shall i say, mine eye saith true,', 'and that your love taught it this alchemy,', 'to make of monsters and things indigest', 'such cherubins as your sweet self resemble,', 'creating every bad a perfect best,', 'as fast as objects to his beams assemble?', \"o,'tis the first; 'tis flattery in my seeing,\", 'and my great mind most kingly drinks it up:', \"mine eye well knows what with his gust is 'greeing,\", 'and to his palate doth prepare the cup:', \"  if it be poison'd, 'tis the lesser sin\", '  that mine eye loves it and doth first begin.', '', 'cxv.', '', 'those lines that i before have writ do lie,', 'even those that said i could not love you dearer:', 'yet then my judgment knew no reason why', 'my most full flame should afterwards burn clearer.', \"but reckoning time, whose million'd accidents\", \"creep in 'twixt vows and change decrees of kings,\", \"tan sacred beauty, blunt the sharp'st intents,\", 'divert strong minds to the course of altering things;', \"alas, why, fearing of time's tyranny,\", \"might i not then say 'now i love you best,'\", \"when i was certain o'er incertainty,\", 'crowning the present, doubting of the rest?', '  love is a babe; then might i not say so,', '  to give full growth to that which still doth grow?', '', 'cxvi.', '', 'let me not to the marriage of true minds', 'admit impediments. love is not love', 'which alters when it alteration finds,', 'or bends with the remover to remove:', 'o no! it is an ever-fixed mark', 'that looks on tempests and is never shaken;', 'it is the star to every wandering bark,', \"whose worth's unknown, although his height be taken.\", \"love's not time's fool, though rosy lips and cheeks\", \"within his bending sickle's compass come:\", 'love alters not with his brief hours and weeks,', 'but bears it out even to the edge of doom.', '  if this be error and upon me proved,', '  i never writ, nor no man ever loved.', '', 'cxvii.', '', 'accuse me thus: that i have scanted all', 'wherein i should your great deserts repay,', 'forgot upon your dearest love to call,', 'whereto all bonds do tie me day by day;', 'that i have frequent been with unknown minds', 'and given to time your own dear-purchased right', 'that i have hoisted sail to all the winds', 'which should transport me farthest from your sight.', 'book both my wilfulness and errors down', 'and on just proof surmise accumulate;', 'bring me within the level of your frown,', \"but shoot not at me in your waken'd hate;\", '  since my appeal says i did strive to prove', '  the constancy and virtue of your love.', '', 'cxviii.', '', 'like as, to make our appetites more keen,', 'with eager compounds we our palate urge,', 'as, to prevent our maladies unseen,', 'we sicken to shun sickness when we purge,', \"even so, being tuff of your ne'er-cloying sweetness,\", 'to bitter sauces did i frame my feeding', 'and, sick of welfare, found a kind of meetness', 'to be diseased ere that there was true needing.', 'thus policy in love, to anticipate', 'the ills that were not, grew to faults assured', 'and brought to medicine a healthful state', 'which, rank of goodness, would by ill be cured:', '  but thence i learn, and find the lesson true,', '  drugs poison him that so fell sick of you.', '', 'cxix.', '', 'what potions have i drunk of siren tears,', \"distill'd from limbecks foul as hell within,\", 'applying fears to hopes and hopes to fears,', 'still losing when i saw myself to win!', 'what wretched errors hath my heart committed,', 'whilst it hath thought itself so blessed never!', 'how have mine eyes out of their spheres been fitted', 'in the distraction of this madding fever!', 'o benefit of ill! now i find true', 'that better is by evil still made better;', \"and ruin'd love, when it is built anew,\", 'grows fairer than at first, more strong, far greater.', '  so i return rebuked to my content', '  and gain by ill thrice more than i have spent.', '', 'cxx.', '', 'that you were once unkind befriends me now,', 'and for that sorrow which i then did feel', 'needs must i under my transgression bow,', \"unless my nerves were brass or hammer'd steel.\", 'for if you were by my unkindness shaken', \"as i by yours, you've pass'd a hell of time,\", 'and i, a tyrant, have no leisure taken', 'to weigh how once i suffered in your crime.', \"o, that our night of woe might have remember'd\", 'my deepest sense, how hard true sorrow hits,', \"and soon to you, as you to me, then tender'd\", 'the humble slave which wounded bosoms fits!', '  but that your trespass now becomes a fee;', '  mine ransoms yours, and yours must ransom me.', '', 'cxxi.', '', \"'tis better to be vile than vile esteem'd,\", 'when not to be receives reproach of being,', \"and the just pleasure lost which is so deem'd\", \"not by our feeling but by others' seeing:\", 'for why should others false adulterate eyes', 'give salutation to my sportive blood?', 'or on my frailties why are frailer spies,', 'which in their wills count bad what i think good?', 'no, i am that i am, and they that level', 'at my abuses reckon up their own:', 'i may be straight, though they themselves be bevel;', 'by their rank thoughts my deeds must not be shown;', '  unless this general evil they maintain,', '  all men are bad, and in their badness reign.', '', 'cxxii.', '', 'thy gift, thy tables, are within my brain', \"full character'd with lasting memory,\", 'which shall above that idle rank remain', 'beyond all date, even to eternity;', 'or at the least, so long as brain and heart', 'have faculty by nature to subsist;', 'till each to razed oblivion yield his part', \"of thee, thy record never can be miss'd.\", 'that poor retention could not so much hold,', 'nor need i tallies thy dear love to score;', 'therefore to give them from me was i bold,', 'to trust those tables that receive thee more:', '  to keep an adjunct to remember thee', '  were to import forgetfulness in me.', '', 'cxxiii.', '', 'no, time, thou shalt not boast that i do change:', 'thy pyramids built up with newer might', 'to me are nothing novel, nothing strange;', 'they are but dressings of a former sight.', 'our dates are brief, and therefore we admire', 'what thou dost foist upon us that is old,', 'and rather make them born to our desire', 'than think that we before have heard them told.', 'thy registers and thee i both defy,', 'not wondering at the present nor the past,', 'for thy records and what we see doth lie,', 'made more or less by thy continual haste.', '  this i do vow and this shall ever be;', '  i will be true, despite thy scythe and thee.', '', 'cxxiv.', '', 'if my dear love were but the child of state,', \"it might for fortune's bastard be unfather'd'\", \"as subject to time's love or to time's hate,\", \"weeds among weeds, or flowers with flowers gather'd.\", 'no, it was builded far from accident;', 'it suffers not in smiling pomp, nor falls', 'under the blow of thralled discontent,', 'whereto the inviting time our fashion calls:', 'it fears not policy, that heretic,', \"which works on leases of short-number'd hours,\", 'but all alone stands hugely politic,', 'that it nor grows with heat nor drowns with showers.', '  to this i witness call the fools of time,', '  which die for goodness, who have lived for crime.', '', 'cxxv.', '', \"were 't aught to me i bore the canopy,\", 'with my extern the outward honouring,', 'or laid great bases for eternity,', 'which prove more short than waste or ruining?', 'have i not seen dwellers on form and favour', 'lose all, and more, by paying too much rent,', 'for compound sweet forgoing simple savour,', 'pitiful thrivers, in their gazing spent?', 'no, let me be obsequious in thy heart,', 'and take thou my oblation, poor but free,', \"which is not mix'd with seconds, knows no art,\", 'but mutual render, only me for thee.', \"  hence, thou suborn'd informer! a true soul\", \"  when most impeach'd stands least in thy control.\", '', 'cxxvi.', '', 'o thou, my lovely boy, who in thy power', \"dost hold time's fickle glass, his sickle, hour;\", \"who hast by waning grown, and therein show'st\", \"thy lovers withering as thy sweet self grow'st;\", 'if nature, sovereign mistress over wrack,', 'as thou goest onwards, still will pluck thee back,', 'she keeps thee to this purpose, that her skill', 'may time disgrace and wretched minutes kill.', 'yet fear her, o thou minion of her pleasure!', 'she may detain, but not still keep, her treasure:', \"  her audit, though delay'd, answer'd must be,\", '  and her quietus is to render thee.', '', 'cxxvii.', '', 'in the old age black was not counted fair,', \"or if it were, it bore not beauty's name;\", \"but now is black beauty's successive heir,\", \"and beauty slander'd with a bastard shame:\", \"for since each hand hath put on nature's power,\", \"fairing the foul with art's false borrow'd face,\", 'sweet beauty hath no name, no holy bower,', 'but is profaned, if not lives in disgrace.', \"therefore my mistress' brows are raven black,\", 'her eyes so suited, and they mourners seem', 'at such who, not born fair, no beauty lack,', 'slandering creation with a false esteem:', '  yet so they mourn, becoming of their woe,', '  that every tongue says beauty should look so.', '', 'cxxviii.', '', \"how oft, when thou, my music, music play'st,\", 'upon that blessed wood whose motion sounds', \"with thy sweet fingers, when thou gently sway'st\", 'the wiry concord that mine ear confounds,', 'do i envy those jacks that nimble leap', 'to kiss the tender inward of thy hand,', 'whilst my poor lips, which should that harvest reap,', \"at the wood's boldness by thee blushing stand!\", 'to be so tickled, they would change their state', 'and situation with those dancing chips,', \"o'er whom thy fingers walk with gentle gait,\", 'making dead wood more blest than living lips.', '  since saucy jacks so happy are in this,', '  give them thy fingers, me thy lips to kiss.', '', 'cxxix.', '', 'the expense of spirit in a waste of shame', 'is lust in action; and till action, lust', 'is perjured, murderous, bloody, full of blame,', 'savage, extreme, rude, cruel, not to trust,', \"enjoy'd no sooner but despised straight,\", 'past reason hunted, and no sooner had', \"past reason hated, as a swallow'd bait\", 'on purpose laid to make the taker mad;', 'mad in pursuit and in possession so;', 'had, having, and in quest to have, extreme;', 'a bliss in proof, and proved, a very woe;', 'before, a joy proposed; behind, a dream.', '  all this the world well knows; yet none knows well', '  to shun the heaven that leads men to this hell.', '', 'cxxx.', '', \"my mistress' eyes are nothing like the sun;\", \"coral is far more red than her lips' red;\", 'if snow be white, why then her breasts are dun;', 'if hairs be wires, black wires grow on her head.', \"i have seen roses damask'd, red and white,\", 'but no such roses see i in her cheeks;', 'and in some perfumes is there more delight', 'than in the breath that from my mistress reeks.', 'i love to hear her speak, yet well i know', 'that music hath a far more pleasing sound;', 'i grant i never saw a goddess go;', 'my mistress, when she walks, treads on the ground:', '  and yet, by heaven, i think my love as rare', '  as any she belied with false compare.', '', 'cxxxi.', '', 'thou art as tyrannous, so as thou art,', 'as those whose beauties proudly make them cruel;', \"for well thou know'st to my dear doting heart\", 'thou art the fairest and most precious jewel.', 'yet, in good faith, some say that thee behold', 'thy face hath not the power to make love groan:', 'to say they err i dare not be so bold,', 'although i swear it to myself alone.', 'and, to be sure that is not false i swear,', 'a thousand groans, but thinking on thy face,', \"one on another's neck, do witness bear\", \"thy black is fairest in my judgment's place.\", '  in nothing art thou black save in thy deeds,', '  and thence this slander, as i think, proceeds.', '', 'cxxxii.', '', 'thine eyes i love, and they, as pitying me,', 'knowing thy heart torments me with disdain,', 'have put on black and loving mourners be,', 'looking with pretty ruth upon my pain.', 'and truly not the morning sun of heaven', 'better becomes the grey cheeks of the east,', 'nor that full star that ushers in the even', 'doth half that glory to the sober west,', 'as those two mourning eyes become thy face:', 'o, let it then as well beseem thy heart', 'to mourn for me, since mourning doth thee grace,', 'and suit thy pity like in every part.', '  then will i swear beauty herself is black', '  and all they foul that thy complexion lack.', '', 'cxxxiii.', '', 'beshrew that heart that makes my heart to groan', 'for that deep wound it gives my friend and me!', \"is't not enough to torture me alone,\", \"but slave to slavery my sweet'st friend must be?\", 'me from myself thy cruel eye hath taken,', \"and my next self thou harder hast engross'd:\", 'of him, myself, and thee, i am forsaken;', \"a torment thrice threefold thus to be cross'd.\", \"prison my heart in thy steel bosom's ward,\", \"but then my friend's heart let my poor heart bail;\", \"whoe'er keeps me, let my heart be his guard;\", 'thou canst not then use rigor in my gaol:', '  and yet thou wilt; for i, being pent in thee,', '  perforce am thine, and all that is in me.', '', 'cxxxiv.', '', \"so, now i have confess'd that he is thine,\", 'and i myself am mortgaged to thy will,', \"myself i'll forfeit, so that other mine\", 'thou wilt restore, to be my comfort still:', 'but thou wilt not, nor he will not be free,', 'for thou art covetous and he is kind;', \"he learn'd but surety-like to write for me\", 'under that bond that him as fast doth bind.', 'the statute of thy beauty thou wilt take,', \"thou usurer, that put'st forth all to use,\", 'and sue a friend came debtor for my sake;', 'so him i lose through my unkind abuse.', '  him have i lost; thou hast both him and me:', '  he pays the whole, and yet am i not free.', '', 'cxxxv.', '', \"whoever hath her wish, thou hast thy 'will,'\", \"and 'will' to boot, and 'will' in overplus;\", 'more than enough am i that vex thee still,', 'to thy sweet will making addition thus.', 'wilt thou, whose will is large and spacious,', 'not once vouchsafe to hide my will in thine?', 'shall will in others seem right gracious,', 'and in my will no fair acceptance shine?', 'the sea all water, yet receives rain still', 'and in abundance addeth to his store;', \"so thou, being rich in 'will,' add to thy 'will'\", \"one will of mine, to make thy large 'will' more.\", '  let no unkind, no fair beseechers kill;', \"  think all but one, and me in that one 'will.'\", '', 'cxxxvi.', '', 'if thy soul cheque thee that i come so near,', \"swear to thy blind soul that i was thy 'will,'\", 'and will, thy soul knows, is admitted there;', 'thus far for love my love-suit, sweet, fulfil.', \"'will' will fulfil the treasure of thy love,\", 'ay, fill it full with wills, and my will one.', 'in things of great receipt with ease we prove', \"among a number one is reckon'd none:\", 'then in the number let me pass untold,', \"though in thy stores' account i one must be;\", 'for nothing hold me, so it please thee hold', 'that nothing me, a something sweet to thee:', '  make but my name thy love, and love that still,', \"  and then thou lovest me, for my name is 'will.'\", '', 'cxxxvii.', '', 'thou blind fool, love, what dost thou to mine eyes,', 'that they behold, and see not what they see?', 'they know what beauty is, see where it lies,', 'yet what the best is take the worst to be.', 'if eyes corrupt by over-partial looks', \"be anchor'd in the bay where all men ride,\", \"why of eyes' falsehood hast thou forged hooks,\", 'whereto the judgment of my heart is tied?', 'why should my heart think that a several plot', \"which my heart knows the wide world's common place?\", 'or mine eyes seeing this, say this is not,', 'to put fair truth upon so foul a face?', '  in things right true my heart and eyes have erred,', \"  and to this false plague are they now transferr'd.\", '', 'cxxxviii.', '', 'when my love swears that she is made of truth', 'i do believe her, though i know she lies,', \"that she might think me some untutor'd youth,\", \"unlearned in the world's false subtleties.\", 'thus vainly thinking that she thinks me young,', 'although she knows my days are past the best,', 'simply i credit her false speaking tongue:', \"on both sides thus is simple truth suppress'd.\", 'but wherefore says she not she is unjust?', 'and wherefore say not i that i am old?', \"o, love's best habit is in seeming trust,\", 'and age in love loves not to have years told:', '  therefore i lie with her and she with me,', \"  and in our faults by lies we flatter'd be.\", '', 'cxxxix.', '', 'o, call not me to justify the wrong', 'that thy unkindness lays upon my heart;', 'wound me not with thine eye but with thy tongue;', 'use power with power and slay me not by art.', 'tell me thou lovest elsewhere, but in my sight,', 'dear heart, forbear to glance thine eye aside:', \"what need'st thou wound with cunning when thy might\", \"is more than my o'er-press'd defense can bide?\", 'let me excuse thee: ah! my love well knows', 'her pretty looks have been mine enemies,', 'and therefore from my face she turns my foes,', 'that they elsewhere might dart their injuries:', '  yet do not so; but since i am near slain,', '  kill me outright with looks and rid my pain.', '', 'cxl.', '', 'be wise as thou art cruel; do not press', 'my tongue-tied patience with too much disdain;', 'lest sorrow lend me words and words express', 'the manner of my pity-wanting pain.', 'if i might teach thee wit, better it were,', 'though not to love, yet, love, to tell me so;', 'as testy sick men, when their deaths be near,', 'no news but health from their physicians know;', 'for if i should despair, i should grow mad,', 'and in my madness might speak ill of thee:', 'now this ill-wresting world is grown so bad,', 'mad slanderers by mad ears believed be,', '  that i may not be so, nor thou belied,', '  bear thine eyes straight, though thy proud heart go wide.', '', 'cxli.', '', 'in faith, i do not love thee with mine eyes,', 'for they in thee a thousand errors note;', \"but 'tis my heart that loves what they despise,\", 'who in despite of view is pleased to dote;', \"nor are mine ears with thy tongue's tune delighted,\", 'nor tender feeling, to base touches prone,', 'nor taste, nor smell, desire to be invited', 'to any sensual feast with thee alone:', 'but my five wits nor my five senses can', 'dissuade one foolish heart from serving thee,', \"who leaves unsway'd the likeness of a man,\", 'thy proud hearts slave and vassal wretch to be:', '  only my plague thus far i count my gain,', '  that she that makes me sin awards me pain.', '', 'cxlii.', '', 'love is my sin and thy dear virtue hate,', 'hate of my sin, grounded on sinful loving:', 'o, but with mine compare thou thine own state,', 'and thou shalt find it merits not reproving;', 'or, if it do, not from those lips of thine,', 'that have profaned their scarlet ornaments', \"and seal'd false bonds of love as oft as mine,\", \"robb'd others' beds' revenues of their rents.\", 'be it lawful i love thee, as thou lovest those', 'whom thine eyes woo as mine importune thee:', 'root pity in thy heart, that when it grows', 'thy pity may deserve to pitied be.', '  if thou dost seek to have what thou dost hide,', '  by self-example mayst thou be denied!', '', 'cxliii.', '', 'lo! as a careful housewife runs to catch', \"one of her feather'd creatures broke away,\", 'sets down her babe and makes an swift dispatch', 'in pursuit of the thing she would have stay,', 'whilst her neglected child holds her in chase,', 'cries to catch her whose busy care is bent', 'to follow that which flies before her face,', \"not prizing her poor infant's discontent;\", \"so runn'st thou after that which flies from thee,\", 'whilst i thy babe chase thee afar behind;', 'but if thou catch thy hope, turn back to me,', \"and play the mother's part, kiss me, be kind:\", \"  so will i pray that thou mayst have thy 'will,'\", '  if thou turn back, and my loud crying still.', '', 'cxliv.', '', 'two loves i have of comfort and despair,', 'which like two spirits do suggest me still:', 'the better angel is a man right fair,', \"the worser spirit a woman colour'd ill.\", 'to win me soon to hell, my female evil', 'tempteth my better angel from my side,', 'and would corrupt my saint to be a devil,', 'wooing his purity with her foul pride.', \"and whether that my angel be turn'd fiend\", 'suspect i may, but not directly tell;', 'but being both from me, both to each friend,', \"i guess one angel in another's hell:\", \"  yet this shall i ne'er know, but live in doubt,\", '  till my bad angel fire my good one out.', '', 'cxlv.', '', \"those lips that love's own hand did make\", \"breathed forth the sound that said 'i hate'\", \"to me that languish'd for her sake;\", 'but when she saw my woeful state,', 'straight in her heart did mercy come,', 'chiding that tongue that ever sweet', 'was used in giving gentle doom,', 'and taught it thus anew to greet:', \"'i hate' she alter'd with an end,\", \"that follow'd it as gentle day\", 'doth follow night, who like a fiend', 'from heaven to hell is flown away;', \"  'i hate' from hate away she threw,\", \"  and saved my life, saying 'not you.'\", '', 'cxlvi.', '', 'poor soul, the centre of my sinful earth,', '[         ] these rebel powers that thee array;', 'why dost thou pine within and suffer dearth,', 'painting thy outward walls so costly gay?', 'why so large cost, having so short a lease,', 'dost thou upon thy fading mansion spend?', 'shall worms, inheritors of this excess,', \"eat up thy charge? is this thy body's end?\", \"then soul, live thou upon thy servant's loss,\", 'and let that pine to aggravate thy store;', 'buy terms divine in selling hours of dross;', 'within be fed, without be rich no more:', '  so shalt thou feed on death, that feeds on men,', \"  and death once dead, there's no more dying then.\", '', 'cxlvii.', '', 'my love is as a fever, longing still', 'for that which longer nurseth the disease,', 'feeding on that which doth preserve the ill,', 'the uncertain sickly appetite to please.', 'my reason, the physician to my love,', 'angry that his prescriptions are not kept,', 'hath left me, and i desperate now approve', 'desire is death, which physic did except.', 'past cure i am, now reason is past care,', 'and frantic-mad with evermore unrest;', \"my thoughts and my discourse as madmen's are,\", \"at random from the truth vainly express'd;\", '  for i have sworn thee fair and thought thee bright,', '  who art as black as hell, as dark as night.', '', 'cxlviii.', '', 'o me, what eyes hath love put in my head,', 'which have no correspondence with true sight!', 'or, if they have, where is my judgment fled,', 'that censures falsely what they see aright?', 'if that be fair whereon my false eyes dote,', 'what means the world to say it is not so?', 'if it be not, then love doth well denote', \"love's eye is not so true as all men's 'no.'\", \"how can it? o, how can love's eye be true,\", \"that is so vex'd with watching and with tears?\", 'no marvel then, though i mistake my view;', 'the sun itself sees not till heaven clears.', \"  o cunning love! with tears thou keep'st me blind,\", '  lest eyes well-seeing thy foul faults should find.', '', 'cxlix.', '', 'canst thou, o cruel! say i love thee not,', 'when i against myself with thee partake?', 'do i not think on thee, when i forgot', 'am of myself, all tyrant, for thy sake?', 'who hateth thee that i do call my friend?', \"on whom frown'st thou that i do fawn upon?\", \"nay, if thou lour'st on me, do i not spend\", 'revenge upon myself with present moan?', 'what merit do i in myself respect,', 'that is so proud thy service to despise,', 'when all my best doth worship thy defect,', 'commanded by the motion of thine eyes?', '  but, love, hate on, for now i know thy mind;', '  those that can see thou lovest, and i am blind.', '', 'cl.', '', 'o, from what power hast thou this powerful might', 'with insufficiency my heart to sway?', 'to make me give the lie to my true sight,', 'and swear that brightness doth not grace the day?', 'whence hast thou this becoming of things ill,', 'that in the very refuse of thy deeds', 'there is such strength and warrantize of skill', 'that, in my mind, thy worst all best exceeds?', 'who taught thee how to make me love thee more', 'the more i hear and see just cause of hate?', 'o, though i love what others do abhor,', 'with others thou shouldst not abhor my state:', '  if thy unworthiness raised love in me,', '  more worthy i to be beloved of thee.', '', 'cli.', '', 'love is too young to know what conscience is;', 'yet who knows not conscience is born of love?', 'then, gentle cheater, urge not my amiss,', 'lest guilty of my faults thy sweet self prove:', 'for, thou betraying me, i do betray', \"my nobler part to my gross body's treason;\", 'my soul doth tell my body that he may', 'triumph in love; flesh stays no father reason;', 'but, rising at thy name, doth point out thee', 'as his triumphant prize. proud of this pride,', 'he is contented thy poor drudge to be,', 'to stand in thy affairs, fall by thy side.', '  no want of conscience hold it that i call', \"  her 'love' for whose dear love i rise and fall.\", '', 'clii.', '', \"in loving thee thou know'st i am forsworn,\", 'but thou art twice forsworn, to me love swearing,', 'in act thy bed-vow broke and new faith torn,', 'in vowing new hate after new love bearing.', \"but why of two oaths' breach do i accuse thee,\", 'when i break twenty? i am perjured most;', 'for all my vows are oaths but to misuse thee', 'and all my honest faith in thee is lost,', 'for i have sworn deep oaths of thy deep kindness,', 'oaths of thy love, thy truth, thy constancy,', 'and, to enlighten thee, gave eyes to blindness,', 'or made them swear against the thing they see;', '  for i have sworn thee fair; more perjured i,', '  to swear against the truth so foul a lie!', '', 'cliii.', '', 'cupid laid by his brand, and fell asleep:', \"a maid of dian's this advantage found,\", 'and his love-kindling fire did quickly steep', 'in a cold valley-fountain of that ground;', \"which borrow'd from this holy fire of love\", 'a dateless lively heat, still to endure,', 'and grew a seething bath, which yet men prove', 'against strange maladies a sovereign cure.', \"but at my mistress' eye love's brand new-fired,\", 'the boy for trial needs would touch my breast;', 'i, sick withal, the help of bath desired,', \"and thither hied, a sad distemper'd guest,\", '  but found no cure: the bath for my help lies', \"  where cupid got new fire--my mistress' eyes.\", '', 'cliv.', '', 'the little love-god lying once asleep', 'laid by his side his heart-inflaming brand,', \"whilst many nymphs that vow'd chaste life to keep\", 'came tripping by; but in her maiden hand', 'the fairest votary took up that fire', \"which many legions of true hearts had warm'd;\", 'and so the general of hot desire', \"was sleeping by a virgin hand disarm'd.\", 'this brand she quenched in a cool well by,', \"which from love's fire took heat perpetual,\", 'growing a bath and healthful remedy', \"for men diseased; but i, my mistress' thrall,\", '  came there for cure, and this by that i prove,', \"  love's fire heats water, water cools not love.\", '']\n"
          ]
        }
      ]
    },
    {
      "cell_type": "markdown",
      "metadata": {
        "id": "lJEHPLxQXqSh"
      },
      "source": [
        "Step 1: Initialise a tokenizer and fit it on the corpus variable using .fit_on_texts"
      ]
    },
    {
      "cell_type": "code",
      "execution_count": 4,
      "metadata": {
        "id": "QnOh0jGsXqSh"
      },
      "outputs": [],
      "source": [
        "tokenizer = Tokenizer()\n",
        "\n",
        "tokenizer.fit_on_texts(corpus)"
      ]
    },
    {
      "cell_type": "markdown",
      "metadata": {
        "id": "ipMo-4kUXqSh"
      },
      "source": [
        "Step 2: Calculate the Vocabulary Size\n",
        "\n",
        "Let's figure out how many unique words are in your corpus. This will be the size of your vocabulary.\n",
        "\n",
        "Calculate the length of tokenizer.word_index, add 1 to it and store it in a variable called total_words."
      ]
    },
    {
      "cell_type": "code",
      "execution_count": 5,
      "metadata": {
        "colab": {
          "base_uri": "https://localhost:8080/"
        },
        "id": "kkXx1wHCXqSh",
        "outputId": "e9b692b0-5ddf-42d1-fee0-571122c86058"
      },
      "outputs": [
        {
          "output_type": "execute_result",
          "data": {
            "text/plain": [
              "3375"
            ]
          },
          "metadata": {},
          "execution_count": 5
        }
      ],
      "source": [
        "total_words = len(tokenizer.word_index) + 1\n",
        "\n",
        "total_words"
      ]
    },
    {
      "cell_type": "markdown",
      "metadata": {
        "id": "NdSpGxHwXqSh"
      },
      "source": [
        "Create an empty list called input_sequences.\n",
        "\n",
        "For each sentence in your corpus, convert the text into a sequence of integers using the tokenizer.\n",
        "Then, generate n-gram sequences from these tokens.\n",
        "\n",
        "Store the result in the list input_sequences."
      ]
    },
    {
      "cell_type": "code",
      "execution_count": 6,
      "metadata": {
        "id": "iuij1MwTXqSh"
      },
      "outputs": [],
      "source": [
        "input_sequences = []\n",
        "\n",
        "for line in corpus:\n",
        "    token_list = tokenizer.texts_to_sequences([line])[0]\n",
        "    for i in range(1, len(token_list)):\n",
        "        n_gram_sequence = token_list[:i+1]\n",
        "        input_sequences.append(n_gram_sequence)"
      ]
    },
    {
      "cell_type": "code",
      "source": [
        "input_sequences"
      ],
      "metadata": {
        "colab": {
          "base_uri": "https://localhost:8080/"
        },
        "id": "7xNEUQkubo7f",
        "outputId": "bf894956-f14f-46b3-eded-7eeebaa140cd"
      },
      "execution_count": 7,
      "outputs": [
        {
          "output_type": "execute_result",
          "data": {
            "text/plain": [
              "[[3, 2],\n",
              " [3, 2, 313],\n",
              " [3, 2, 313, 1375],\n",
              " [3, 2, 313, 1375, 4],\n",
              " [118, 1376],\n",
              " [118, 1376, 878],\n",
              " [1377, 1378],\n",
              " [1377, 1378, 1379],\n",
              " [1377, 1378, 1379, 23],\n",
              " [1377, 1378, 1379, 23, 1380],\n",
              " [1, 8],\n",
              " [1, 8, 517],\n",
              " [1381, 30],\n",
              " [126, 186],\n",
              " [126, 186, 278],\n",
              " [126, 186, 278, 635],\n",
              " [126, 186, 278, 635, 1382],\n",
              " [2, 98],\n",
              " [2, 98, 879],\n",
              " [1383, 7],\n",
              " [1384, 279],\n",
              " [880, 880],\n",
              " [34, 418],\n",
              " [34, 418, 881],\n",
              " [34, 418, 881, 166],\n",
              " [34, 418, 881, 166, 214],\n",
              " [34, 418, 881, 166, 214, 518],\n",
              " [8, 882],\n",
              " [8, 882, 135],\n",
              " [8, 882, 135, 353],\n",
              " [8, 882, 135, 353, 103],\n",
              " [8, 882, 135, 353, 103, 156],\n",
              " [8, 882, 135, 353, 103, 156, 199],\n",
              " [16, 22],\n",
              " [16, 22, 2],\n",
              " [16, 22, 2, 883],\n",
              " [16, 22, 2, 883, 61],\n",
              " [16, 22, 2, 883, 61, 30],\n",
              " [16, 22, 2, 883, 61, 30, 48],\n",
              " [16, 22, 2, 883, 61, 30, 48, 636],\n",
              " [25, 314],\n",
              " [25, 314, 637],\n",
              " [25, 314, 637, 103],\n",
              " [25, 314, 637, 103, 200],\n",
              " [25, 314, 637, 103, 200, 25],\n",
              " [25, 314, 637, 103, 200, 25, 280],\n",
              " [16, 10],\n",
              " [16, 10, 884],\n",
              " [16, 10, 884, 3],\n",
              " [16, 10, 884, 3, 62],\n",
              " [16, 10, 884, 3, 62, 85],\n",
              " [16, 10, 884, 3, 62, 85, 215],\n",
              " [16, 10, 884, 3, 62, 85, 215, 53],\n",
              " [1385, 9],\n",
              " [1385, 9, 1386],\n",
              " [1385, 9, 1386, 638],\n",
              " [1385, 9, 1386, 638, 11],\n",
              " [1385, 9, 1386, 638, 11, 123],\n",
              " [1385, 9, 1386, 638, 11, 123, 1387],\n",
              " [1385, 9, 1386, 638, 11, 123, 1387, 1388],\n",
              " [201, 17],\n",
              " [201, 17, 1389],\n",
              " [201, 17, 1389, 64],\n",
              " [201, 17, 1389, 64, 519],\n",
              " [201, 17, 1389, 64, 519, 202],\n",
              " [119, 9],\n",
              " [119, 9, 1390],\n",
              " [119, 9, 1390, 3],\n",
              " [119, 9, 1390, 3, 9],\n",
              " [119, 9, 1390, 3, 9, 47],\n",
              " [119, 9, 1390, 3, 9, 47, 123],\n",
              " [119, 9, 1390, 3, 9, 47, 123, 136],\n",
              " [119, 9, 1390, 3, 9, 47, 123, 136, 281],\n",
              " [10, 8],\n",
              " [10, 8, 54],\n",
              " [10, 8, 54, 63],\n",
              " [10, 8, 54, 63, 2],\n",
              " [10, 8, 54, 63, 2, 419],\n",
              " [10, 8, 54, 63, 2, 419, 315],\n",
              " [10, 8, 54, 63, 2, 419, 315, 420],\n",
              " [1, 313],\n",
              " [1, 313, 1391],\n",
              " [1, 313, 1391, 3],\n",
              " [1, 313, 1391, 3, 2],\n",
              " [1, 313, 1391, 3, 2, 1392],\n",
              " [1, 313, 1391, 3, 2, 1392, 421],\n",
              " [216, 62],\n",
              " [216, 62, 85],\n",
              " [216, 62, 85, 885],\n",
              " [216, 62, 85, 885, 1393],\n",
              " [216, 62, 85, 885, 1393, 9],\n",
              " [216, 62, 85, 885, 1393, 9, 886],\n",
              " [1, 314],\n",
              " [1, 314, 887],\n",
              " [1, 314, 887, 888],\n",
              " [1, 314, 887, 888, 316],\n",
              " [1, 314, 887, 888, 316, 7],\n",
              " [1, 314, 887, 888, 316, 7, 1394],\n",
              " [257, 2],\n",
              " [257, 2, 94],\n",
              " [257, 2, 94, 36],\n",
              " [257, 2, 94, 36, 354],\n",
              " [257, 2, 94, 36, 354, 29],\n",
              " [257, 2, 94, 36, 354, 29, 1395],\n",
              " [257, 2, 94, 36, 354, 29, 1395, 21],\n",
              " [3, 639],\n",
              " [3, 639, 2],\n",
              " [3, 639, 2, 419],\n",
              " [3, 639, 2, 419, 355],\n",
              " [3, 639, 2, 419, 355, 30],\n",
              " [3, 639, 2, 419, 355, 30, 2],\n",
              " [3, 639, 2, 419, 355, 30, 2, 640],\n",
              " [3, 639, 2, 419, 355, 30, 2, 640, 1],\n",
              " [3, 639, 2, 419, 355, 30, 2, 640, 1, 19],\n",
              " [27, 1397],\n",
              " [27, 1397, 889],\n",
              " [27, 1397, 889, 46],\n",
              " [27, 1397, 889, 46, 1398],\n",
              " [27, 1397, 889, 46, 1398, 9],\n",
              " [27, 1397, 889, 46, 1398, 9, 282],\n",
              " [1, 1399],\n",
              " [1, 1399, 283],\n",
              " [1, 1399, 283, 1400],\n",
              " [1, 1399, 283, 1400, 7],\n",
              " [1, 1399, 283, 1400, 7, 9],\n",
              " [1, 1399, 283, 1400, 7, 9, 135],\n",
              " [1, 1399, 283, 1400, 7, 9, 135, 1401],\n",
              " [9, 1402],\n",
              " [9, 1402, 179],\n",
              " [9, 1402, 179, 1403],\n",
              " [9, 1402, 179, 1403, 20],\n",
              " [9, 1402, 179, 1403, 20, 1404],\n",
              " [9, 1402, 179, 1403, 20, 1404, 35],\n",
              " [9, 1402, 179, 1403, 20, 1404, 35, 63],\n",
              " [49, 21],\n",
              " [49, 21, 17],\n",
              " [49, 21, 17, 890],\n",
              " [49, 21, 17, 890, 641],\n",
              " [49, 21, 17, 890, 641, 4],\n",
              " [49, 21, 17, 890, 641, 4, 891],\n",
              " [49, 21, 17, 890, 641, 4, 891, 127],\n",
              " [49, 21, 17, 890, 641, 4, 891, 127, 892],\n",
              " [38, 81],\n",
              " [38, 81, 1405],\n",
              " [38, 81, 1405, 64],\n",
              " [38, 81, 1405, 64, 23],\n",
              " [38, 81, 1405, 64, 23, 9],\n",
              " [38, 81, 1405, 64, 23, 9, 51],\n",
              " [38, 81, 1405, 64, 23, 9, 51, 202],\n",
              " [64, 23],\n",
              " [64, 23, 2],\n",
              " [64, 23, 2, 258],\n",
              " [64, 23, 2, 258, 4],\n",
              " [64, 23, 2, 258, 4, 9],\n",
              " [64, 23, 2, 258, 4, 9, 893],\n",
              " [64, 23, 2, 258, 4, 9, 893, 145],\n",
              " [3, 95],\n",
              " [3, 95, 216],\n",
              " [3, 95, 216, 62],\n",
              " [3, 95, 216, 62, 85],\n",
              " [3, 95, 216, 62, 85, 283],\n",
              " [3, 95, 216, 62, 85, 283, 1406],\n",
              " [3, 95, 216, 62, 85, 283, 1406, 53],\n",
              " [86, 146],\n",
              " [86, 146, 23],\n",
              " [86, 146, 23, 1407],\n",
              " [86, 146, 23, 1407, 236],\n",
              " [86, 146, 23, 1407, 236, 1],\n",
              " [86, 146, 23, 1407, 236, 1, 1408],\n",
              " [86, 146, 23, 1407, 236, 1, 1408, 96],\n",
              " [71, 137],\n",
              " [71, 137, 43],\n",
              " [71, 137, 43, 96],\n",
              " [71, 137, 43, 96, 1409],\n",
              " [71, 137, 43, 96, 1409, 9],\n",
              " [71, 137, 43, 96, 1409, 9, 135],\n",
              " [71, 137, 43, 96, 1409, 9, 135, 187],\n",
              " [42, 10],\n",
              " [42, 10, 1410],\n",
              " [42, 10, 1410, 642],\n",
              " [42, 10, 1410, 642, 894],\n",
              " [42, 10, 1410, 642, 894, 69],\n",
              " [42, 10, 1410, 642, 894, 69, 284],\n",
              " [42, 10, 1410, 642, 894, 69, 284, 4],\n",
              " [42, 10, 1410, 642, 894, 69, 284, 4, 44],\n",
              " [46, 520],\n",
              " [46, 520, 5],\n",
              " [46, 520, 5, 521],\n",
              " [46, 520, 5, 521, 1],\n",
              " [46, 520, 5, 521, 1, 65],\n",
              " [46, 520, 5, 521, 1, 65, 5],\n",
              " [46, 520, 5, 521, 1, 65, 5, 112],\n",
              " [46, 520, 5, 521, 1, 65, 5, 112, 317],\n",
              " [46, 520, 5, 521, 1, 65, 5, 112, 317, 147],\n",
              " [1411, 25],\n",
              " [1411, 25, 51],\n",
              " [1411, 25, 51, 30],\n",
              " [1411, 25, 51, 30, 1412],\n",
              " [1411, 25, 51, 30, 1412, 62],\n",
              " [29, 86],\n",
              " [29, 86, 3],\n",
              " [29, 86, 3, 21],\n",
              " [29, 86, 3, 21, 99],\n",
              " [29, 86, 3, 21, 99, 128],\n",
              " [29, 86, 3, 21, 99, 128, 27],\n",
              " [29, 86, 3, 21, 99, 128, 27, 10],\n",
              " [29, 86, 3, 21, 99, 128, 27, 10, 54],\n",
              " [29, 86, 3, 21, 99, 128, 27, 10, 54, 112],\n",
              " [1, 76],\n",
              " [1, 76, 9],\n",
              " [1, 76, 9, 285],\n",
              " [1, 76, 9, 285, 1413],\n",
              " [1, 76, 9, 285, 1413, 27],\n",
              " [1, 76, 9, 285, 1413, 27, 10],\n",
              " [1, 76, 9, 285, 1413, 27, 10, 1414],\n",
              " [1, 76, 9, 285, 1413, 27, 10, 1414, 28],\n",
              " [1, 76, 9, 285, 1413, 27, 10, 1414, 28, 318],\n",
              " [113, 7],\n",
              " [113, 7, 9],\n",
              " [113, 7, 9, 237],\n",
              " [113, 7, 9, 237, 1],\n",
              " [113, 7, 9, 237, 1, 167],\n",
              " [113, 7, 9, 237, 1, 167, 2],\n",
              " [113, 7, 9, 237, 1, 167, 2, 129],\n",
              " [113, 7, 9, 237, 1, 167, 2, 129, 10],\n",
              " [113, 7, 9, 237, 1, 167, 2, 129, 10, 1416],\n",
              " [63, 13],\n",
              " [63, 13, 2],\n",
              " [63, 13, 2, 48],\n",
              " [63, 13, 2, 48, 8],\n",
              " [63, 13, 2, 48, 8, 129],\n",
              " [63, 13, 2, 48, 8, 129, 61],\n",
              " [63, 13, 2, 48, 8, 129, 61, 217],\n",
              " [63, 13, 2, 48, 8, 129, 61, 217, 238],\n",
              " [130, 315],\n",
              " [130, 315, 643],\n",
              " [130, 315, 643, 42],\n",
              " [130, 315, 643, 42, 63],\n",
              " [130, 315, 643, 42, 63, 10],\n",
              " [130, 315, 643, 42, 63, 10, 14],\n",
              " [130, 315, 643, 42, 63, 10, 14, 1417],\n",
              " [10, 87],\n",
              " [10, 87, 1418],\n",
              " [10, 87, 1418, 2],\n",
              " [10, 87, 1418, 2, 94],\n",
              " [10, 87, 1418, 2, 94, 1419],\n",
              " [10, 87, 1418, 2, 94, 1419, 82],\n",
              " [10, 87, 1418, 2, 94, 1419, 82, 895],\n",
              " [12, 64],\n",
              " [12, 64, 13],\n",
              " [12, 64, 13, 78],\n",
              " [12, 64, 13, 78, 20],\n",
              " [12, 64, 13, 78, 20, 69],\n",
              " [12, 64, 13, 78, 20, 69, 130],\n",
              " [12, 64, 13, 78, 20, 69, 130, 1420],\n",
              " [12, 64, 13, 78, 20, 69, 130, 1420, 896],\n",
              " [1421, 2],\n",
              " [1421, 2, 1422],\n",
              " [1421, 2, 1422, 4],\n",
              " [1421, 2, 1422, 4, 9],\n",
              " [1421, 2, 1422, 4, 9, 897],\n",
              " [36, 88],\n",
              " [36, 88, 13],\n",
              " [36, 88, 13, 68],\n",
              " [36, 88, 13, 68, 20],\n",
              " [36, 88, 13, 68, 20, 898],\n",
              " [36, 88, 13, 68, 20, 898, 49],\n",
              " [36, 88, 13, 68, 20, 898, 49, 21],\n",
              " [36, 88, 13, 68, 20, 898, 49, 21, 2],\n",
              " [36, 88, 13, 68, 20, 898, 49, 21, 2, 422],\n",
              " [4, 25],\n",
              " [4, 25, 123],\n",
              " [4, 25, 123, 15],\n",
              " [4, 25, 123, 15, 3],\n",
              " [4, 25, 123, 15, 3, 899],\n",
              " [4, 25, 123, 15, 3, 899, 644],\n",
              " [10, 54],\n",
              " [10, 54, 9],\n",
              " [10, 54, 9, 645],\n",
              " [10, 54, 9, 645, 237],\n",
              " [10, 54, 9, 645, 237, 1],\n",
              " [10, 54, 9, 645, 237, 1, 78],\n",
              " [10, 54, 9, 645, 237, 1, 78, 7],\n",
              " [10, 54, 9, 645, 237, 1, 78, 7, 19],\n",
              " [423, 259],\n",
              " [423, 259, 2],\n",
              " [423, 259, 2, 286],\n",
              " [423, 259, 2, 286, 646],\n",
              " [423, 259, 2, 286, 646, 4],\n",
              " [423, 259, 2, 286, 646, 4, 55],\n",
              " [423, 259, 2, 286, 646, 4, 55, 522],\n",
              " [20, 10],\n",
              " [20, 10, 319],\n",
              " [20, 10, 319, 647],\n",
              " [20, 10, 319, 647, 4],\n",
              " [20, 10, 319, 647, 4, 62],\n",
              " [20, 10, 319, 647, 4, 62, 168],\n",
              " [20, 10, 319, 647, 4, 62, 168, 46],\n",
              " [20, 10, 319, 647, 4, 62, 168, 46, 76],\n",
              " [356, 4],\n",
              " [356, 4, 424],\n",
              " [356, 4, 424, 29],\n",
              " [356, 4, 424, 29, 9],\n",
              " [356, 4, 424, 29, 9, 425],\n",
              " [356, 4, 424, 29, 9, 425, 48],\n",
              " [16, 42],\n",
              " [16, 42, 10],\n",
              " [16, 42, 10, 89],\n",
              " [16, 42, 10, 89, 648],\n",
              " [16, 42, 10, 89, 648, 14],\n",
              " [16, 42, 10, 89, 648, 14, 3],\n",
              " [16, 42, 10, 89, 648, 14, 3, 21],\n",
              " [199, 523],\n",
              " [199, 523, 1],\n",
              " [199, 523, 1, 62],\n",
              " [199, 523, 1, 62, 524],\n",
              " [199, 523, 1, 62, 524, 1423],\n",
              " [199, 523, 1, 62, 524, 1423, 11],\n",
              " [199, 523, 1, 62, 524, 1423, 11, 19],\n",
              " [1425, 1426],\n",
              " [1425, 1426, 107],\n",
              " [1425, 1426, 107, 87],\n",
              " [1425, 1426, 107, 87, 10],\n",
              " [1425, 1426, 107, 87, 10, 426],\n",
              " [90, 119],\n",
              " [90, 119, 9],\n",
              " [90, 119, 9, 135],\n",
              " [90, 119, 9, 135, 1427],\n",
              " [357, 1428],\n",
              " [357, 1428, 287],\n",
              " [357, 1428, 287, 131],\n",
              " [357, 1428, 287, 131, 16],\n",
              " [357, 1428, 287, 131, 16, 32],\n",
              " [357, 1428, 287, 131, 16, 32, 427],\n",
              " [1, 81],\n",
              " [1, 81, 1429],\n",
              " [1, 81, 1429, 78],\n",
              " [1, 81, 1429, 78, 525],\n",
              " [1, 81, 1429, 78, 525, 3],\n",
              " [1, 81, 1429, 78, 525, 3, 79],\n",
              " [1, 81, 1429, 78, 525, 3, 79, 41],\n",
              " [1, 81, 1429, 78, 525, 3, 79, 41, 526],\n",
              " [38, 260],\n",
              " [38, 260, 900],\n",
              " [38, 260, 900, 107],\n",
              " [38, 260, 900, 107, 87],\n",
              " [38, 260, 900, 107, 87, 10],\n",
              " [38, 260, 900, 107, 87, 10, 649],\n",
              " [2, 901],\n",
              " [2, 901, 1430],\n",
              " [2, 901, 1430, 527],\n",
              " [2, 901, 1430, 527, 19],\n",
              " [2, 901, 1430, 527, 19, 3],\n",
              " [2, 901, 1430, 527, 19, 3, 100],\n",
              " [1431, 902],\n",
              " [1431, 902, 107],\n",
              " [1431, 902, 107, 87],\n",
              " [1431, 902, 107, 87, 10],\n",
              " [1431, 902, 107, 87, 10, 187],\n",
              " [20, 239],\n",
              " [20, 239, 17],\n",
              " [20, 239, 17, 520],\n",
              " [20, 239, 17, 520, 4],\n",
              " [20, 239, 17, 520, 4, 1432],\n",
              " [20, 239, 17, 520, 4, 1432, 57],\n",
              " [20, 239, 17, 520, 4, 1432, 57, 320],\n",
              " [20, 239, 17, 520, 4, 1432, 57, 320, 14],\n",
              " [20, 239, 17, 520, 4, 1432, 57, 320, 14, 89],\n",
              " [12, 358],\n",
              " [12, 358, 1433],\n",
              " [12, 358, 1433, 11],\n",
              " [12, 358, 1433, 11, 119],\n",
              " [12, 358, 1433, 11, 119, 132],\n",
              " [10, 4],\n",
              " [10, 4, 119],\n",
              " [10, 4, 119, 9],\n",
              " [10, 4, 119, 9, 47],\n",
              " [10, 4, 119, 9, 47, 123],\n",
              " [10, 4, 119, 9, 47, 123, 87],\n",
              " [10, 4, 119, 9, 47, 123, 87, 903],\n",
              " [38, 71],\n",
              " [38, 71, 27],\n",
              " [38, 71, 27, 240],\n",
              " [38, 71, 27, 240, 423],\n",
              " [38, 71, 27, 240, 423, 19],\n",
              " [38, 71, 27, 240, 423, 19, 3],\n",
              " [38, 71, 27, 240, 423, 19, 3, 21],\n",
              " [38, 71, 27, 240, 423, 19, 3, 21, 261],\n",
              " [40, 1434],\n",
              " [40, 1434, 650],\n",
              " [40, 1434, 650, 320],\n",
              " [40, 1434, 650, 320, 10],\n",
              " [40, 1434, 650, 320, 10, 241],\n",
              " [9, 528],\n",
              " [9, 528, 51],\n",
              " [9, 528, 51, 120],\n",
              " [9, 528, 51, 120, 21],\n",
              " [9, 528, 51, 120, 21, 1435],\n",
              " [9, 528, 51, 120, 21, 1435, 11],\n",
              " [9, 528, 51, 120, 21, 1435, 11, 19],\n",
              " [26, 529],\n",
              " [26, 529, 262],\n",
              " [26, 529, 262, 1436],\n",
              " [26, 529, 262, 1436, 1437],\n",
              " [26, 529, 262, 1436, 1437, 3],\n",
              " [26, 529, 262, 1436, 1437, 3, 21],\n",
              " [79, 203],\n",
              " [79, 203, 8],\n",
              " [79, 203, 8, 11],\n",
              " [79, 203, 8, 11, 180],\n",
              " [79, 203, 8, 11, 180, 651],\n",
              " [79, 203, 8, 11, 180, 651, 104],\n",
              " [79, 203, 8, 11, 180, 651, 104, 530],\n",
              " [2, 286],\n",
              " [2, 286, 904],\n",
              " [2, 286, 904, 64],\n",
              " [2, 286, 904, 64, 83],\n",
              " [2, 286, 904, 64, 83, 72],\n",
              " [2, 286, 904, 64, 83, 72, 32],\n",
              " [2, 286, 904, 64, 83, 72, 32, 359],\n",
              " [49, 428],\n",
              " [49, 428, 2],\n",
              " [49, 428, 2, 1439],\n",
              " [49, 428, 2, 1439, 3],\n",
              " [49, 428, 2, 1439, 3, 2],\n",
              " [49, 428, 2, 1439, 3, 2, 321],\n",
              " [49, 428, 2, 1439, 3, 2, 321, 322],\n",
              " [1, 8],\n",
              " [1, 8, 1440],\n",
              " [1, 8, 1440, 26],\n",
              " [1, 8, 1440, 26, 1441],\n",
              " [1, 8, 1440, 26, 1441, 32],\n",
              " [1, 8, 1440, 26, 1441, 32, 1442],\n",
              " [12, 156],\n",
              " [12, 156, 1443],\n",
              " [12, 156, 1443, 48],\n",
              " [12, 156, 1443, 48, 905],\n",
              " [12, 156, 1443, 48, 905, 288],\n",
              " [12, 156, 1443, 48, 905, 288, 35],\n",
              " [3, 906],\n",
              " [3, 906, 429],\n",
              " [3, 906, 429, 1],\n",
              " [3, 906, 429, 1, 652],\n",
              " [3, 906, 429, 1, 652, 73],\n",
              " [3, 906, 429, 1, 652, 73, 138],\n",
              " [907, 908],\n",
              " [907, 908, 11],\n",
              " [907, 908, 11, 1444],\n",
              " [907, 908, 11, 1444, 1],\n",
              " [907, 908, 11, 1444, 1, 893],\n",
              " [907, 908, 11, 1444, 1, 893, 289],\n",
              " [907, 908, 11, 1444, 1, 893, 289, 430],\n",
              " [907, 908, 11, 1444, 1, 893, 289, 430, 261],\n",
              " [51, 1445],\n",
              " [51, 1445, 1],\n",
              " [51, 1445, 1, 909],\n",
              " [51, 1445, 1, 909, 83],\n",
              " [51, 1445, 1, 909, 83, 64],\n",
              " [38, 86],\n",
              " [38, 86, 14],\n",
              " [38, 86, 14, 218],\n",
              " [38, 86, 14, 218, 1446],\n",
              " [38, 86, 14, 218, 1446, 431],\n",
              " [17, 1447],\n",
              " [17, 1447, 1448],\n",
              " [17, 1447, 1448, 910],\n",
              " [17, 1447, 1448, 910, 7],\n",
              " [17, 1447, 1448, 910, 7, 911],\n",
              " [17, 1447, 1448, 910, 7, 911, 4],\n",
              " [17, 1447, 1448, 910, 7, 911, 4, 237],\n",
              " [135, 653],\n",
              " [135, 653, 11],\n",
              " [135, 653, 11, 51],\n",
              " [135, 653, 11, 51, 86],\n",
              " [135, 653, 11, 51, 86, 1449],\n",
              " [52, 28],\n",
              " [52, 28, 52],\n",
              " [52, 28, 52, 37],\n",
              " [52, 28, 52, 37, 912],\n",
              " [52, 28, 52, 37, 912, 40],\n",
              " [52, 28, 52, 37, 912, 40, 28],\n",
              " [52, 28, 52, 37, 912, 40, 28, 91],\n",
              " [16, 290],\n",
              " [16, 290, 654],\n",
              " [16, 290, 654, 80],\n",
              " [16, 290, 654, 80, 50],\n",
              " [16, 290, 654, 80, 50, 11],\n",
              " [16, 290, 654, 80, 50, 11, 429],\n",
              " [16, 290, 654, 80, 50, 11, 429, 913],\n",
              " [1450, 16],\n",
              " [1450, 16, 45],\n",
              " [1450, 16, 45, 110],\n",
              " [1450, 16, 45, 110, 45],\n",
              " [1450, 16, 45, 110, 45, 531],\n",
              " [1450, 16, 45, 110, 45, 531, 70],\n",
              " [1450, 16, 45, 110, 45, 531, 70, 262],\n",
              " [1450, 16, 45, 110, 45, 531, 70, 262, 47],\n",
              " [38, 105],\n",
              " [38, 105, 14],\n",
              " [38, 105, 14, 655],\n",
              " [38, 105, 14, 655, 1452],\n",
              " [38, 105, 14, 655, 1452, 139],\n",
              " [38, 105, 14, 655, 1452, 139, 1453],\n",
              " [7, 19],\n",
              " [7, 19, 9],\n",
              " [7, 19, 9, 288],\n",
              " [7, 19, 9, 288, 360],\n",
              " [7, 19, 9, 288, 360, 10],\n",
              " [7, 19, 9, 288, 360, 10, 21],\n",
              " [7, 19, 9, 288, 360, 10, 21, 654],\n",
              " [65, 47],\n",
              " [65, 47, 82],\n",
              " [65, 47, 82, 1454],\n",
              " [65, 47, 82, 1454, 258],\n",
              " [65, 47, 82, 1454, 258, 10],\n",
              " [65, 47, 82, 1454, 258, 10, 82],\n",
              " [65, 47, 82, 1454, 258, 10, 82, 242],\n",
              " [11, 135],\n",
              " [11, 135, 258],\n",
              " [11, 135, 258, 360],\n",
              " [11, 135, 258, 360, 28],\n",
              " [11, 135, 258, 360, 28, 21],\n",
              " [11, 135, 258, 360, 28, 21, 123],\n",
              " [11, 135, 258, 360, 28, 21, 123, 1455],\n",
              " [8, 187],\n",
              " [8, 187, 13],\n",
              " [8, 187, 13, 14],\n",
              " [8, 187, 13, 14, 1456],\n",
              " [8, 187, 13, 14, 1456, 1457],\n",
              " [26, 1458],\n",
              " [26, 1458, 79],\n",
              " [26, 1458, 79, 8],\n",
              " [26, 1458, 79, 8, 656],\n",
              " [26, 1458, 79, 8, 656, 2],\n",
              " [26, 1458, 79, 8, 656, 2, 914],\n",
              " [26, 1458, 79, 8, 656, 2, 914, 1459],\n",
              " [1460, 12],\n",
              " [1460, 12, 119],\n",
              " [1460, 12, 119, 3],\n",
              " [1460, 12, 119, 3, 915],\n",
              " [1460, 12, 119, 3, 915, 238],\n",
              " [1460, 12, 119, 3, 915, 238, 19],\n",
              " [36, 323],\n",
              " [36, 323, 263],\n",
              " [36, 323, 263, 657],\n",
              " [36, 323, 263, 657, 21],\n",
              " [36, 323, 263, 657, 21, 28],\n",
              " [36, 323, 263, 657, 21, 28, 323],\n",
              " [36, 323, 263, 657, 21, 28, 323, 12],\n",
              " [36, 323, 263, 657, 21, 28, 323, 12, 66],\n",
              " [323, 263],\n",
              " [323, 263, 119],\n",
              " [323, 263, 119, 86],\n",
              " [323, 263, 119, 86, 657],\n",
              " [323, 263, 119, 86, 657, 59],\n",
              " [323, 263, 119, 86, 657, 59, 10],\n",
              " [323, 263, 119, 86, 657, 59, 10, 54],\n",
              " [42, 323],\n",
              " [42, 323, 4],\n",
              " [42, 323, 4, 62],\n",
              " [42, 323, 4, 62, 323],\n",
              " [42, 323, 4, 62, 323, 263],\n",
              " [42, 323, 4, 62, 323, 263, 1461],\n",
              " [42, 323, 4, 62, 323, 263, 1461, 19],\n",
              " [38, 40],\n",
              " [38, 40, 243],\n",
              " [38, 40, 243, 157],\n",
              " [38, 40, 243, 157, 33],\n",
              " [38, 40, 243, 157, 33, 42],\n",
              " [38, 40, 243, 157, 33, 42, 10],\n",
              " [38, 40, 243, 157, 33, 42, 10, 361],\n",
              " [38, 40, 243, 157, 33, 42, 10, 361, 916],\n",
              " [1462, 19],\n",
              " [1462, 19, 278],\n",
              " [1462, 19, 278, 7],\n",
              " [1462, 19, 278, 7, 644],\n",
              " [21, 14],\n",
              " [21, 14, 123],\n",
              " [21, 14, 123, 1463],\n",
              " [21, 14, 123, 1463, 12],\n",
              " [21, 14, 123, 1463, 12, 10],\n",
              " [21, 14, 123, 1463, 12, 10, 54],\n",
              " [21, 14, 123, 1463, 12, 10, 54, 137],\n",
              " [21, 14, 123, 1463, 12, 10, 54, 137, 136],\n",
              " [21, 14, 123, 1463, 12, 10, 54, 137, 136, 69],\n",
              " [3, 21],\n",
              " [3, 21, 532],\n",
              " [3, 21, 532, 658],\n",
              " [3, 21, 532, 658, 1],\n",
              " [3, 21, 532, 658, 1, 65],\n",
              " [3, 21, 532, 658, 1, 65, 533],\n",
              " [3, 21, 532, 658, 1, 65, 533, 62],\n",
              " [3, 21, 532, 658, 1, 65, 533, 62, 637],\n",
              " [659, 7],\n",
              " [659, 7, 2],\n",
              " [659, 7, 2, 1465],\n",
              " [659, 7, 2, 1465, 27],\n",
              " [659, 7, 2, 1465, 27, 2],\n",
              " [659, 7, 2, 1465, 27, 2, 432],\n",
              " [659, 7, 2, 1465, 27, 2, 432, 362],\n",
              " [1466, 148],\n",
              " [1466, 148, 25],\n",
              " [1466, 148, 25, 1467],\n",
              " [1466, 148, 25, 1467, 363],\n",
              " [1466, 148, 25, 1467, 363, 169],\n",
              " [1466, 148, 25, 1467, 363, 169, 364],\n",
              " [1466, 148, 25, 1467, 363, 169, 364, 72],\n",
              " [32, 1468],\n",
              " [32, 1468, 3],\n",
              " [32, 1468, 3, 25],\n",
              " [32, 1468, 3, 25, 99],\n",
              " [32, 1468, 3, 25, 99, 1469],\n",
              " [32, 1468, 3, 25, 99, 1469, 149],\n",
              " [917, 11],\n",
              " [917, 11, 204],\n",
              " [917, 11, 204, 25],\n",
              " [917, 11, 204, 25, 918],\n",
              " [917, 11, 204, 25, 918, 919],\n",
              " [1, 358],\n",
              " [1, 358, 1470],\n",
              " [1, 358, 1470, 2],\n",
              " [1, 358, 1470, 2, 920],\n",
              " [1, 358, 1470, 2, 920, 148],\n",
              " [1, 358, 1470, 2, 920, 148, 660],\n",
              " [1, 358, 1470, 2, 920, 148, 660, 1471],\n",
              " [921, 264],\n",
              " [921, 264, 170],\n",
              " [921, 264, 170, 7],\n",
              " [921, 264, 170, 7, 25],\n",
              " [921, 264, 170, 7, 25, 1472],\n",
              " [921, 264, 170, 7, 25, 1472, 168],\n",
              " [57, 433],\n",
              " [57, 433, 204],\n",
              " [57, 433, 204, 1473],\n",
              " [57, 433, 204, 1473, 25],\n",
              " [57, 433, 204, 1473, 25, 51],\n",
              " [57, 433, 204, 1473, 25, 51, 70],\n",
              " [922, 35],\n",
              " [922, 35, 25],\n",
              " [922, 35, 25, 425],\n",
              " [922, 35, 25, 425, 923],\n",
              " [16, 27],\n",
              " [16, 27, 34],\n",
              " [16, 27, 34, 1474],\n",
              " [16, 27, 34, 1474, 924],\n",
              " [16, 27, 34, 1474, 924, 11],\n",
              " [16, 27, 34, 1474, 924, 11, 534],\n",
              " [16, 27, 34, 1474, 924, 11, 534, 1475],\n",
              " [74, 1476],\n",
              " [74, 1476, 168],\n",
              " [74, 1476, 168, 68],\n",
              " [74, 1476, 168, 68, 1477],\n",
              " [74, 1476, 168, 68, 1477, 34],\n",
              " [74, 1476, 168, 68, 1477, 34, 2],\n",
              " [74, 1476, 168, 68, 1477, 34, 2, 97],\n",
              " [2, 53],\n",
              " [2, 53, 1478],\n",
              " [2, 53, 1478, 1479],\n",
              " [2, 53, 1478, 1479, 63],\n",
              " [2, 53, 1478, 1479, 63, 925],\n",
              " [2, 53, 1478, 1479, 63, 925, 41],\n",
              " [34, 25],\n",
              " [34, 25, 1480],\n",
              " [34, 25, 1480, 1481],\n",
              " [34, 25, 1480, 1481, 1],\n",
              " [34, 25, 1480, 1481, 1, 113],\n",
              " [34, 25, 1480, 1481, 1, 113, 238],\n",
              " [34, 25, 1480, 1481, 1, 113, 238, 365],\n",
              " [20, 10],\n",
              " [20, 10, 119],\n",
              " [20, 10, 119, 150],\n",
              " [20, 10, 119, 150, 926],\n",
              " [20, 10, 119, 150, 926, 7],\n",
              " [20, 10, 119, 150, 926, 7, 9],\n",
              " [20, 10, 119, 150, 926, 7, 9, 1482],\n",
              " [927, 35],\n",
              " [927, 35, 1483],\n",
              " [927, 35, 1483, 366],\n",
              " [927, 35, 1483, 366, 10],\n",
              " [927, 35, 1483, 366, 10, 1484],\n",
              " [927, 35, 1483, 366, 10, 1484, 17],\n",
              " [927, 35, 1483, 366, 10, 1484, 17, 661],\n",
              " [367, 3],\n",
              " [367, 3, 368],\n",
              " [367, 3, 368, 107],\n",
              " [367, 3, 368, 107, 1486],\n",
              " [367, 3, 368, 107, 1486, 10],\n",
              " [367, 3, 368, 107, 1486, 10, 367],\n",
              " [367, 3, 368, 107, 1486, 10, 367, 1487],\n",
              " [369, 11],\n",
              " [369, 11, 369],\n",
              " [369, 11, 369, 370],\n",
              " [369, 11, 369, 370, 14],\n",
              " [369, 11, 369, 370, 14, 291],\n",
              " [369, 11, 369, 370, 14, 291, 928],\n",
              " [369, 11, 369, 370, 14, 291, 928, 7],\n",
              " [369, 11, 369, 370, 14, 291, 928, 7, 291],\n",
              " [107, 371],\n",
              " [107, 371, 10],\n",
              " [107, 371, 10, 8],\n",
              " [107, 371, 10, 8, 26],\n",
              " [107, 371, 10, 8, 26, 10],\n",
              " [107, 371, 10, 8, 26, 10, 662],\n",
              " [107, 371, 10, 8, 26, 10, 662, 14],\n",
              " [107, 371, 10, 8, 26, 10, 662, 14, 1488],\n",
              " [36, 354],\n",
              " [36, 354, 662],\n",
              " [36, 354, 662, 11],\n",
              " [36, 354, 662, 11, 219],\n",
              " [36, 354, 662, 11, 219, 62],\n",
              " [36, 354, 662, 11, 219, 62, 1489],\n",
              " [42, 2],\n",
              " [42, 2, 75],\n",
              " [42, 2, 75, 929],\n",
              " [42, 2, 75, 929, 4],\n",
              " [42, 2, 75, 929, 4, 98],\n",
              " [42, 2, 75, 929, 4, 98, 1490],\n",
              " [42, 2, 75, 929, 4, 98, 1490, 930],\n",
              " [30, 1491],\n",
              " [30, 1491, 931],\n",
              " [30, 1491, 931, 33],\n",
              " [30, 1491, 931, 33, 1492],\n",
              " [30, 1491, 931, 33, 1492, 62],\n",
              " [30, 1491, 931, 33, 1492, 62, 663],\n",
              " [50, 33],\n",
              " [50, 33, 16],\n",
              " [50, 33, 16, 932],\n",
              " [50, 33, 16, 932, 434],\n",
              " [50, 33, 16, 932, 434, 19],\n",
              " [50, 33, 16, 932, 434, 19, 88],\n",
              " [50, 33, 16, 932, 434, 19, 88, 652],\n",
              " [7, 1493],\n",
              " [7, 1493, 2],\n",
              " [7, 1493, 2, 324],\n",
              " [7, 1493, 2, 324, 8],\n",
              " [7, 1493, 2, 324, 8, 10],\n",
              " [7, 1493, 2, 324, 8, 10, 361],\n",
              " [7, 1493, 2, 324, 8, 10, 361, 200],\n",
              " [535, 71],\n",
              " [535, 71, 66],\n",
              " [535, 71, 66, 1494],\n",
              " [535, 71, 66, 1494, 47],\n",
              " [535, 71, 66, 1494, 47, 664],\n",
              " [535, 71, 66, 1494, 47, 664, 3],\n",
              " [535, 71, 66, 1494, 47, 664, 3, 238],\n",
              " [1495, 169],\n",
              " [1495, 169, 7],\n",
              " [1495, 169, 7, 169],\n",
              " [1495, 169, 7, 169, 30],\n",
              " [1495, 169, 7, 169, 30, 933],\n",
              " [1495, 169, 7, 169, 30, 933, 1496],\n",
              " [921, 1497],\n",
              " [921, 1497, 1],\n",
              " [921, 1497, 1, 284],\n",
              " [921, 1497, 1, 284, 1],\n",
              " [921, 1497, 1, 284, 1, 220],\n",
              " [921, 1497, 1, 284, 1, 220, 895],\n",
              " [88, 23],\n",
              " [88, 23, 7],\n",
              " [88, 23, 7, 66],\n",
              " [88, 23, 7, 66, 66],\n",
              " [88, 23, 7, 66, 66, 934],\n",
              " [88, 23, 7, 66, 66, 934, 935],\n",
              " [88, 23, 7, 66, 66, 934, 935, 33],\n",
              " [88, 23, 7, 66, 66, 934, 935, 33, 325],\n",
              " [130, 936],\n",
              " [130, 936, 536],\n",
              " [130, 936, 536, 81],\n",
              " [130, 936, 536, 81, 188],\n",
              " [130, 936, 536, 81, 188, 665],\n",
              " [130, 936, 536, 81, 188, 665, 66],\n",
              " [937, 29],\n",
              " [937, 29, 3],\n",
              " [937, 29, 3, 19],\n",
              " [937, 29, 3, 19, 1498],\n",
              " [937, 29, 3, 19, 1498, 523],\n",
              " [937, 29, 3, 19, 1498, 523, 181],\n",
              " [937, 29, 3, 19, 1498, 523, 181, 189],\n",
              " [937, 29, 3, 19, 1498, 523, 181, 189, 190],\n",
              " [937, 29, 3, 19, 1498, 523, 181, 189, 190, 147],\n",
              " [13, 28],\n",
              " [13, 28, 12],\n",
              " [13, 28, 12, 292],\n",
              " [13, 28, 12, 292, 3],\n",
              " [13, 28, 12, 292, 3, 1500],\n",
              " [13, 28, 12, 292, 3, 1500, 17],\n",
              " [13, 28, 12, 292, 3, 1500, 17, 1501],\n",
              " [13, 28, 12, 292, 3, 1500, 17, 1501, 72],\n",
              " [8, 10],\n",
              " [8, 10, 1502],\n",
              " [8, 10, 1502, 119],\n",
              " [8, 10, 1502, 119, 7],\n",
              " [8, 10, 1502, 119, 7, 523],\n",
              " [8, 10, 1502, 119, 7, 523, 111],\n",
              " [326, 42],\n",
              " [326, 42, 10],\n",
              " [326, 42, 10, 1503],\n",
              " [326, 42, 10, 1503, 221],\n",
              " [326, 42, 10, 1503, 221, 1504],\n",
              " [326, 42, 10, 1503, 221, 1504, 3],\n",
              " [326, 42, 10, 1503, 221, 1504, 3, 199],\n",
              " [2, 94],\n",
              " [2, 94, 49],\n",
              " [2, 94, 49, 938],\n",
              " [2, 94, 49, 938, 19],\n",
              " [2, 94, 49, 938, 19, 74],\n",
              " [2, 94, 49, 938, 19, 74, 17],\n",
              " [2, 94, 49, 938, 19, 74, 17, 1505],\n",
              " [2, 94, 49, 938, 19, 74, 17, 1505, 1506],\n",
              " [2, 94],\n",
              " [2, 94, 49],\n",
              " [2, 94, 49, 21],\n",
              " [2, 94, 49, 21, 9],\n",
              " [2, 94, 49, 21, 9, 939],\n",
              " [2, 94, 49, 21, 9, 939, 1],\n",
              " [2, 94, 49, 21, 9, 939, 1, 70],\n",
              " [2, 94, 49, 21, 9, 939, 1, 70, 666],\n",
              " [8, 10],\n",
              " [8, 10, 37],\n",
              " [8, 10, 37, 217],\n",
              " [8, 10, 37, 217, 4],\n",
              " [8, 10, 37, 217, 4, 19],\n",
              " [8, 10, 37, 217, 4, 19, 151],\n",
              " [8, 10, 37, 217, 4, 19, 151, 431],\n",
              " [8, 10, 37, 217, 4, 19, 151, 431, 537],\n",
              " [27, 83],\n",
              " [27, 83, 1507],\n",
              " [27, 83, 1507, 939],\n",
              " [27, 83, 1507, 939, 98],\n",
              " [27, 83, 1507, 939, 98, 92],\n",
              " [27, 83, 1507, 939, 98, 92, 265],\n",
              " [30, 1508],\n",
              " [30, 1508, 53],\n",
              " [30, 1508, 53, 55],\n",
              " [30, 1508, 53, 55, 1509],\n",
              " [30, 1508, 53, 55, 1509, 435],\n",
              " [30, 1508, 53, 55, 1509, 435, 7],\n",
              " [30, 1508, 53, 55, 1509, 435, 7, 158],\n",
              " [113, 40],\n",
              " [113, 40, 146],\n",
              " [113, 40, 146, 1510],\n",
              " [113, 40, 146, 1510, 7],\n",
              " [113, 40, 146, 1510, 7, 2],\n",
              " [113, 40, 146, 1510, 7, 2, 94],\n",
              " [113, 40, 146, 1510, 7, 2, 94, 32],\n",
              " [113, 40, 146, 1510, 7, 2, 94, 32, 426],\n",
              " [1511, 16],\n",
              " [1511, 16, 25],\n",
              " [1511, 16, 25, 242],\n",
              " [1511, 16, 25, 242, 12],\n",
              " [1511, 16, 25, 242, 12, 70],\n",
              " [1511, 16, 25, 242, 12, 70, 2],\n",
              " [1511, 16, 25, 242, 12, 70, 2, 94],\n",
              " [1511, 16, 25, 242, 12, 70, 2, 94, 1512],\n",
              " [1511, 16, 25, 242, 12, 70, 2, 94, 1512, 28],\n",
              " [16, 135],\n",
              " [16, 135, 316],\n",
              " [16, 135, 316, 67],\n",
              " [16, 135, 316, 67, 7],\n",
              " [16, 135, 316, 67, 7, 2],\n",
              " [16, 135, 316, 67, 7, 2, 94],\n",
              " [16, 135, 316, 67, 7, 2, 94, 146],\n",
              " [16, 135, 316, 67, 7, 2, 94, 146, 222],\n",
              " [1, 667],\n",
              " [1, 667, 528],\n",
              " [1, 667, 528, 2],\n",
              " [1, 667, 528, 2, 1513],\n",
              " [1, 667, 528, 2, 1513, 20],\n",
              " [1, 667, 528, 2, 1513, 20, 1514],\n",
              " [1, 667, 528, 2, 1513, 20, 1514, 28],\n",
              " [37, 15],\n",
              " [37, 15, 1515],\n",
              " [37, 15, 1515, 223],\n",
              " [37, 15, 1515, 223, 7],\n",
              " [37, 15, 1515, 223, 7, 8],\n",
              " [37, 15, 1515, 223, 7, 8, 940],\n",
              " [37, 15, 1515, 223, 7, 8, 940, 1516],\n",
              " [8, 35],\n",
              " [8, 35, 941],\n",
              " [8, 35, 941, 84],\n",
              " [8, 35, 941, 84, 668],\n",
              " [8, 35, 941, 84, 668, 236],\n",
              " [8, 35, 941, 84, 668, 236, 942],\n",
              " [12, 236],\n",
              " [12, 236, 943],\n",
              " [12, 236, 943, 8],\n",
              " [12, 236, 943, 8, 10],\n",
              " [12, 236, 943, 8, 10, 1518],\n",
              " [12, 236, 943, 8, 10, 1518, 15],\n",
              " [12, 236, 943, 8, 10, 1518, 15, 3],\n",
              " [12, 236, 943, 8, 10, 1518, 15, 3, 224],\n",
              " [88, 12],\n",
              " [88, 12, 119],\n",
              " [88, 12, 119, 54],\n",
              " [88, 12, 119, 54, 20],\n",
              " [88, 12, 119, 54, 20, 1519],\n",
              " [538, 42],\n",
              " [538, 42, 10],\n",
              " [538, 42, 10, 181],\n",
              " [538, 42, 10, 181, 10],\n",
              " [538, 42, 10, 181, 10, 54],\n",
              " [538, 42, 10, 181, 10, 54, 436],\n",
              " [538, 42, 10, 181, 10, 54, 436, 4],\n",
              " [538, 42, 10, 181, 10, 54, 436, 4, 188],\n",
              " [16, 8],\n",
              " [16, 8, 10],\n",
              " [16, 8, 10, 190],\n",
              " [16, 8, 10, 190, 371],\n",
              " [16, 8, 10, 190, 371, 13],\n",
              " [16, 8, 10, 190, 371, 13, 101],\n",
              " [16, 8, 10, 190, 371, 13, 101, 1520],\n",
              " [12, 10],\n",
              " [12, 10, 54],\n",
              " [12, 10, 54, 20],\n",
              " [12, 10, 54, 20, 944],\n",
              " [12, 10, 54, 20, 944, 11],\n",
              " [12, 10, 54, 20, 944, 11, 668],\n",
              " [12, 10, 54, 20, 944, 11, 668, 191],\n",
              " [8, 372],\n",
              " [8, 372, 119],\n",
              " [8, 372, 119, 10],\n",
              " [8, 372, 119, 10, 1521],\n",
              " [8, 372, 119, 10, 1521, 14],\n",
              " [8, 372, 119, 10, 1521, 14, 3],\n",
              " [8, 372, 119, 10, 1521, 14, 3, 1522],\n",
              " [1523, 8],\n",
              " [1523, 8, 260],\n",
              " [1523, 8, 260, 1524],\n",
              " [1523, 8, 260, 1524, 3],\n",
              " [1523, 8, 260, 1524, 3, 1525],\n",
              " [26, 3],\n",
              " [26, 3, 643],\n",
              " [26, 3, 643, 61],\n",
              " [26, 3, 643, 61, 21],\n",
              " [26, 3, 643, 61, 21, 9],\n",
              " [26, 3, 643, 61, 21, 9, 945],\n",
              " [26, 3, 643, 61, 21, 9, 945, 214],\n",
              " [58, 205],\n",
              " [58, 205, 9],\n",
              " [58, 205, 9, 140],\n",
              " [58, 205, 9, 140, 8],\n",
              " [58, 205, 9, 140, 8, 6],\n",
              " [58, 205, 9, 140, 8, 6, 92],\n",
              " [58, 205, 9, 140, 8, 6, 92, 205],\n",
              " [58, 205, 9, 140, 8, 6, 92, 205, 5],\n",
              " [58, 205, 9, 140, 8, 6, 92, 205, 5, 158],\n",
              " [46, 191],\n",
              " [46, 191, 21],\n",
              " [46, 191, 21, 669],\n",
              " [46, 191, 21, 669, 1526],\n",
              " [46, 191, 21, 669, 1526, 59],\n",
              " [46, 191, 21, 669, 1526, 59, 180],\n",
              " [46, 191, 21, 669, 1526, 59, 180, 15],\n",
              " [21, 22],\n",
              " [21, 22, 9],\n",
              " [21, 22, 9, 946],\n",
              " [21, 22, 9, 946, 13],\n",
              " [21, 22, 9, 946, 13, 432],\n",
              " [21, 22, 9, 946, 13, 432, 1],\n",
              " [21, 22, 9, 946, 13, 432, 1, 206],\n",
              " [36, 3],\n",
              " [36, 3, 119],\n",
              " [36, 3, 119, 106],\n",
              " [36, 3, 119, 106, 437],\n",
              " [36, 3, 119, 106, 437, 206],\n",
              " [36, 3, 119, 106, 437, 206, 1527],\n",
              " [36, 3, 119, 106, 437, 206, 1527, 189],\n",
              " [65, 19],\n",
              " [65, 19, 238],\n",
              " [65, 19, 238, 123],\n",
              " [65, 19, 238, 123, 12],\n",
              " [65, 19, 238, 123, 12, 15],\n",
              " [65, 19, 238, 123, 12, 15, 4],\n",
              " [65, 19, 238, 123, 12, 15, 4, 18],\n",
              " [8, 51],\n",
              " [8, 51, 70],\n",
              " [8, 51, 70, 92],\n",
              " [8, 51, 70, 92, 89],\n",
              " [8, 51, 70, 92, 89, 7],\n",
              " [8, 51, 70, 92, 89, 7, 62],\n",
              " [8, 51, 70, 92, 89, 7, 62, 36],\n",
              " [8, 51, 70, 92, 89, 7, 62, 36, 19],\n",
              " [22, 438],\n",
              " [22, 438, 22],\n",
              " [22, 438, 22, 10],\n",
              " [22, 438, 22, 10, 221],\n",
              " [22, 438, 22, 10, 221, 1529],\n",
              " [22, 438, 22, 10, 221, 1529, 20],\n",
              " [22, 438, 22, 10, 221, 1529, 20, 438],\n",
              " [22, 438, 22, 10, 221, 1529, 20, 438, 10],\n",
              " [22, 438, 22, 10, 221, 1529, 20, 438, 10, 947],\n",
              " [7, 66],\n",
              " [7, 66, 4],\n",
              " [7, 66, 4, 62],\n",
              " [7, 66, 4, 62, 34],\n",
              " [7, 66, 4, 62, 34, 8],\n",
              " [7, 66, 4, 62, 34, 8, 26],\n",
              " [7, 66, 4, 62, 34, 8, 26, 10],\n",
              " [7, 66, 4, 62, 34, 8, 26, 10, 1530],\n",
              " [1, 8],\n",
              " ...]"
            ]
          },
          "metadata": {},
          "execution_count": 7
        }
      ]
    },
    {
      "cell_type": "code",
      "source": [
        "n_gram_sequence"
      ],
      "metadata": {
        "colab": {
          "base_uri": "https://localhost:8080/"
        },
        "id": "O5620rAcaUCx",
        "outputId": "848e72bc-1c82-4845-b6e9-e66f36637700"
      },
      "execution_count": 8,
      "outputs": [
        {
          "output_type": "execute_result",
          "data": {
            "text/plain": [
              "[102, 253, 3373, 493, 493, 3374, 14, 15]"
            ]
          },
          "metadata": {},
          "execution_count": 8
        }
      ]
    },
    {
      "cell_type": "markdown",
      "metadata": {
        "id": "0k55g11IXqSh"
      },
      "source": [
        "Calculate the length of the longest sequence in input_sequences. Assign the result to a variable called max_sequence_len.\n",
        "\n",
        "Now pad the sequences using pad_sequences(input_sequences, maxlen=max_sequence_len, padding='pre').\n",
        "Convert it to a numpy array and assign the result back to our variable called input_sequences."
      ]
    },
    {
      "cell_type": "code",
      "execution_count": 9,
      "metadata": {
        "id": "aIXk7Q7wXqSh"
      },
      "outputs": [],
      "source": [
        "max_sequence_len = max([len(x) for x in input_sequences])\n",
        "\n",
        "input_sequences = pad_sequences(input_sequences, maxlen=max_sequence_len, padding='pre')"
      ]
    },
    {
      "cell_type": "code",
      "source": [
        "input_sequences.shape"
      ],
      "metadata": {
        "colab": {
          "base_uri": "https://localhost:8080/"
        },
        "id": "fqso88KbcM5o",
        "outputId": "10ad57b2-b6a2-4991-caad-fbc28ace4886"
      },
      "execution_count": 10,
      "outputs": [
        {
          "output_type": "execute_result",
          "data": {
            "text/plain": [
              "(15484, 11)"
            ]
          },
          "metadata": {},
          "execution_count": 10
        }
      ]
    },
    {
      "cell_type": "markdown",
      "metadata": {
        "id": "tKLhKf19XqSh"
      },
      "source": [
        "Prepare Predictors and Labels\n",
        "\n",
        "Split the sequences into two parts:\n",
        "\n",
        "- Predictors: All elements from input_sequences except the last one.\n",
        "- Labels: The last element of each sequence in input_sequences."
      ]
    },
    {
      "cell_type": "code",
      "execution_count": 11,
      "metadata": {
        "id": "PRnDnCW-Z7qv",
        "tags": []
      },
      "outputs": [],
      "source": [
        "predictors = input_sequences[:,:-1]\n",
        "labels = input_sequences[:,-1]"
      ]
    },
    {
      "cell_type": "code",
      "source": [
        "labels.shape"
      ],
      "metadata": {
        "colab": {
          "base_uri": "https://localhost:8080/"
        },
        "id": "oyLLr2DncQtG",
        "outputId": "2f3afe23-e002-41aa-8a4f-e74e3702cbf6"
      },
      "execution_count": 12,
      "outputs": [
        {
          "output_type": "execute_result",
          "data": {
            "text/plain": [
              "(15484,)"
            ]
          },
          "metadata": {},
          "execution_count": 12
        }
      ]
    },
    {
      "cell_type": "markdown",
      "metadata": {
        "id": "tW2D_SWVXqSh"
      },
      "source": [
        "One-Hot Encode the Labels :\n",
        "\n",
        "Convert the labels (which are integers) into one-hot encoded vectors.\n",
        "\n",
        "Ensure the length of these vectors matches the total number of unique words in your vocabulary.\n",
        "\n",
        "Use ku.to_categorical() on labels with num_classes = total_words\n",
        "\n",
        "Assign the result back to our variable labels."
      ]
    },
    {
      "cell_type": "code",
      "execution_count": 13,
      "metadata": {
        "id": "8JQr8z1cXqSh"
      },
      "outputs": [],
      "source": [
        "labels = ku.to_categorical(labels, num_classes=total_words)"
      ]
    },
    {
      "cell_type": "code",
      "source": [
        "labels.shape"
      ],
      "metadata": {
        "colab": {
          "base_uri": "https://localhost:8080/"
        },
        "id": "spn4nVvUcHPW",
        "outputId": "d28105c8-76c7-4785-8751-65451cb7fd40"
      },
      "execution_count": 14,
      "outputs": [
        {
          "output_type": "execute_result",
          "data": {
            "text/plain": [
              "(15484, 3375)"
            ]
          },
          "metadata": {},
          "execution_count": 14
        }
      ]
    },
    {
      "cell_type": "markdown",
      "metadata": {
        "id": "2Hb-OmjeXqSi"
      },
      "source": [
        "# Initialize the Model\n",
        "\n",
        "Start by creating a Sequential model.\n",
        "\n",
        "Add Layers to the Model:\n",
        "\n",
        "Embedding Layer: The first layer is an embedding layer. It converts word indices into dense vectors of fixed size (100 in this case). Set the input length to the maximum sequence length minus one, which corresponds to the number of previous words the model will consider when predicting the next word.\n",
        "\n",
        "Bidirectional LSTM Layer: Add a Bidirectional LSTM layer with 150 units. This layer allows the model to learn context from both directions (past and future) in the sequence. return_sequences=True\n",
        "\n",
        "Dropout Layer: Add a dropout layer with a rate of 0.2 to prevent overfitting by randomly setting 20% of the input units to 0 during training.\n",
        "\n",
        "LSTM Layer: Add a second LSTM layer with 100 units. This layer processes the sequence and passes its output to the next layer.\n",
        "\n",
        "Dense Layer (Intermediate): Add a dense layer with half the total number of words as units, using ReLU activation. A regularization term (L2) is added to prevent overfitting.\n",
        "\n",
        "Dense Layer (Output): The final dense layer has as many units as there are words in the vocabulary, with a softmax activation function to output a probability distribution over all words."
      ]
    },
    {
      "cell_type": "code",
      "execution_count": 15,
      "metadata": {
        "colab": {
          "base_uri": "https://localhost:8080/"
        },
        "id": "ffpe28fUXqSi",
        "outputId": "b1ca030c-c82f-4e9f-db52-3f860eec8022"
      },
      "outputs": [
        {
          "output_type": "stream",
          "name": "stderr",
          "text": [
            "/usr/local/lib/python3.11/dist-packages/keras/src/layers/core/embedding.py:97: UserWarning: Argument `input_length` is deprecated. Just remove it.\n",
            "  warnings.warn(\n"
          ]
        }
      ],
      "source": [
        "model = Sequential([\n",
        "    Embedding(total_words, 100, input_length=max_sequence_len-1),\n",
        "    Bidirectional(LSTM(150, return_sequences=True)),\n",
        "    Dropout(0.2),\n",
        "    LSTM(100),\n",
        "    Dense(total_words//2, activation='relu', kernel_regularizer=regularizers.l2(0.01)),\n",
        "    Dropout(0.2),\n",
        "    Dense(total_words, activation='softmax')\n",
        "])"
      ]
    },
    {
      "cell_type": "markdown",
      "metadata": {
        "id": "MLKMcr3uXqSi"
      },
      "source": [
        "# Compile the Model:\n",
        "\n",
        "Compile the model using categorical crossentropy as the loss function, the Adam optimizer for efficient training, and accuracy as the metric to evaluate during training."
      ]
    },
    {
      "cell_type": "code",
      "execution_count": 16,
      "metadata": {
        "id": "xkGumvEdXqSi"
      },
      "outputs": [],
      "source": [
        "model.compile(loss='categorical_crossentropy', optimizer='adam', metrics=['accuracy'])"
      ]
    },
    {
      "cell_type": "markdown",
      "metadata": {
        "id": "oSukLVfnXqSi"
      },
      "source": [
        "# Print Model Summary:\n",
        "\n",
        "Use model.summary() to print a summary of the model, which shows the layers, their output shapes, and the number of parameters."
      ]
    },
    {
      "cell_type": "code",
      "execution_count": 17,
      "metadata": {
        "colab": {
          "base_uri": "https://localhost:8080/",
          "height": 376
        },
        "id": "tstrlFOEXqSi",
        "outputId": "8e6be4a0-e950-4493-8d06-22f609403f37"
      },
      "outputs": [
        {
          "output_type": "display_data",
          "data": {
            "text/plain": [
              "\u001b[1mModel: \"sequential\"\u001b[0m\n"
            ],
            "text/html": [
              "<pre style=\"white-space:pre;overflow-x:auto;line-height:normal;font-family:Menlo,'DejaVu Sans Mono',consolas,'Courier New',monospace\"><span style=\"font-weight: bold\">Model: \"sequential\"</span>\n",
              "</pre>\n"
            ]
          },
          "metadata": {}
        },
        {
          "output_type": "display_data",
          "data": {
            "text/plain": [
              "┏━━━━━━━━━━━━━━━━━━━━━━━━━━━━━━━━━┳━━━━━━━━━━━━━━━━━━━━━━━━┳━━━━━━━━━━━━━━━┓\n",
              "┃\u001b[1m \u001b[0m\u001b[1mLayer (type)                   \u001b[0m\u001b[1m \u001b[0m┃\u001b[1m \u001b[0m\u001b[1mOutput Shape          \u001b[0m\u001b[1m \u001b[0m┃\u001b[1m \u001b[0m\u001b[1m      Param #\u001b[0m\u001b[1m \u001b[0m┃\n",
              "┡━━━━━━━━━━━━━━━━━━━━━━━━━━━━━━━━━╇━━━━━━━━━━━━━━━━━━━━━━━━╇━━━━━━━━━━━━━━━┩\n",
              "│ embedding (\u001b[38;5;33mEmbedding\u001b[0m)           │ ?                      │   \u001b[38;5;34m0\u001b[0m (unbuilt) │\n",
              "├─────────────────────────────────┼────────────────────────┼───────────────┤\n",
              "│ bidirectional (\u001b[38;5;33mBidirectional\u001b[0m)   │ ?                      │   \u001b[38;5;34m0\u001b[0m (unbuilt) │\n",
              "├─────────────────────────────────┼────────────────────────┼───────────────┤\n",
              "│ dropout (\u001b[38;5;33mDropout\u001b[0m)               │ ?                      │             \u001b[38;5;34m0\u001b[0m │\n",
              "├─────────────────────────────────┼────────────────────────┼───────────────┤\n",
              "│ lstm_1 (\u001b[38;5;33mLSTM\u001b[0m)                   │ ?                      │   \u001b[38;5;34m0\u001b[0m (unbuilt) │\n",
              "├─────────────────────────────────┼────────────────────────┼───────────────┤\n",
              "│ dense (\u001b[38;5;33mDense\u001b[0m)                   │ ?                      │   \u001b[38;5;34m0\u001b[0m (unbuilt) │\n",
              "├─────────────────────────────────┼────────────────────────┼───────────────┤\n",
              "│ dropout_1 (\u001b[38;5;33mDropout\u001b[0m)             │ ?                      │             \u001b[38;5;34m0\u001b[0m │\n",
              "├─────────────────────────────────┼────────────────────────┼───────────────┤\n",
              "│ dense_1 (\u001b[38;5;33mDense\u001b[0m)                 │ ?                      │   \u001b[38;5;34m0\u001b[0m (unbuilt) │\n",
              "└─────────────────────────────────┴────────────────────────┴───────────────┘\n"
            ],
            "text/html": [
              "<pre style=\"white-space:pre;overflow-x:auto;line-height:normal;font-family:Menlo,'DejaVu Sans Mono',consolas,'Courier New',monospace\">┏━━━━━━━━━━━━━━━━━━━━━━━━━━━━━━━━━┳━━━━━━━━━━━━━━━━━━━━━━━━┳━━━━━━━━━━━━━━━┓\n",
              "┃<span style=\"font-weight: bold\"> Layer (type)                    </span>┃<span style=\"font-weight: bold\"> Output Shape           </span>┃<span style=\"font-weight: bold\">       Param # </span>┃\n",
              "┡━━━━━━━━━━━━━━━━━━━━━━━━━━━━━━━━━╇━━━━━━━━━━━━━━━━━━━━━━━━╇━━━━━━━━━━━━━━━┩\n",
              "│ embedding (<span style=\"color: #0087ff; text-decoration-color: #0087ff\">Embedding</span>)           │ ?                      │   <span style=\"color: #00af00; text-decoration-color: #00af00\">0</span> (unbuilt) │\n",
              "├─────────────────────────────────┼────────────────────────┼───────────────┤\n",
              "│ bidirectional (<span style=\"color: #0087ff; text-decoration-color: #0087ff\">Bidirectional</span>)   │ ?                      │   <span style=\"color: #00af00; text-decoration-color: #00af00\">0</span> (unbuilt) │\n",
              "├─────────────────────────────────┼────────────────────────┼───────────────┤\n",
              "│ dropout (<span style=\"color: #0087ff; text-decoration-color: #0087ff\">Dropout</span>)               │ ?                      │             <span style=\"color: #00af00; text-decoration-color: #00af00\">0</span> │\n",
              "├─────────────────────────────────┼────────────────────────┼───────────────┤\n",
              "│ lstm_1 (<span style=\"color: #0087ff; text-decoration-color: #0087ff\">LSTM</span>)                   │ ?                      │   <span style=\"color: #00af00; text-decoration-color: #00af00\">0</span> (unbuilt) │\n",
              "├─────────────────────────────────┼────────────────────────┼───────────────┤\n",
              "│ dense (<span style=\"color: #0087ff; text-decoration-color: #0087ff\">Dense</span>)                   │ ?                      │   <span style=\"color: #00af00; text-decoration-color: #00af00\">0</span> (unbuilt) │\n",
              "├─────────────────────────────────┼────────────────────────┼───────────────┤\n",
              "│ dropout_1 (<span style=\"color: #0087ff; text-decoration-color: #0087ff\">Dropout</span>)             │ ?                      │             <span style=\"color: #00af00; text-decoration-color: #00af00\">0</span> │\n",
              "├─────────────────────────────────┼────────────────────────┼───────────────┤\n",
              "│ dense_1 (<span style=\"color: #0087ff; text-decoration-color: #0087ff\">Dense</span>)                 │ ?                      │   <span style=\"color: #00af00; text-decoration-color: #00af00\">0</span> (unbuilt) │\n",
              "└─────────────────────────────────┴────────────────────────┴───────────────┘\n",
              "</pre>\n"
            ]
          },
          "metadata": {}
        },
        {
          "output_type": "display_data",
          "data": {
            "text/plain": [
              "\u001b[1m Total params: \u001b[0m\u001b[38;5;34m0\u001b[0m (0.00 B)\n"
            ],
            "text/html": [
              "<pre style=\"white-space:pre;overflow-x:auto;line-height:normal;font-family:Menlo,'DejaVu Sans Mono',consolas,'Courier New',monospace\"><span style=\"font-weight: bold\"> Total params: </span><span style=\"color: #00af00; text-decoration-color: #00af00\">0</span> (0.00 B)\n",
              "</pre>\n"
            ]
          },
          "metadata": {}
        },
        {
          "output_type": "display_data",
          "data": {
            "text/plain": [
              "\u001b[1m Trainable params: \u001b[0m\u001b[38;5;34m0\u001b[0m (0.00 B)\n"
            ],
            "text/html": [
              "<pre style=\"white-space:pre;overflow-x:auto;line-height:normal;font-family:Menlo,'DejaVu Sans Mono',consolas,'Courier New',monospace\"><span style=\"font-weight: bold\"> Trainable params: </span><span style=\"color: #00af00; text-decoration-color: #00af00\">0</span> (0.00 B)\n",
              "</pre>\n"
            ]
          },
          "metadata": {}
        },
        {
          "output_type": "display_data",
          "data": {
            "text/plain": [
              "\u001b[1m Non-trainable params: \u001b[0m\u001b[38;5;34m0\u001b[0m (0.00 B)\n"
            ],
            "text/html": [
              "<pre style=\"white-space:pre;overflow-x:auto;line-height:normal;font-family:Menlo,'DejaVu Sans Mono',consolas,'Courier New',monospace\"><span style=\"font-weight: bold\"> Non-trainable params: </span><span style=\"color: #00af00; text-decoration-color: #00af00\">0</span> (0.00 B)\n",
              "</pre>\n"
            ]
          },
          "metadata": {}
        }
      ],
      "source": [
        "model.summary()"
      ]
    },
    {
      "cell_type": "markdown",
      "metadata": {
        "id": "HfF5NzntXqSi"
      },
      "source": [
        "# Now train the model for 50 epochs and assign it to a variable called history.\n",
        "\n",
        "Training the model with 50 epochs should get you around 40% accuracy.\n",
        "\n",
        "You can train the model for as many epochs as you like depending on the time and computing constraints you are facing. Ideally train it for a larger amount of epochs than 50.\n",
        "\n",
        "That way you will get better text generation at the end.\n",
        "\n",
        "However, dont waste your time."
      ]
    },
    {
      "cell_type": "code",
      "execution_count": 23,
      "metadata": {
        "id": "AIg2f1HBxqof",
        "tags": [],
        "colab": {
          "base_uri": "https://localhost:8080/"
        },
        "outputId": "940e4ffe-c21b-48f2-edbd-b99e80c377dd"
      },
      "outputs": [
        {
          "output_type": "stream",
          "name": "stdout",
          "text": [
            "Epoch 1/100\n",
            "\u001b[1m484/484\u001b[0m \u001b[32m━━━━━━━━━━━━━━━━━━━━\u001b[0m\u001b[37m\u001b[0m \u001b[1m7s\u001b[0m 15ms/step - accuracy: 0.3743 - loss: 3.1174\n",
            "Epoch 2/100\n",
            "\u001b[1m484/484\u001b[0m \u001b[32m━━━━━━━━━━━━━━━━━━━━\u001b[0m\u001b[37m\u001b[0m \u001b[1m10s\u001b[0m 14ms/step - accuracy: 0.3885 - loss: 3.0770\n",
            "Epoch 3/100\n",
            "\u001b[1m484/484\u001b[0m \u001b[32m━━━━━━━━━━━━━━━━━━━━\u001b[0m\u001b[37m\u001b[0m \u001b[1m10s\u001b[0m 14ms/step - accuracy: 0.3954 - loss: 3.0079\n",
            "Epoch 4/100\n",
            "\u001b[1m484/484\u001b[0m \u001b[32m━━━━━━━━━━━━━━━━━━━━\u001b[0m\u001b[37m\u001b[0m \u001b[1m7s\u001b[0m 15ms/step - accuracy: 0.4040 - loss: 2.9879\n",
            "Epoch 5/100\n",
            "\u001b[1m484/484\u001b[0m \u001b[32m━━━━━━━━━━━━━━━━━━━━\u001b[0m\u001b[37m\u001b[0m \u001b[1m10s\u001b[0m 15ms/step - accuracy: 0.4069 - loss: 2.9271\n",
            "Epoch 6/100\n",
            "\u001b[1m484/484\u001b[0m \u001b[32m━━━━━━━━━━━━━━━━━━━━\u001b[0m\u001b[37m\u001b[0m \u001b[1m10s\u001b[0m 15ms/step - accuracy: 0.4198 - loss: 2.8979\n",
            "Epoch 7/100\n",
            "\u001b[1m484/484\u001b[0m \u001b[32m━━━━━━━━━━━━━━━━━━━━\u001b[0m\u001b[37m\u001b[0m \u001b[1m7s\u001b[0m 14ms/step - accuracy: 0.4286 - loss: 2.8517\n",
            "Epoch 8/100\n",
            "\u001b[1m484/484\u001b[0m \u001b[32m━━━━━━━━━━━━━━━━━━━━\u001b[0m\u001b[37m\u001b[0m \u001b[1m7s\u001b[0m 15ms/step - accuracy: 0.4393 - loss: 2.8194\n",
            "Epoch 9/100\n",
            "\u001b[1m484/484\u001b[0m \u001b[32m━━━━━━━━━━━━━━━━━━━━\u001b[0m\u001b[37m\u001b[0m \u001b[1m10s\u001b[0m 14ms/step - accuracy: 0.4470 - loss: 2.7525\n",
            "Epoch 10/100\n",
            "\u001b[1m484/484\u001b[0m \u001b[32m━━━━━━━━━━━━━━━━━━━━\u001b[0m\u001b[37m\u001b[0m \u001b[1m10s\u001b[0m 13ms/step - accuracy: 0.4567 - loss: 2.7198\n",
            "Epoch 11/100\n",
            "\u001b[1m484/484\u001b[0m \u001b[32m━━━━━━━━━━━━━━━━━━━━\u001b[0m\u001b[37m\u001b[0m \u001b[1m8s\u001b[0m 17ms/step - accuracy: 0.4639 - loss: 2.7058\n",
            "Epoch 12/100\n",
            "\u001b[1m484/484\u001b[0m \u001b[32m━━━━━━━━━━━━━━━━━━━━\u001b[0m\u001b[37m\u001b[0m \u001b[1m8s\u001b[0m 16ms/step - accuracy: 0.4766 - loss: 2.6571\n",
            "Epoch 13/100\n",
            "\u001b[1m484/484\u001b[0m \u001b[32m━━━━━━━━━━━━━━━━━━━━\u001b[0m\u001b[37m\u001b[0m \u001b[1m9s\u001b[0m 14ms/step - accuracy: 0.4819 - loss: 2.6231\n",
            "Epoch 14/100\n",
            "\u001b[1m484/484\u001b[0m \u001b[32m━━━━━━━━━━━━━━━━━━━━\u001b[0m\u001b[37m\u001b[0m \u001b[1m10s\u001b[0m 13ms/step - accuracy: 0.4896 - loss: 2.6078\n",
            "Epoch 15/100\n",
            "\u001b[1m484/484\u001b[0m \u001b[32m━━━━━━━━━━━━━━━━━━━━\u001b[0m\u001b[37m\u001b[0m \u001b[1m11s\u001b[0m 14ms/step - accuracy: 0.4976 - loss: 2.5583\n",
            "Epoch 16/100\n",
            "\u001b[1m484/484\u001b[0m \u001b[32m━━━━━━━━━━━━━━━━━━━━\u001b[0m\u001b[37m\u001b[0m \u001b[1m7s\u001b[0m 15ms/step - accuracy: 0.5027 - loss: 2.5244\n",
            "Epoch 17/100\n",
            "\u001b[1m484/484\u001b[0m \u001b[32m━━━━━━━━━━━━━━━━━━━━\u001b[0m\u001b[37m\u001b[0m \u001b[1m10s\u001b[0m 15ms/step - accuracy: 0.5065 - loss: 2.5208\n",
            "Epoch 18/100\n",
            "\u001b[1m484/484\u001b[0m \u001b[32m━━━━━━━━━━━━━━━━━━━━\u001b[0m\u001b[37m\u001b[0m \u001b[1m11s\u001b[0m 17ms/step - accuracy: 0.5190 - loss: 2.4796\n",
            "Epoch 19/100\n",
            "\u001b[1m484/484\u001b[0m \u001b[32m━━━━━━━━━━━━━━━━━━━━\u001b[0m\u001b[37m\u001b[0m \u001b[1m7s\u001b[0m 15ms/step - accuracy: 0.5263 - loss: 2.4160\n",
            "Epoch 20/100\n",
            "\u001b[1m484/484\u001b[0m \u001b[32m━━━━━━━━━━━━━━━━━━━━\u001b[0m\u001b[37m\u001b[0m \u001b[1m10s\u001b[0m 15ms/step - accuracy: 0.5313 - loss: 2.3833\n",
            "Epoch 21/100\n",
            "\u001b[1m484/484\u001b[0m \u001b[32m━━━━━━━━━━━━━━━━━━━━\u001b[0m\u001b[37m\u001b[0m \u001b[1m10s\u001b[0m 15ms/step - accuracy: 0.5367 - loss: 2.3833\n",
            "Epoch 22/100\n",
            "\u001b[1m484/484\u001b[0m \u001b[32m━━━━━━━━━━━━━━━━━━━━\u001b[0m\u001b[37m\u001b[0m \u001b[1m10s\u001b[0m 14ms/step - accuracy: 0.5469 - loss: 2.3317\n",
            "Epoch 23/100\n",
            "\u001b[1m484/484\u001b[0m \u001b[32m━━━━━━━━━━━━━━━━━━━━\u001b[0m\u001b[37m\u001b[0m \u001b[1m7s\u001b[0m 14ms/step - accuracy: 0.5450 - loss: 2.3155\n",
            "Epoch 24/100\n",
            "\u001b[1m484/484\u001b[0m \u001b[32m━━━━━━━━━━━━━━━━━━━━\u001b[0m\u001b[37m\u001b[0m \u001b[1m7s\u001b[0m 15ms/step - accuracy: 0.5546 - loss: 2.2920\n",
            "Epoch 25/100\n",
            "\u001b[1m484/484\u001b[0m \u001b[32m━━━━━━━━━━━━━━━━━━━━\u001b[0m\u001b[37m\u001b[0m \u001b[1m7s\u001b[0m 14ms/step - accuracy: 0.5496 - loss: 2.2947\n",
            "Epoch 26/100\n",
            "\u001b[1m484/484\u001b[0m \u001b[32m━━━━━━━━━━━━━━━━━━━━\u001b[0m\u001b[37m\u001b[0m \u001b[1m11s\u001b[0m 15ms/step - accuracy: 0.5732 - loss: 2.2209\n",
            "Epoch 27/100\n",
            "\u001b[1m484/484\u001b[0m \u001b[32m━━━━━━━━━━━━━━━━━━━━\u001b[0m\u001b[37m\u001b[0m \u001b[1m10s\u001b[0m 15ms/step - accuracy: 0.5810 - loss: 2.1880\n",
            "Epoch 28/100\n",
            "\u001b[1m484/484\u001b[0m \u001b[32m━━━━━━━━━━━━━━━━━━━━\u001b[0m\u001b[37m\u001b[0m \u001b[1m10s\u001b[0m 15ms/step - accuracy: 0.5797 - loss: 2.1909\n",
            "Epoch 29/100\n",
            "\u001b[1m484/484\u001b[0m \u001b[32m━━━━━━━━━━━━━━━━━━━━\u001b[0m\u001b[37m\u001b[0m \u001b[1m10s\u001b[0m 14ms/step - accuracy: 0.5806 - loss: 2.1954\n",
            "Epoch 30/100\n",
            "\u001b[1m484/484\u001b[0m \u001b[32m━━━━━━━━━━━━━━━━━━━━\u001b[0m\u001b[37m\u001b[0m \u001b[1m10s\u001b[0m 13ms/step - accuracy: 0.5870 - loss: 2.1344\n",
            "Epoch 31/100\n",
            "\u001b[1m484/484\u001b[0m \u001b[32m━━━━━━━━━━━━━━━━━━━━\u001b[0m\u001b[37m\u001b[0m \u001b[1m10s\u001b[0m 13ms/step - accuracy: 0.5849 - loss: 2.1508\n",
            "Epoch 32/100\n",
            "\u001b[1m484/484\u001b[0m \u001b[32m━━━━━━━━━━━━━━━━━━━━\u001b[0m\u001b[37m\u001b[0m \u001b[1m10s\u001b[0m 14ms/step - accuracy: 0.5972 - loss: 2.0866\n",
            "Epoch 33/100\n",
            "\u001b[1m484/484\u001b[0m \u001b[32m━━━━━━━━━━━━━━━━━━━━\u001b[0m\u001b[37m\u001b[0m \u001b[1m11s\u001b[0m 15ms/step - accuracy: 0.6030 - loss: 2.0697\n",
            "Epoch 34/100\n",
            "\u001b[1m484/484\u001b[0m \u001b[32m━━━━━━━━━━━━━━━━━━━━\u001b[0m\u001b[37m\u001b[0m \u001b[1m7s\u001b[0m 14ms/step - accuracy: 0.6105 - loss: 2.0460\n",
            "Epoch 35/100\n",
            "\u001b[1m484/484\u001b[0m \u001b[32m━━━━━━━━━━━━━━━━━━━━\u001b[0m\u001b[37m\u001b[0m \u001b[1m10s\u001b[0m 13ms/step - accuracy: 0.6109 - loss: 2.0376\n",
            "Epoch 36/100\n",
            "\u001b[1m484/484\u001b[0m \u001b[32m━━━━━━━━━━━━━━━━━━━━\u001b[0m\u001b[37m\u001b[0m \u001b[1m10s\u001b[0m 13ms/step - accuracy: 0.6228 - loss: 1.9816\n",
            "Epoch 37/100\n",
            "\u001b[1m484/484\u001b[0m \u001b[32m━━━━━━━━━━━━━━━━━━━━\u001b[0m\u001b[37m\u001b[0m \u001b[1m10s\u001b[0m 13ms/step - accuracy: 0.6191 - loss: 1.9937\n",
            "Epoch 38/100\n",
            "\u001b[1m484/484\u001b[0m \u001b[32m━━━━━━━━━━━━━━━━━━━━\u001b[0m\u001b[37m\u001b[0m \u001b[1m7s\u001b[0m 15ms/step - accuracy: 0.6236 - loss: 1.9670\n",
            "Epoch 39/100\n",
            "\u001b[1m484/484\u001b[0m \u001b[32m━━━━━━━━━━━━━━━━━━━━\u001b[0m\u001b[37m\u001b[0m \u001b[1m10s\u001b[0m 14ms/step - accuracy: 0.6315 - loss: 1.9475\n",
            "Epoch 40/100\n",
            "\u001b[1m484/484\u001b[0m \u001b[32m━━━━━━━━━━━━━━━━━━━━\u001b[0m\u001b[37m\u001b[0m \u001b[1m7s\u001b[0m 14ms/step - accuracy: 0.6361 - loss: 1.9261\n",
            "Epoch 41/100\n",
            "\u001b[1m484/484\u001b[0m \u001b[32m━━━━━━━━━━━━━━━━━━━━\u001b[0m\u001b[37m\u001b[0m \u001b[1m7s\u001b[0m 15ms/step - accuracy: 0.6364 - loss: 1.9324\n",
            "Epoch 42/100\n",
            "\u001b[1m484/484\u001b[0m \u001b[32m━━━━━━━━━━━━━━━━━━━━\u001b[0m\u001b[37m\u001b[0m \u001b[1m10s\u001b[0m 14ms/step - accuracy: 0.6421 - loss: 1.8823\n",
            "Epoch 43/100\n",
            "\u001b[1m484/484\u001b[0m \u001b[32m━━━━━━━━━━━━━━━━━━━━\u001b[0m\u001b[37m\u001b[0m \u001b[1m7s\u001b[0m 14ms/step - accuracy: 0.6378 - loss: 1.8901\n",
            "Epoch 44/100\n",
            "\u001b[1m484/484\u001b[0m \u001b[32m━━━━━━━━━━━━━━━━━━━━\u001b[0m\u001b[37m\u001b[0m \u001b[1m7s\u001b[0m 15ms/step - accuracy: 0.6417 - loss: 1.8770\n",
            "Epoch 45/100\n",
            "\u001b[1m484/484\u001b[0m \u001b[32m━━━━━━━━━━━━━━━━━━━━\u001b[0m\u001b[37m\u001b[0m \u001b[1m6s\u001b[0m 13ms/step - accuracy: 0.6494 - loss: 1.8545\n",
            "Epoch 46/100\n",
            "\u001b[1m484/484\u001b[0m \u001b[32m━━━━━━━━━━━━━━━━━━━━\u001b[0m\u001b[37m\u001b[0m \u001b[1m11s\u001b[0m 15ms/step - accuracy: 0.6497 - loss: 1.8403\n",
            "Epoch 47/100\n",
            "\u001b[1m484/484\u001b[0m \u001b[32m━━━━━━━━━━━━━━━━━━━━\u001b[0m\u001b[37m\u001b[0m \u001b[1m10s\u001b[0m 15ms/step - accuracy: 0.6549 - loss: 1.8325\n",
            "Epoch 48/100\n",
            "\u001b[1m484/484\u001b[0m \u001b[32m━━━━━━━━━━━━━━━━━━━━\u001b[0m\u001b[37m\u001b[0m \u001b[1m10s\u001b[0m 15ms/step - accuracy: 0.6592 - loss: 1.8060\n",
            "Epoch 49/100\n",
            "\u001b[1m484/484\u001b[0m \u001b[32m━━━━━━━━━━━━━━━━━━━━\u001b[0m\u001b[37m\u001b[0m \u001b[1m6s\u001b[0m 13ms/step - accuracy: 0.6690 - loss: 1.7704\n",
            "Epoch 50/100\n",
            "\u001b[1m484/484\u001b[0m \u001b[32m━━━━━━━━━━━━━━━━━━━━\u001b[0m\u001b[37m\u001b[0m \u001b[1m10s\u001b[0m 14ms/step - accuracy: 0.6701 - loss: 1.7410\n",
            "Epoch 51/100\n",
            "\u001b[1m484/484\u001b[0m \u001b[32m━━━━━━━━━━━━━━━━━━━━\u001b[0m\u001b[37m\u001b[0m \u001b[1m7s\u001b[0m 15ms/step - accuracy: 0.6702 - loss: 1.7499\n",
            "Epoch 52/100\n",
            "\u001b[1m484/484\u001b[0m \u001b[32m━━━━━━━━━━━━━━━━━━━━\u001b[0m\u001b[37m\u001b[0m \u001b[1m7s\u001b[0m 14ms/step - accuracy: 0.6708 - loss: 1.7275\n",
            "Epoch 53/100\n",
            "\u001b[1m484/484\u001b[0m \u001b[32m━━━━━━━━━━━━━━━━━━━━\u001b[0m\u001b[37m\u001b[0m \u001b[1m10s\u001b[0m 14ms/step - accuracy: 0.6779 - loss: 1.7122\n",
            "Epoch 54/100\n",
            "\u001b[1m484/484\u001b[0m \u001b[32m━━━━━━━━━━━━━━━━━━━━\u001b[0m\u001b[37m\u001b[0m \u001b[1m7s\u001b[0m 15ms/step - accuracy: 0.6875 - loss: 1.6872\n",
            "Epoch 55/100\n",
            "\u001b[1m484/484\u001b[0m \u001b[32m━━━━━━━━━━━━━━━━━━━━\u001b[0m\u001b[37m\u001b[0m \u001b[1m7s\u001b[0m 14ms/step - accuracy: 0.6805 - loss: 1.6975\n",
            "Epoch 56/100\n",
            "\u001b[1m484/484\u001b[0m \u001b[32m━━━━━━━━━━━━━━━━━━━━\u001b[0m\u001b[37m\u001b[0m \u001b[1m7s\u001b[0m 15ms/step - accuracy: 0.6860 - loss: 1.6848\n",
            "Epoch 57/100\n",
            "\u001b[1m484/484\u001b[0m \u001b[32m━━━━━━━━━━━━━━━━━━━━\u001b[0m\u001b[37m\u001b[0m \u001b[1m10s\u001b[0m 15ms/step - accuracy: 0.6855 - loss: 1.6643\n",
            "Epoch 58/100\n",
            "\u001b[1m484/484\u001b[0m \u001b[32m━━━━━━━━━━━━━━━━━━━━\u001b[0m\u001b[37m\u001b[0m \u001b[1m7s\u001b[0m 14ms/step - accuracy: 0.6946 - loss: 1.6508\n",
            "Epoch 59/100\n",
            "\u001b[1m484/484\u001b[0m \u001b[32m━━━━━━━━━━━━━━━━━━━━\u001b[0m\u001b[37m\u001b[0m \u001b[1m10s\u001b[0m 14ms/step - accuracy: 0.6909 - loss: 1.6500\n",
            "Epoch 60/100\n",
            "\u001b[1m484/484\u001b[0m \u001b[32m━━━━━━━━━━━━━━━━━━━━\u001b[0m\u001b[37m\u001b[0m \u001b[1m7s\u001b[0m 15ms/step - accuracy: 0.6945 - loss: 1.6316\n",
            "Epoch 61/100\n",
            "\u001b[1m484/484\u001b[0m \u001b[32m━━━━━━━━━━━━━━━━━━━━\u001b[0m\u001b[37m\u001b[0m \u001b[1m10s\u001b[0m 14ms/step - accuracy: 0.6976 - loss: 1.6155\n",
            "Epoch 62/100\n",
            "\u001b[1m484/484\u001b[0m \u001b[32m━━━━━━━━━━━━━━━━━━━━\u001b[0m\u001b[37m\u001b[0m \u001b[1m10s\u001b[0m 14ms/step - accuracy: 0.7026 - loss: 1.5881\n",
            "Epoch 63/100\n",
            "\u001b[1m484/484\u001b[0m \u001b[32m━━━━━━━━━━━━━━━━━━━━\u001b[0m\u001b[37m\u001b[0m \u001b[1m7s\u001b[0m 15ms/step - accuracy: 0.6988 - loss: 1.6194\n",
            "Epoch 64/100\n",
            "\u001b[1m484/484\u001b[0m \u001b[32m━━━━━━━━━━━━━━━━━━━━\u001b[0m\u001b[37m\u001b[0m \u001b[1m10s\u001b[0m 15ms/step - accuracy: 0.7050 - loss: 1.5661\n",
            "Epoch 65/100\n",
            "\u001b[1m484/484\u001b[0m \u001b[32m━━━━━━━━━━━━━━━━━━━━\u001b[0m\u001b[37m\u001b[0m \u001b[1m7s\u001b[0m 14ms/step - accuracy: 0.6997 - loss: 1.5778\n",
            "Epoch 66/100\n",
            "\u001b[1m484/484\u001b[0m \u001b[32m━━━━━━━━━━━━━━━━━━━━\u001b[0m\u001b[37m\u001b[0m \u001b[1m10s\u001b[0m 14ms/step - accuracy: 0.7040 - loss: 1.5749\n",
            "Epoch 67/100\n",
            "\u001b[1m484/484\u001b[0m \u001b[32m━━━━━━━━━━━━━━━━━━━━\u001b[0m\u001b[37m\u001b[0m \u001b[1m11s\u001b[0m 15ms/step - accuracy: 0.7079 - loss: 1.5575\n",
            "Epoch 68/100\n",
            "\u001b[1m484/484\u001b[0m \u001b[32m━━━━━━━━━━━━━━━━━━━━\u001b[0m\u001b[37m\u001b[0m \u001b[1m7s\u001b[0m 15ms/step - accuracy: 0.7213 - loss: 1.5155\n",
            "Epoch 69/100\n",
            "\u001b[1m484/484\u001b[0m \u001b[32m━━━━━━━━━━━━━━━━━━━━\u001b[0m\u001b[37m\u001b[0m \u001b[1m7s\u001b[0m 14ms/step - accuracy: 0.7171 - loss: 1.5232\n",
            "Epoch 70/100\n",
            "\u001b[1m484/484\u001b[0m \u001b[32m━━━━━━━━━━━━━━━━━━━━\u001b[0m\u001b[37m\u001b[0m \u001b[1m10s\u001b[0m 14ms/step - accuracy: 0.7184 - loss: 1.5256\n",
            "Epoch 71/100\n",
            "\u001b[1m484/484\u001b[0m \u001b[32m━━━━━━━━━━━━━━━━━━━━\u001b[0m\u001b[37m\u001b[0m \u001b[1m7s\u001b[0m 15ms/step - accuracy: 0.7202 - loss: 1.5011\n",
            "Epoch 72/100\n",
            "\u001b[1m484/484\u001b[0m \u001b[32m━━━━━━━━━━━━━━━━━━━━\u001b[0m\u001b[37m\u001b[0m \u001b[1m7s\u001b[0m 14ms/step - accuracy: 0.7210 - loss: 1.4929\n",
            "Epoch 73/100\n",
            "\u001b[1m484/484\u001b[0m \u001b[32m━━━━━━━━━━━━━━━━━━━━\u001b[0m\u001b[37m\u001b[0m \u001b[1m10s\u001b[0m 14ms/step - accuracy: 0.7233 - loss: 1.4922\n",
            "Epoch 74/100\n",
            "\u001b[1m484/484\u001b[0m \u001b[32m━━━━━━━━━━━━━━━━━━━━\u001b[0m\u001b[37m\u001b[0m \u001b[1m11s\u001b[0m 15ms/step - accuracy: 0.7287 - loss: 1.4631\n",
            "Epoch 75/100\n",
            "\u001b[1m484/484\u001b[0m \u001b[32m━━━━━━━━━━━━━━━━━━━━\u001b[0m\u001b[37m\u001b[0m \u001b[1m7s\u001b[0m 15ms/step - accuracy: 0.7260 - loss: 1.4720\n",
            "Epoch 76/100\n",
            "\u001b[1m484/484\u001b[0m \u001b[32m━━━━━━━━━━━━━━━━━━━━\u001b[0m\u001b[37m\u001b[0m \u001b[1m7s\u001b[0m 14ms/step - accuracy: 0.7303 - loss: 1.4548\n",
            "Epoch 77/100\n",
            "\u001b[1m484/484\u001b[0m \u001b[32m━━━━━━━━━━━━━━━━━━━━\u001b[0m\u001b[37m\u001b[0m \u001b[1m7s\u001b[0m 15ms/step - accuracy: 0.7247 - loss: 1.4744\n",
            "Epoch 78/100\n",
            "\u001b[1m484/484\u001b[0m \u001b[32m━━━━━━━━━━━━━━━━━━━━\u001b[0m\u001b[37m\u001b[0m \u001b[1m6s\u001b[0m 13ms/step - accuracy: 0.7220 - loss: 1.4668\n",
            "Epoch 79/100\n",
            "\u001b[1m484/484\u001b[0m \u001b[32m━━━━━━━━━━━━━━━━━━━━\u001b[0m\u001b[37m\u001b[0m \u001b[1m7s\u001b[0m 15ms/step - accuracy: 0.7329 - loss: 1.4480\n",
            "Epoch 80/100\n",
            "\u001b[1m484/484\u001b[0m \u001b[32m━━━━━━━━━━━━━━━━━━━━\u001b[0m\u001b[37m\u001b[0m \u001b[1m10s\u001b[0m 15ms/step - accuracy: 0.7277 - loss: 1.4372\n",
            "Epoch 81/100\n",
            "\u001b[1m484/484\u001b[0m \u001b[32m━━━━━━━━━━━━━━━━━━━━\u001b[0m\u001b[37m\u001b[0m \u001b[1m10s\u001b[0m 14ms/step - accuracy: 0.7422 - loss: 1.3990\n",
            "Epoch 82/100\n",
            "\u001b[1m484/484\u001b[0m \u001b[32m━━━━━━━━━━━━━━━━━━━━\u001b[0m\u001b[37m\u001b[0m \u001b[1m7s\u001b[0m 15ms/step - accuracy: 0.7491 - loss: 1.3672\n",
            "Epoch 83/100\n",
            "\u001b[1m484/484\u001b[0m \u001b[32m━━━━━━━━━━━━━━━━━━━━\u001b[0m\u001b[37m\u001b[0m \u001b[1m11s\u001b[0m 16ms/step - accuracy: 0.7376 - loss: 1.4154\n",
            "Epoch 84/100\n",
            "\u001b[1m484/484\u001b[0m \u001b[32m━━━━━━━━━━━━━━━━━━━━\u001b[0m\u001b[37m\u001b[0m \u001b[1m7s\u001b[0m 14ms/step - accuracy: 0.7406 - loss: 1.3951\n",
            "Epoch 85/100\n",
            "\u001b[1m484/484\u001b[0m \u001b[32m━━━━━━━━━━━━━━━━━━━━\u001b[0m\u001b[37m\u001b[0m \u001b[1m10s\u001b[0m 14ms/step - accuracy: 0.7456 - loss: 1.3761\n",
            "Epoch 86/100\n",
            "\u001b[1m484/484\u001b[0m \u001b[32m━━━━━━━━━━━━━━━━━━━━\u001b[0m\u001b[37m\u001b[0m \u001b[1m7s\u001b[0m 15ms/step - accuracy: 0.7484 - loss: 1.3734\n",
            "Epoch 87/100\n",
            "\u001b[1m484/484\u001b[0m \u001b[32m━━━━━━━━━━━━━━━━━━━━\u001b[0m\u001b[37m\u001b[0m \u001b[1m11s\u001b[0m 16ms/step - accuracy: 0.7462 - loss: 1.3702\n",
            "Epoch 88/100\n",
            "\u001b[1m484/484\u001b[0m \u001b[32m━━━━━━━━━━━━━━━━━━━━\u001b[0m\u001b[37m\u001b[0m \u001b[1m10s\u001b[0m 15ms/step - accuracy: 0.7450 - loss: 1.3793\n",
            "Epoch 89/100\n",
            "\u001b[1m484/484\u001b[0m \u001b[32m━━━━━━━━━━━━━━━━━━━━\u001b[0m\u001b[37m\u001b[0m \u001b[1m10s\u001b[0m 14ms/step - accuracy: 0.7520 - loss: 1.3385\n",
            "Epoch 90/100\n",
            "\u001b[1m484/484\u001b[0m \u001b[32m━━━━━━━━━━━━━━━━━━━━\u001b[0m\u001b[37m\u001b[0m \u001b[1m10s\u001b[0m 14ms/step - accuracy: 0.7487 - loss: 1.3539\n",
            "Epoch 91/100\n",
            "\u001b[1m484/484\u001b[0m \u001b[32m━━━━━━━━━━━━━━━━━━━━\u001b[0m\u001b[37m\u001b[0m \u001b[1m11s\u001b[0m 15ms/step - accuracy: 0.7430 - loss: 1.3612\n",
            "Epoch 92/100\n",
            "\u001b[1m484/484\u001b[0m \u001b[32m━━━━━━━━━━━━━━━━━━━━\u001b[0m\u001b[37m\u001b[0m \u001b[1m7s\u001b[0m 15ms/step - accuracy: 0.7453 - loss: 1.3595\n",
            "Epoch 93/100\n",
            "\u001b[1m484/484\u001b[0m \u001b[32m━━━━━━━━━━━━━━━━━━━━\u001b[0m\u001b[37m\u001b[0m \u001b[1m7s\u001b[0m 14ms/step - accuracy: 0.7548 - loss: 1.3251\n",
            "Epoch 94/100\n",
            "\u001b[1m484/484\u001b[0m \u001b[32m━━━━━━━━━━━━━━━━━━━━\u001b[0m\u001b[37m\u001b[0m \u001b[1m8s\u001b[0m 16ms/step - accuracy: 0.7572 - loss: 1.3281\n",
            "Epoch 95/100\n",
            "\u001b[1m484/484\u001b[0m \u001b[32m━━━━━━━━━━━━━━━━━━━━\u001b[0m\u001b[37m\u001b[0m \u001b[1m10s\u001b[0m 16ms/step - accuracy: 0.7530 - loss: 1.3252\n",
            "Epoch 96/100\n",
            "\u001b[1m484/484\u001b[0m \u001b[32m━━━━━━━━━━━━━━━━━━━━\u001b[0m\u001b[37m\u001b[0m \u001b[1m13s\u001b[0m 21ms/step - accuracy: 0.7514 - loss: 1.3216\n",
            "Epoch 97/100\n",
            "\u001b[1m484/484\u001b[0m \u001b[32m━━━━━━━━━━━━━━━━━━━━\u001b[0m\u001b[37m\u001b[0m \u001b[1m18s\u001b[0m 16ms/step - accuracy: 0.7649 - loss: 1.2809\n",
            "Epoch 98/100\n",
            "\u001b[1m484/484\u001b[0m \u001b[32m━━━━━━━━━━━━━━━━━━━━\u001b[0m\u001b[37m\u001b[0m \u001b[1m8s\u001b[0m 16ms/step - accuracy: 0.7492 - loss: 1.3248\n",
            "Epoch 99/100\n",
            "\u001b[1m484/484\u001b[0m \u001b[32m━━━━━━━━━━━━━━━━━━━━\u001b[0m\u001b[37m\u001b[0m \u001b[1m7s\u001b[0m 14ms/step - accuracy: 0.7518 - loss: 1.3278\n",
            "Epoch 100/100\n",
            "\u001b[1m484/484\u001b[0m \u001b[32m━━━━━━━━━━━━━━━━━━━━\u001b[0m\u001b[37m\u001b[0m \u001b[1m10s\u001b[0m 14ms/step - accuracy: 0.7615 - loss: 1.2743\n"
          ]
        }
      ],
      "source": [
        "history = model.fit(predictors, labels, epochs=100, verbose=1)"
      ]
    },
    {
      "cell_type": "markdown",
      "metadata": {
        "id": "I_uSaridXqSi"
      },
      "source": [
        "# Use plt from matplotlib to plot the training accuracy over epochs and the loss over epochs"
      ]
    },
    {
      "cell_type": "markdown",
      "metadata": {
        "id": "u2dN5evLXqSi"
      },
      "source": [
        "First you will have to get the accuracy and loss data over epochs, you can do this by using methods on your model."
      ]
    },
    {
      "cell_type": "code",
      "execution_count": 25,
      "metadata": {
        "id": "1fXTEO3GJ282",
        "tags": [],
        "colab": {
          "base_uri": "https://localhost:8080/",
          "height": 697
        },
        "outputId": "b85cd64e-a325-4090-fca4-e4e64061c4ae"
      },
      "outputs": [
        {
          "output_type": "display_data",
          "data": {
            "text/plain": [
              "<Figure size 1200x600 with 1 Axes>"
            ],
            "image/png": "[encoded data removed]"
          },
          "metadata": {}
        },
        {
          "output_type": "display_data",
          "data": {
            "text/plain": [
              "<Figure size 1200x600 with 1 Axes>"
            ],
            "image/png": "[encoded data removed]"
          },
          "metadata": {}
        }
      ],
      "source": [
        "import matplotlib.pyplot as plt\n",
        "\n",
        "# Plot accuracy\n",
        "plt.figure(figsize=(12, 6))\n",
        "plt.plot(history.history['accuracy'])\n",
        "plt.title('Model Accuracy')\n",
        "plt.ylabel('Accuracy')\n",
        "plt.xlabel('Epoch')\n",
        "plt.show()\n",
        "\n",
        "# Plot loss\n",
        "plt.figure(figsize=(12, 6))\n",
        "plt.plot(history.history['loss'])\n",
        "plt.title('Model Loss')\n",
        "plt.ylabel('Loss')\n",
        "plt.xlabel('Epoch')\n",
        "plt.show()"
      ]
    },
    {
      "cell_type": "code",
      "source": [
        "model.save('shakespeare_text_generator.h5')"
      ],
      "metadata": {
        "colab": {
          "base_uri": "https://localhost:8080/"
        },
        "id": "Dj_8LiDfnh4B",
        "outputId": "01e55b5c-5f0c-46d4-87e8-c4459b139db8"
      },
      "execution_count": 26,
      "outputs": [
        {
          "output_type": "stream",
          "name": "stderr",
          "text": [
            "WARNING:absl:You are saving your model as an HDF5 file via `model.save()` or `keras.saving.save_model(model)`. This file format is considered legacy. We recommend using instead the native Keras format, e.g. `model.save('my_model.keras')` or `keras.saving.save_model(model, 'my_model.keras')`. \n"
          ]
        }
      ]
    },
    {
      "cell_type": "markdown",
      "metadata": {
        "id": "339V990YXqSi"
      },
      "source": [
        "# Generate text with the model based on a seed text\n",
        "\n",
        "Now you will create two variables :\n",
        "\n",
        "- seed_text = 'Write the text you want the model to use as a starting point to generate the next words'\n",
        "- next_words = number_of_words_you_want_the_model_to_generate\n",
        "\n",
        "Please change number_of_words_you_want_the_model_to_generate by an actual integer."
      ]
    },
    {
      "cell_type": "code",
      "execution_count": 27,
      "metadata": {
        "id": "0YkrgoPqXqSi"
      },
      "outputs": [],
      "source": [
        "seed_text = \"I have a dream\"\n",
        "next_words = 5"
      ]
    },
    {
      "cell_type": "markdown",
      "metadata": {
        "id": "lXSqaXwFXqSi"
      },
      "source": [
        "Now create a loop that runs based on the next_words variable and generates new text based on your seed_text input string. Print the full text with the generated text at the end.\n",
        "\n",
        "This time you dont get detailed instructions.\n",
        "\n",
        "Have fun!"
      ]
    },
    {
      "cell_type": "code",
      "execution_count": 32,
      "metadata": {
        "id": "6Vc6PHgxa6Hm",
        "tags": [],
        "colab": {
          "base_uri": "https://localhost:8080/"
        },
        "outputId": "3e0ba17a-9a3e-44d3-a1a9-f3227cb13ec5"
      },
      "outputs": [
        {
          "output_type": "stream",
          "name": "stdout",
          "text": [
            "I have a dream is weak relief not approve\n"
          ]
        }
      ],
      "source": [
        "seed_text = \"I have a dream\"\n",
        "next_words = 5\n",
        "\n",
        "for _ in range(next_words):\n",
        "    token_list = tokenizer.texts_to_sequences([seed_text])[0]\n",
        "    token_list = pad_sequences([token_list], maxlen=max_sequence_len-1, padding='pre')\n",
        "    predicted_probabilities = model.predict(token_list, verbose=0)\n",
        "    predicted_word_index = np.argmax(predicted_probabilities, axis=-1)[0]\n",
        "    output_word = \"\"\n",
        "    for word, index in tokenizer.word_index.items():\n",
        "        if index == predicted_word_index:\n",
        "            output_word = word\n",
        "            break\n",
        "    seed_text += \" \" + output_word\n",
        "\n",
        "print(seed_text)"
      ]
    },
    {
      "cell_type": "markdown",
      "metadata": {
        "id": "XXJkqpfZXqSj"
      },
      "source": [
        "Experiment with at least 3 different seed_text strings and see what happens!"
      ]
    },
    {
      "cell_type": "code",
      "execution_count": 30,
      "metadata": {
        "colab": {
          "base_uri": "https://localhost:8080/"
        },
        "id": "xF2qxDZSXqSj",
        "outputId": "8443d302-4d93-40d8-8474-f16a7e5e193f"
      },
      "outputs": [
        {
          "output_type": "stream",
          "name": "stdout",
          "text": [
            "Roses are red than the thing in vassalage\n"
          ]
        }
      ],
      "source": [
        "seed_text = \"Roses are red\"\n",
        "next_words = 5\n",
        "\n",
        "for _ in range(next_words):\n",
        "    token_list = tokenizer.texts_to_sequences([seed_text])[0]\n",
        "    token_list = pad_sequences([token_list], maxlen=max_sequence_len-1, padding='pre')\n",
        "    predicted_probabilities = model.predict(token_list, verbose=0)\n",
        "    predicted_word_index = np.argmax(predicted_probabilities, axis=-1)[0]\n",
        "    output_word = \"\"\n",
        "    for word, index in tokenizer.word_index.items():\n",
        "        if index == predicted_word_index:\n",
        "            output_word = word\n",
        "            break\n",
        "    seed_text += \" \" + output_word\n",
        "\n",
        "print(seed_text)"
      ]
    },
    {
      "cell_type": "code",
      "source": [
        "seed_text = \"The sky is blue and\"\n",
        "next_words = 5\n",
        "\n",
        "for _ in range(next_words):\n",
        "    token_list = tokenizer.texts_to_sequences([seed_text])[0]\n",
        "    token_list = pad_sequences([token_list], maxlen=max_sequence_len-1, padding='pre')\n",
        "    predicted_probabilities = model.predict(token_list, verbose=0)\n",
        "    predicted_word_index = np.argmax(predicted_probabilities, axis=-1)[0]\n",
        "    output_word = \"\"\n",
        "    for word, index in tokenizer.word_index.items():\n",
        "        if index == predicted_word_index:\n",
        "            output_word = word\n",
        "            break\n",
        "    seed_text += \" \" + output_word\n",
        "\n",
        "print(seed_text)"
      ],
      "metadata": {
        "colab": {
          "base_uri": "https://localhost:8080/"
        },
        "id": "ElnldjN4ohI6",
        "outputId": "9fc79d1f-ee86-47c6-832e-f33f29f46e8d"
      },
      "execution_count": 39,
      "outputs": [
        {
          "output_type": "stream",
          "name": "stdout",
          "text": [
            "The sky is blue and that which he is proceeds\n"
          ]
        }
      ]
    },
    {
      "cell_type": "code",
      "source": [
        "\n",
        "\n",
        "seed_text = \"Hello world\"\n",
        "next_words = 2\n",
        "\n",
        "for _ in range(next_words):\n",
        "    token_list = tokenizer.texts_to_sequences([seed_text])[0]\n",
        "    token_list = pad_sequences([token_list], maxlen=max_sequence_len-1, padding='pre')\n",
        "    predicted_probabilities = model.predict(token_list, verbose=0)\n",
        "    predicted_word_index = np.argmax(predicted_probabilities, axis=-1)[0]\n",
        "    output_word = \"\"\n",
        "    for word, index in tokenizer.word_index.items():\n",
        "        if index == predicted_word_index:\n",
        "            output_word = word\n",
        "            break\n",
        "    seed_text += \" \" + output_word\n",
        "\n",
        "print(seed_text)"
      ],
      "metadata": {
        "colab": {
          "base_uri": "https://localhost:8080/"
        },
        "id": "GXoj1YJ7o8K5",
        "outputId": "2fce7440-584f-4c20-9809-5edee0add28f"
      },
      "execution_count": 37,
      "outputs": [
        {
          "output_type": "stream",
          "name": "stdout",
          "text": [
            "Hello world still behold\n"
          ]
        }
      ]
    },
    {
      "cell_type": "code",
      "source": [],
      "metadata": {
        "id": "AU_8jSZjpCnE"
      },
      "execution_count": null,
      "outputs": []
    }
  ],
  "metadata": {
    "accelerator": "GPU",
    "colab": {
      "provenance": [],
      "toc_visible": true,
      "gpuType": "T4"
    },
    "kernelspec": {
      "display_name": "Python 3",
      "name": "python3"
    },
    "language_info": {
      "codemirror_mode": {
        "name": "ipython",
        "version": 3
      },
      "file_extension": ".py",
      "mimetype": "text/x-python",
      "name": "python",
      "nbconvert_exporter": "python",
      "pygments_lexer": "ipython3",
      "version": "3.13.5"
    }
  },
  "nbformat": 4,
  "nbformat_minor": 0
}